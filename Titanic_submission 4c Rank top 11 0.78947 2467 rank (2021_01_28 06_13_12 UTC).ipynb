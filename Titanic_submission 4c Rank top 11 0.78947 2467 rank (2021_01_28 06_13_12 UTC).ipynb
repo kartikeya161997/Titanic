{
 "cells": [
  {
   "cell_type": "code",
   "execution_count": 1,
   "metadata": {
    "_cell_guid": "b1076dfc-b9ad-4769-8c92-a6c4dae69d19",
    "_uuid": "8f2839f25d086af736a60e9eeb907d3b93b6e0e5"
   },
   "outputs": [
    {
     "name": "stderr",
     "output_type": "stream",
     "text": [
      "C:\\Users\\hp\\Anaconda3\\lib\\site-packages\\statsmodels\\tools\\_testing.py:19: FutureWarning: pandas.util.testing is deprecated. Use the functions in the public API at pandas.testing instead.\n",
      "  import pandas.util.testing as tm\n"
     ]
    }
   ],
   "source": [
    "# This Python 3 environment comes with many helpful analytics libraries installed\n",
    "# It is defined by the kaggle/python Docker image: https://github.com/kaggle/docker-python\n",
    "# For example, here's several helpful packages to load\n",
    "\n",
    "import numpy as np # linear algebra\n",
    "import pandas as pd # data processing, CSV file I/O (e.g. pd.read_csv)\n",
    "import matplotlib.pyplot as plt\n",
    "import seaborn as sns\n",
    "from sklearn.preprocessing import LabelEncoder\n",
    "from sklearn.linear_model import LogisticRegression\n",
    "from sklearn.model_selection import train_test_split \n",
    "from sklearn.metrics import classification_report,confusion_matrix\n",
    "from sklearn.metrics import roc_auc_score\n",
    "from sklearn.metrics import roc_curve\n",
    "from sklearn.svm import SVC\n",
    "from sklearn.svm import LinearSVC\n",
    "from sklearn.preprocessing import StandardScaler\n",
    "from sklearn.pipeline import make_pipeline\n",
    "from sklearn.tree import DecisionTreeClassifier\n",
    "from sklearn.metrics import accuracy_score\n",
    "from sklearn.model_selection import cross_val_score\n",
    "from sklearn import tree\n",
    "from sklearn.ensemble import RandomForestClassifier\n",
    "from sklearn.model_selection import GridSearchCV\n",
    "from sklearn.ensemble import VotingClassifier\n",
    "\n",
    "# Input data files are available in the read-only \"../input/\" directory\n",
    "# For example, running this (by clicking run or pressing Shift+Enter) will list all files under the input directory\n",
    "\n",
    "import os\n",
    "for dirname, _, filenames in os.walk('/kaggle/input'):\n",
    "    for filename in filenames:\n",
    "        print(os.path.join(dirname, filename))\n",
    "\n",
    "# You can write up to 20GB to the current directory (/kaggle/working/) that gets preserved as output when you create a version using \"Save & Run All\" \n",
    "# You can also write temporary files to /kaggle/temp/, but they won't be saved outside of the current session"
   ]
  },
  {
   "cell_type": "code",
   "execution_count": 2,
   "metadata": {},
   "outputs": [
    {
     "data": {
      "text/html": [
       "<div>\n",
       "<style scoped>\n",
       "    .dataframe tbody tr th:only-of-type {\n",
       "        vertical-align: middle;\n",
       "    }\n",
       "\n",
       "    .dataframe tbody tr th {\n",
       "        vertical-align: top;\n",
       "    }\n",
       "\n",
       "    .dataframe thead th {\n",
       "        text-align: right;\n",
       "    }\n",
       "</style>\n",
       "<table border=\"1\" class=\"dataframe\">\n",
       "  <thead>\n",
       "    <tr style=\"text-align: right;\">\n",
       "      <th></th>\n",
       "      <th>PassengerId</th>\n",
       "      <th>Survived</th>\n",
       "      <th>Pclass</th>\n",
       "      <th>Name</th>\n",
       "      <th>Sex</th>\n",
       "      <th>Age</th>\n",
       "      <th>SibSp</th>\n",
       "      <th>Parch</th>\n",
       "      <th>Ticket</th>\n",
       "      <th>Fare</th>\n",
       "      <th>Cabin</th>\n",
       "      <th>Embarked</th>\n",
       "    </tr>\n",
       "  </thead>\n",
       "  <tbody>\n",
       "    <tr>\n",
       "      <th>0</th>\n",
       "      <td>1</td>\n",
       "      <td>0</td>\n",
       "      <td>3</td>\n",
       "      <td>Braund, Mr. Owen Harris</td>\n",
       "      <td>male</td>\n",
       "      <td>22.0</td>\n",
       "      <td>1</td>\n",
       "      <td>0</td>\n",
       "      <td>A/5 21171</td>\n",
       "      <td>7.2500</td>\n",
       "      <td>NaN</td>\n",
       "      <td>S</td>\n",
       "    </tr>\n",
       "    <tr>\n",
       "      <th>1</th>\n",
       "      <td>2</td>\n",
       "      <td>1</td>\n",
       "      <td>1</td>\n",
       "      <td>Cumings, Mrs. John Bradley (Florence Briggs Th...</td>\n",
       "      <td>female</td>\n",
       "      <td>38.0</td>\n",
       "      <td>1</td>\n",
       "      <td>0</td>\n",
       "      <td>PC 17599</td>\n",
       "      <td>71.2833</td>\n",
       "      <td>C85</td>\n",
       "      <td>C</td>\n",
       "    </tr>\n",
       "    <tr>\n",
       "      <th>2</th>\n",
       "      <td>3</td>\n",
       "      <td>1</td>\n",
       "      <td>3</td>\n",
       "      <td>Heikkinen, Miss. Laina</td>\n",
       "      <td>female</td>\n",
       "      <td>26.0</td>\n",
       "      <td>0</td>\n",
       "      <td>0</td>\n",
       "      <td>STON/O2. 3101282</td>\n",
       "      <td>7.9250</td>\n",
       "      <td>NaN</td>\n",
       "      <td>S</td>\n",
       "    </tr>\n",
       "    <tr>\n",
       "      <th>3</th>\n",
       "      <td>4</td>\n",
       "      <td>1</td>\n",
       "      <td>1</td>\n",
       "      <td>Futrelle, Mrs. Jacques Heath (Lily May Peel)</td>\n",
       "      <td>female</td>\n",
       "      <td>35.0</td>\n",
       "      <td>1</td>\n",
       "      <td>0</td>\n",
       "      <td>113803</td>\n",
       "      <td>53.1000</td>\n",
       "      <td>C123</td>\n",
       "      <td>S</td>\n",
       "    </tr>\n",
       "    <tr>\n",
       "      <th>4</th>\n",
       "      <td>5</td>\n",
       "      <td>0</td>\n",
       "      <td>3</td>\n",
       "      <td>Allen, Mr. William Henry</td>\n",
       "      <td>male</td>\n",
       "      <td>35.0</td>\n",
       "      <td>0</td>\n",
       "      <td>0</td>\n",
       "      <td>373450</td>\n",
       "      <td>8.0500</td>\n",
       "      <td>NaN</td>\n",
       "      <td>S</td>\n",
       "    </tr>\n",
       "  </tbody>\n",
       "</table>\n",
       "</div>"
      ],
      "text/plain": [
       "   PassengerId  Survived  Pclass  \\\n",
       "0            1         0       3   \n",
       "1            2         1       1   \n",
       "2            3         1       3   \n",
       "3            4         1       1   \n",
       "4            5         0       3   \n",
       "\n",
       "                                                Name     Sex   Age  SibSp  \\\n",
       "0                            Braund, Mr. Owen Harris    male  22.0      1   \n",
       "1  Cumings, Mrs. John Bradley (Florence Briggs Th...  female  38.0      1   \n",
       "2                             Heikkinen, Miss. Laina  female  26.0      0   \n",
       "3       Futrelle, Mrs. Jacques Heath (Lily May Peel)  female  35.0      1   \n",
       "4                           Allen, Mr. William Henry    male  35.0      0   \n",
       "\n",
       "   Parch            Ticket     Fare Cabin Embarked  \n",
       "0      0         A/5 21171   7.2500   NaN        S  \n",
       "1      0          PC 17599  71.2833   C85        C  \n",
       "2      0  STON/O2. 3101282   7.9250   NaN        S  \n",
       "3      0            113803  53.1000  C123        S  \n",
       "4      0            373450   8.0500   NaN        S  "
      ]
     },
     "execution_count": 2,
     "metadata": {},
     "output_type": "execute_result"
    }
   ],
   "source": [
    "df_train=pd.read_csv(\"train.csv\")\n",
    "df_test=pd.read_csv(\"test.csv\")\n",
    "df_train.head()"
   ]
  },
  {
   "cell_type": "code",
   "execution_count": 3,
   "metadata": {},
   "outputs": [
    {
     "name": "stdout",
     "output_type": "stream",
     "text": [
      "<class 'pandas.core.frame.DataFrame'>\n",
      "RangeIndex: 891 entries, 0 to 890\n",
      "Data columns (total 12 columns):\n",
      " #   Column       Non-Null Count  Dtype  \n",
      "---  ------       --------------  -----  \n",
      " 0   PassengerId  891 non-null    int64  \n",
      " 1   Survived     891 non-null    int64  \n",
      " 2   Pclass       891 non-null    int64  \n",
      " 3   Name         891 non-null    object \n",
      " 4   Sex          891 non-null    object \n",
      " 5   Age          714 non-null    float64\n",
      " 6   SibSp        891 non-null    int64  \n",
      " 7   Parch        891 non-null    int64  \n",
      " 8   Ticket       891 non-null    object \n",
      " 9   Fare         891 non-null    float64\n",
      " 10  Cabin        204 non-null    object \n",
      " 11  Embarked     889 non-null    object \n",
      "dtypes: float64(2), int64(5), object(5)\n",
      "memory usage: 83.7+ KB\n",
      "Training data:\n",
      " None\n",
      "<class 'pandas.core.frame.DataFrame'>\n",
      "RangeIndex: 418 entries, 0 to 417\n",
      "Data columns (total 11 columns):\n",
      " #   Column       Non-Null Count  Dtype  \n",
      "---  ------       --------------  -----  \n",
      " 0   PassengerId  418 non-null    int64  \n",
      " 1   Pclass       418 non-null    int64  \n",
      " 2   Name         418 non-null    object \n",
      " 3   Sex          418 non-null    object \n",
      " 4   Age          332 non-null    float64\n",
      " 5   SibSp        418 non-null    int64  \n",
      " 6   Parch        418 non-null    int64  \n",
      " 7   Ticket       418 non-null    object \n",
      " 8   Fare         417 non-null    float64\n",
      " 9   Cabin        91 non-null     object \n",
      " 10  Embarked     418 non-null    object \n",
      "dtypes: float64(2), int64(4), object(5)\n",
      "memory usage: 36.0+ KB\n",
      "Testing data:\n",
      " None\n"
     ]
    }
   ],
   "source": [
    "print(\"Training data:\\n\",df_train.info())\n",
    "print(\"Testing data:\\n\",df_test.info())"
   ]
  },
  {
   "cell_type": "code",
   "execution_count": 4,
   "metadata": {},
   "outputs": [
    {
     "data": {
      "text/html": [
       "<div>\n",
       "<style scoped>\n",
       "    .dataframe tbody tr th:only-of-type {\n",
       "        vertical-align: middle;\n",
       "    }\n",
       "\n",
       "    .dataframe tbody tr th {\n",
       "        vertical-align: top;\n",
       "    }\n",
       "\n",
       "    .dataframe thead th {\n",
       "        text-align: right;\n",
       "    }\n",
       "</style>\n",
       "<table border=\"1\" class=\"dataframe\">\n",
       "  <thead>\n",
       "    <tr style=\"text-align: right;\">\n",
       "      <th></th>\n",
       "      <th>PassengerId</th>\n",
       "      <th>Survived</th>\n",
       "      <th>Pclass</th>\n",
       "      <th>Name</th>\n",
       "      <th>Sex</th>\n",
       "      <th>Age</th>\n",
       "      <th>SibSp</th>\n",
       "      <th>Parch</th>\n",
       "      <th>Ticket</th>\n",
       "      <th>Fare</th>\n",
       "      <th>Cabin</th>\n",
       "      <th>Embarked</th>\n",
       "    </tr>\n",
       "  </thead>\n",
       "  <tbody>\n",
       "    <tr>\n",
       "      <th>count</th>\n",
       "      <td>891.000000</td>\n",
       "      <td>891.000000</td>\n",
       "      <td>891.000000</td>\n",
       "      <td>891</td>\n",
       "      <td>891</td>\n",
       "      <td>714.000000</td>\n",
       "      <td>891.000000</td>\n",
       "      <td>891.000000</td>\n",
       "      <td>891</td>\n",
       "      <td>891.000000</td>\n",
       "      <td>204</td>\n",
       "      <td>889</td>\n",
       "    </tr>\n",
       "    <tr>\n",
       "      <th>unique</th>\n",
       "      <td>NaN</td>\n",
       "      <td>NaN</td>\n",
       "      <td>NaN</td>\n",
       "      <td>891</td>\n",
       "      <td>2</td>\n",
       "      <td>NaN</td>\n",
       "      <td>NaN</td>\n",
       "      <td>NaN</td>\n",
       "      <td>681</td>\n",
       "      <td>NaN</td>\n",
       "      <td>147</td>\n",
       "      <td>3</td>\n",
       "    </tr>\n",
       "    <tr>\n",
       "      <th>top</th>\n",
       "      <td>NaN</td>\n",
       "      <td>NaN</td>\n",
       "      <td>NaN</td>\n",
       "      <td>Allum, Mr. Owen George</td>\n",
       "      <td>male</td>\n",
       "      <td>NaN</td>\n",
       "      <td>NaN</td>\n",
       "      <td>NaN</td>\n",
       "      <td>CA. 2343</td>\n",
       "      <td>NaN</td>\n",
       "      <td>C23 C25 C27</td>\n",
       "      <td>S</td>\n",
       "    </tr>\n",
       "    <tr>\n",
       "      <th>freq</th>\n",
       "      <td>NaN</td>\n",
       "      <td>NaN</td>\n",
       "      <td>NaN</td>\n",
       "      <td>1</td>\n",
       "      <td>577</td>\n",
       "      <td>NaN</td>\n",
       "      <td>NaN</td>\n",
       "      <td>NaN</td>\n",
       "      <td>7</td>\n",
       "      <td>NaN</td>\n",
       "      <td>4</td>\n",
       "      <td>644</td>\n",
       "    </tr>\n",
       "    <tr>\n",
       "      <th>mean</th>\n",
       "      <td>446.000000</td>\n",
       "      <td>0.383838</td>\n",
       "      <td>2.308642</td>\n",
       "      <td>NaN</td>\n",
       "      <td>NaN</td>\n",
       "      <td>29.699118</td>\n",
       "      <td>0.523008</td>\n",
       "      <td>0.381594</td>\n",
       "      <td>NaN</td>\n",
       "      <td>32.204208</td>\n",
       "      <td>NaN</td>\n",
       "      <td>NaN</td>\n",
       "    </tr>\n",
       "    <tr>\n",
       "      <th>std</th>\n",
       "      <td>257.353842</td>\n",
       "      <td>0.486592</td>\n",
       "      <td>0.836071</td>\n",
       "      <td>NaN</td>\n",
       "      <td>NaN</td>\n",
       "      <td>14.526497</td>\n",
       "      <td>1.102743</td>\n",
       "      <td>0.806057</td>\n",
       "      <td>NaN</td>\n",
       "      <td>49.693429</td>\n",
       "      <td>NaN</td>\n",
       "      <td>NaN</td>\n",
       "    </tr>\n",
       "    <tr>\n",
       "      <th>min</th>\n",
       "      <td>1.000000</td>\n",
       "      <td>0.000000</td>\n",
       "      <td>1.000000</td>\n",
       "      <td>NaN</td>\n",
       "      <td>NaN</td>\n",
       "      <td>0.420000</td>\n",
       "      <td>0.000000</td>\n",
       "      <td>0.000000</td>\n",
       "      <td>NaN</td>\n",
       "      <td>0.000000</td>\n",
       "      <td>NaN</td>\n",
       "      <td>NaN</td>\n",
       "    </tr>\n",
       "    <tr>\n",
       "      <th>25%</th>\n",
       "      <td>223.500000</td>\n",
       "      <td>0.000000</td>\n",
       "      <td>2.000000</td>\n",
       "      <td>NaN</td>\n",
       "      <td>NaN</td>\n",
       "      <td>20.125000</td>\n",
       "      <td>0.000000</td>\n",
       "      <td>0.000000</td>\n",
       "      <td>NaN</td>\n",
       "      <td>7.910400</td>\n",
       "      <td>NaN</td>\n",
       "      <td>NaN</td>\n",
       "    </tr>\n",
       "    <tr>\n",
       "      <th>50%</th>\n",
       "      <td>446.000000</td>\n",
       "      <td>0.000000</td>\n",
       "      <td>3.000000</td>\n",
       "      <td>NaN</td>\n",
       "      <td>NaN</td>\n",
       "      <td>28.000000</td>\n",
       "      <td>0.000000</td>\n",
       "      <td>0.000000</td>\n",
       "      <td>NaN</td>\n",
       "      <td>14.454200</td>\n",
       "      <td>NaN</td>\n",
       "      <td>NaN</td>\n",
       "    </tr>\n",
       "    <tr>\n",
       "      <th>75%</th>\n",
       "      <td>668.500000</td>\n",
       "      <td>1.000000</td>\n",
       "      <td>3.000000</td>\n",
       "      <td>NaN</td>\n",
       "      <td>NaN</td>\n",
       "      <td>38.000000</td>\n",
       "      <td>1.000000</td>\n",
       "      <td>0.000000</td>\n",
       "      <td>NaN</td>\n",
       "      <td>31.000000</td>\n",
       "      <td>NaN</td>\n",
       "      <td>NaN</td>\n",
       "    </tr>\n",
       "    <tr>\n",
       "      <th>max</th>\n",
       "      <td>891.000000</td>\n",
       "      <td>1.000000</td>\n",
       "      <td>3.000000</td>\n",
       "      <td>NaN</td>\n",
       "      <td>NaN</td>\n",
       "      <td>80.000000</td>\n",
       "      <td>8.000000</td>\n",
       "      <td>6.000000</td>\n",
       "      <td>NaN</td>\n",
       "      <td>512.329200</td>\n",
       "      <td>NaN</td>\n",
       "      <td>NaN</td>\n",
       "    </tr>\n",
       "  </tbody>\n",
       "</table>\n",
       "</div>"
      ],
      "text/plain": [
       "        PassengerId    Survived      Pclass                    Name   Sex  \\\n",
       "count    891.000000  891.000000  891.000000                     891   891   \n",
       "unique          NaN         NaN         NaN                     891     2   \n",
       "top             NaN         NaN         NaN  Allum, Mr. Owen George  male   \n",
       "freq            NaN         NaN         NaN                       1   577   \n",
       "mean     446.000000    0.383838    2.308642                     NaN   NaN   \n",
       "std      257.353842    0.486592    0.836071                     NaN   NaN   \n",
       "min        1.000000    0.000000    1.000000                     NaN   NaN   \n",
       "25%      223.500000    0.000000    2.000000                     NaN   NaN   \n",
       "50%      446.000000    0.000000    3.000000                     NaN   NaN   \n",
       "75%      668.500000    1.000000    3.000000                     NaN   NaN   \n",
       "max      891.000000    1.000000    3.000000                     NaN   NaN   \n",
       "\n",
       "               Age       SibSp       Parch    Ticket        Fare        Cabin  \\\n",
       "count   714.000000  891.000000  891.000000       891  891.000000          204   \n",
       "unique         NaN         NaN         NaN       681         NaN          147   \n",
       "top            NaN         NaN         NaN  CA. 2343         NaN  C23 C25 C27   \n",
       "freq           NaN         NaN         NaN         7         NaN            4   \n",
       "mean     29.699118    0.523008    0.381594       NaN   32.204208          NaN   \n",
       "std      14.526497    1.102743    0.806057       NaN   49.693429          NaN   \n",
       "min       0.420000    0.000000    0.000000       NaN    0.000000          NaN   \n",
       "25%      20.125000    0.000000    0.000000       NaN    7.910400          NaN   \n",
       "50%      28.000000    0.000000    0.000000       NaN   14.454200          NaN   \n",
       "75%      38.000000    1.000000    0.000000       NaN   31.000000          NaN   \n",
       "max      80.000000    8.000000    6.000000       NaN  512.329200          NaN   \n",
       "\n",
       "       Embarked  \n",
       "count       889  \n",
       "unique        3  \n",
       "top           S  \n",
       "freq        644  \n",
       "mean        NaN  \n",
       "std         NaN  \n",
       "min         NaN  \n",
       "25%         NaN  \n",
       "50%         NaN  \n",
       "75%         NaN  \n",
       "max         NaN  "
      ]
     },
     "execution_count": 4,
     "metadata": {},
     "output_type": "execute_result"
    }
   ],
   "source": [
    "df_train.describe(include=\"all\")"
   ]
  },
  {
   "cell_type": "code",
   "execution_count": 5,
   "metadata": {},
   "outputs": [
    {
     "name": "stdout",
     "output_type": "stream",
     "text": [
      "Training Data Distribuion\n"
     ]
    },
    {
     "data": {
      "image/png": "[encoded data removed]",
      "text/plain": [
       "<Figure size 432x288 with 6 Axes>"
      ]
     },
     "metadata": {
      "needs_background": "light"
     },
     "output_type": "display_data"
    },
    {
     "name": "stdout",
     "output_type": "stream",
     "text": [
      "Testing Data Distribuion\n"
     ]
    },
    {
     "data": {
      "image/png": "[encoded data removed]",
      "text/plain": [
       "<Figure size 432x288 with 6 Axes>"
      ]
     },
     "metadata": {
      "needs_background": "light"
     },
     "output_type": "display_data"
    }
   ],
   "source": [
    "print(\"Training Data Distribuion\")\n",
    "df_train.iloc[:,1:].hist()\n",
    "plt.show()\n",
    "print(\"Testing Data Distribuion\")\n",
    "df_test.iloc[:,1:].hist()\n",
    "plt.show()"
   ]
  },
  {
   "cell_type": "markdown",
   "metadata": {},
   "source": [
    "It seems there are some outliers in Fare as only few people have paid very high amount of fare. So it needs to be treated.\n",
    " "
   ]
  },
  {
   "cell_type": "code",
   "execution_count": 6,
   "metadata": {},
   "outputs": [
    {
     "data": {
      "text/plain": [
       "<matplotlib.axes._subplots.AxesSubplot at 0x237dc076fd0>"
      ]
     },
     "execution_count": 6,
     "metadata": {},
     "output_type": "execute_result"
    },
    {
     "data": {
      "image/png": "[encoded data removed]",
      "text/plain": [
       "<Figure size 432x288 with 1 Axes>"
      ]
     },
     "metadata": {
      "needs_background": "light"
     },
     "output_type": "display_data"
    }
   ],
   "source": [
    "df_train.Fare.hist()"
   ]
  },
  {
   "cell_type": "code",
   "execution_count": 7,
   "metadata": {},
   "outputs": [
    {
     "name": "stderr",
     "output_type": "stream",
     "text": [
      "C:\\Users\\hp\\Anaconda3\\lib\\site-packages\\ipykernel_launcher.py:2: SettingWithCopyWarning: \n",
      "A value is trying to be set on a copy of a slice from a DataFrame\n",
      "\n",
      "See the caveats in the documentation: https://pandas.pydata.org/pandas-docs/stable/user_guide/indexing.html#returning-a-view-versus-a-copy\n",
      "  \n",
      "C:\\Users\\hp\\Anaconda3\\lib\\site-packages\\ipykernel_launcher.py:3: SettingWithCopyWarning: \n",
      "A value is trying to be set on a copy of a slice from a DataFrame\n",
      "\n",
      "See the caveats in the documentation: https://pandas.pydata.org/pandas-docs/stable/user_guide/indexing.html#returning-a-view-versus-a-copy\n",
      "  This is separate from the ipykernel package so we can avoid doing imports until\n"
     ]
    },
    {
     "data": {
      "image/png": "[encoded data removed]",
      "text/plain": [
       "<Figure size 432x288 with 1 Axes>"
      ]
     },
     "metadata": {
      "needs_background": "light"
     },
     "output_type": "display_data"
    }
   ],
   "source": [
    "#Treating Outliers by repling extreme fare amount with 300\n",
    "df_train.Fare[df_train.Fare>300]=300\n",
    "df_test.Fare[df_test.Fare>300]=300\n",
    "df_train.Fare.hist()\n",
    "plt.show()"
   ]
  },
  {
   "cell_type": "code",
   "execution_count": 8,
   "metadata": {},
   "outputs": [
    {
     "name": "stdout",
     "output_type": "stream",
     "text": [
      "0    0.616162\n",
      "1    0.383838\n",
      "Name: Survived, dtype: float64\n"
     ]
    }
   ],
   "source": [
    "print(df_train.Survived.value_counts(normalize=True))"
   ]
  },
  {
   "cell_type": "code",
   "execution_count": 9,
   "metadata": {},
   "outputs": [
    {
     "data": {
      "text/html": [
       "<div>\n",
       "<style scoped>\n",
       "    .dataframe tbody tr th:only-of-type {\n",
       "        vertical-align: middle;\n",
       "    }\n",
       "\n",
       "    .dataframe tbody tr th {\n",
       "        vertical-align: top;\n",
       "    }\n",
       "\n",
       "    .dataframe thead th {\n",
       "        text-align: right;\n",
       "    }\n",
       "</style>\n",
       "<table border=\"1\" class=\"dataframe\">\n",
       "  <thead>\n",
       "    <tr style=\"text-align: right;\">\n",
       "      <th></th>\n",
       "      <th>PassengerId</th>\n",
       "      <th>Pclass</th>\n",
       "      <th>Age</th>\n",
       "      <th>SibSp</th>\n",
       "      <th>Parch</th>\n",
       "      <th>Fare</th>\n",
       "    </tr>\n",
       "    <tr>\n",
       "      <th>Survived</th>\n",
       "      <th></th>\n",
       "      <th></th>\n",
       "      <th></th>\n",
       "      <th></th>\n",
       "      <th></th>\n",
       "      <th></th>\n",
       "    </tr>\n",
       "  </thead>\n",
       "  <tbody>\n",
       "    <tr>\n",
       "      <th>0</th>\n",
       "      <td>447.016393</td>\n",
       "      <td>2.531876</td>\n",
       "      <td>30.626179</td>\n",
       "      <td>0.553734</td>\n",
       "      <td>0.329690</td>\n",
       "      <td>22.117887</td>\n",
       "    </tr>\n",
       "    <tr>\n",
       "      <th>1</th>\n",
       "      <td>444.368421</td>\n",
       "      <td>1.950292</td>\n",
       "      <td>28.343690</td>\n",
       "      <td>0.473684</td>\n",
       "      <td>0.464912</td>\n",
       "      <td>46.532871</td>\n",
       "    </tr>\n",
       "  </tbody>\n",
       "</table>\n",
       "</div>"
      ],
      "text/plain": [
       "          PassengerId    Pclass        Age     SibSp     Parch       Fare\n",
       "Survived                                                                 \n",
       "0          447.016393  2.531876  30.626179  0.553734  0.329690  22.117887\n",
       "1          444.368421  1.950292  28.343690  0.473684  0.464912  46.532871"
      ]
     },
     "execution_count": 9,
     "metadata": {},
     "output_type": "execute_result"
    }
   ],
   "source": [
    "df_train.groupby(\"Survived\").mean()"
   ]
  },
  {
   "cell_type": "markdown",
   "metadata": {},
   "source": [
    "It can be observed that:\n",
    "* Only 38.38% of total passengers survived.\n",
    "* Mean Fare of those who survied is much greater than those who died this shows that those who have paid higher fare have higher survival rate.\n",
    "* 1st and 2nd Passenger class have more survival rate than 3rd"
   ]
  },
  {
   "cell_type": "markdown",
   "metadata": {},
   "source": [
    "\n",
    "# **Exploring the Features of data:**"
   ]
  },
  {
   "cell_type": "markdown",
   "metadata": {},
   "source": [
    "# **1) PassengerID**\n",
    "\n",
    "Since PassengerID is just a unique numeric identification of each passenger It is not useful for analysis. Hence dropping It.\n"
   ]
  },
  {
   "cell_type": "code",
   "execution_count": 10,
   "metadata": {},
   "outputs": [],
   "source": [
    "df_train.drop(\"PassengerId\",axis=1,inplace=True)\n",
    "df_test.drop(\"PassengerId\",axis=1,inplace=True)"
   ]
  },
  {
   "cell_type": "markdown",
   "metadata": {},
   "source": [
    "# **2)Pclass**"
   ]
  },
  {
   "cell_type": "code",
   "execution_count": 11,
   "metadata": {},
   "outputs": [
    {
     "name": "stdout",
     "output_type": "stream",
     "text": [
      "        Survived        Age     SibSp     Parch       Fare\n",
      "Pclass                                                    \n",
      "1       0.629630  38.233441  0.416667  0.356481  81.205671\n",
      "2       0.472826  29.877630  0.402174  0.380435  20.662183\n",
      "3       0.242363  25.140620  0.615071  0.393075  13.675550\n"
     ]
    },
    {
     "data": {
      "image/png": "[encoded data removed]",
      "text/plain": [
       "<Figure size 432x288 with 1 Axes>"
      ]
     },
     "metadata": {
      "needs_background": "light"
     },
     "output_type": "display_data"
    }
   ],
   "source": [
    "print(df_train.groupby(\"Pclass\").mean())\n",
    "sns.countplot(data=df_train,hue=\"Survived\",x=\"Pclass\")\n",
    "plt.show()"
   ]
  },
  {
   "cell_type": "markdown",
   "metadata": {},
   "source": [
    "It can be observed that Pclass 1 has highest Survival rate,Fare and Age followed by Pclass 2 and Pclass 3 has the least survival rate, Fare and Age.\n"
   ]
  },
  {
   "cell_type": "markdown",
   "metadata": {},
   "source": [
    "# **3)Name**\n",
    " \n",
    "Since Name includes Last name and Title it can be used to find out families with same last name and also insights about the martial status, age category and occupation can be drawn from Title. So I will break down Name in 4 parts i.e. **Last Name2 (Last_n2), Title (Title), First Name (First_n), Last Name1 (Last_n1)**."
   ]
  },
  {
   "cell_type": "code",
   "execution_count": 12,
   "metadata": {},
   "outputs": [
    {
     "data": {
      "text/plain": [
       "array(['Braund, Mr. Owen Harris',\n",
       "       'Cumings, Mrs. John Bradley (Florence Briggs Thayer)',\n",
       "       'Heikkinen, Miss. Laina',\n",
       "       'Futrelle, Mrs. Jacques Heath (Lily May Peel)'], dtype=object)"
      ]
     },
     "execution_count": 12,
     "metadata": {},
     "output_type": "execute_result"
    }
   ],
   "source": [
    "#orignal names:\n",
    "df_train.Name.unique()[0:4]"
   ]
  },
  {
   "cell_type": "code",
   "execution_count": 13,
   "metadata": {},
   "outputs": [
    {
     "data": {
      "text/html": [
       "<div>\n",
       "<style scoped>\n",
       "    .dataframe tbody tr th:only-of-type {\n",
       "        vertical-align: middle;\n",
       "    }\n",
       "\n",
       "    .dataframe tbody tr th {\n",
       "        vertical-align: top;\n",
       "    }\n",
       "\n",
       "    .dataframe thead th {\n",
       "        text-align: right;\n",
       "    }\n",
       "</style>\n",
       "<table border=\"1\" class=\"dataframe\">\n",
       "  <thead>\n",
       "    <tr style=\"text-align: right;\">\n",
       "      <th></th>\n",
       "      <th>0</th>\n",
       "      <th>1</th>\n",
       "      <th>2</th>\n",
       "      <th>3</th>\n",
       "      <th>4</th>\n",
       "      <th>5</th>\n",
       "      <th>6</th>\n",
       "      <th>7</th>\n",
       "      <th>8</th>\n",
       "      <th>9</th>\n",
       "      <th>10</th>\n",
       "      <th>11</th>\n",
       "      <th>12</th>\n",
       "      <th>13</th>\n",
       "    </tr>\n",
       "  </thead>\n",
       "  <tbody>\n",
       "    <tr>\n",
       "      <th>0</th>\n",
       "      <td>Braund,</td>\n",
       "      <td>Mr.</td>\n",
       "      <td>Owen</td>\n",
       "      <td>Harris</td>\n",
       "      <td>None</td>\n",
       "      <td>None</td>\n",
       "      <td>None</td>\n",
       "      <td>None</td>\n",
       "      <td>None</td>\n",
       "      <td>None</td>\n",
       "      <td>None</td>\n",
       "      <td>None</td>\n",
       "      <td>None</td>\n",
       "      <td>None</td>\n",
       "    </tr>\n",
       "    <tr>\n",
       "      <th>1</th>\n",
       "      <td>Cumings,</td>\n",
       "      <td>Mrs.</td>\n",
       "      <td>John</td>\n",
       "      <td>Bradley</td>\n",
       "      <td>(Florence</td>\n",
       "      <td>Briggs</td>\n",
       "      <td>Thayer)</td>\n",
       "      <td>None</td>\n",
       "      <td>None</td>\n",
       "      <td>None</td>\n",
       "      <td>None</td>\n",
       "      <td>None</td>\n",
       "      <td>None</td>\n",
       "      <td>None</td>\n",
       "    </tr>\n",
       "    <tr>\n",
       "      <th>2</th>\n",
       "      <td>Heikkinen,</td>\n",
       "      <td>Miss.</td>\n",
       "      <td>Laina</td>\n",
       "      <td>None</td>\n",
       "      <td>None</td>\n",
       "      <td>None</td>\n",
       "      <td>None</td>\n",
       "      <td>None</td>\n",
       "      <td>None</td>\n",
       "      <td>None</td>\n",
       "      <td>None</td>\n",
       "      <td>None</td>\n",
       "      <td>None</td>\n",
       "      <td>None</td>\n",
       "    </tr>\n",
       "    <tr>\n",
       "      <th>3</th>\n",
       "      <td>Futrelle,</td>\n",
       "      <td>Mrs.</td>\n",
       "      <td>Jacques</td>\n",
       "      <td>Heath</td>\n",
       "      <td>(Lily</td>\n",
       "      <td>May</td>\n",
       "      <td>Peel)</td>\n",
       "      <td>None</td>\n",
       "      <td>None</td>\n",
       "      <td>None</td>\n",
       "      <td>None</td>\n",
       "      <td>None</td>\n",
       "      <td>None</td>\n",
       "      <td>None</td>\n",
       "    </tr>\n",
       "    <tr>\n",
       "      <th>4</th>\n",
       "      <td>Allen,</td>\n",
       "      <td>Mr.</td>\n",
       "      <td>William</td>\n",
       "      <td>Henry</td>\n",
       "      <td>None</td>\n",
       "      <td>None</td>\n",
       "      <td>None</td>\n",
       "      <td>None</td>\n",
       "      <td>None</td>\n",
       "      <td>None</td>\n",
       "      <td>None</td>\n",
       "      <td>None</td>\n",
       "      <td>None</td>\n",
       "      <td>None</td>\n",
       "    </tr>\n",
       "    <tr>\n",
       "      <th>...</th>\n",
       "      <td>...</td>\n",
       "      <td>...</td>\n",
       "      <td>...</td>\n",
       "      <td>...</td>\n",
       "      <td>...</td>\n",
       "      <td>...</td>\n",
       "      <td>...</td>\n",
       "      <td>...</td>\n",
       "      <td>...</td>\n",
       "      <td>...</td>\n",
       "      <td>...</td>\n",
       "      <td>...</td>\n",
       "      <td>...</td>\n",
       "      <td>...</td>\n",
       "    </tr>\n",
       "    <tr>\n",
       "      <th>886</th>\n",
       "      <td>Montvila,</td>\n",
       "      <td>Rev.</td>\n",
       "      <td>Juozas</td>\n",
       "      <td>None</td>\n",
       "      <td>None</td>\n",
       "      <td>None</td>\n",
       "      <td>None</td>\n",
       "      <td>None</td>\n",
       "      <td>None</td>\n",
       "      <td>None</td>\n",
       "      <td>None</td>\n",
       "      <td>None</td>\n",
       "      <td>None</td>\n",
       "      <td>None</td>\n",
       "    </tr>\n",
       "    <tr>\n",
       "      <th>887</th>\n",
       "      <td>Graham,</td>\n",
       "      <td>Miss.</td>\n",
       "      <td>Margaret</td>\n",
       "      <td>Edith</td>\n",
       "      <td>None</td>\n",
       "      <td>None</td>\n",
       "      <td>None</td>\n",
       "      <td>None</td>\n",
       "      <td>None</td>\n",
       "      <td>None</td>\n",
       "      <td>None</td>\n",
       "      <td>None</td>\n",
       "      <td>None</td>\n",
       "      <td>None</td>\n",
       "    </tr>\n",
       "    <tr>\n",
       "      <th>888</th>\n",
       "      <td>Johnston,</td>\n",
       "      <td>Miss.</td>\n",
       "      <td>Catherine</td>\n",
       "      <td>Helen</td>\n",
       "      <td>\"Carrie\"</td>\n",
       "      <td>None</td>\n",
       "      <td>None</td>\n",
       "      <td>None</td>\n",
       "      <td>None</td>\n",
       "      <td>None</td>\n",
       "      <td>None</td>\n",
       "      <td>None</td>\n",
       "      <td>None</td>\n",
       "      <td>None</td>\n",
       "    </tr>\n",
       "    <tr>\n",
       "      <th>889</th>\n",
       "      <td>Behr,</td>\n",
       "      <td>Mr.</td>\n",
       "      <td>Karl</td>\n",
       "      <td>Howell</td>\n",
       "      <td>None</td>\n",
       "      <td>None</td>\n",
       "      <td>None</td>\n",
       "      <td>None</td>\n",
       "      <td>None</td>\n",
       "      <td>None</td>\n",
       "      <td>None</td>\n",
       "      <td>None</td>\n",
       "      <td>None</td>\n",
       "      <td>None</td>\n",
       "    </tr>\n",
       "    <tr>\n",
       "      <th>890</th>\n",
       "      <td>Dooley,</td>\n",
       "      <td>Mr.</td>\n",
       "      <td>Patrick</td>\n",
       "      <td>None</td>\n",
       "      <td>None</td>\n",
       "      <td>None</td>\n",
       "      <td>None</td>\n",
       "      <td>None</td>\n",
       "      <td>None</td>\n",
       "      <td>None</td>\n",
       "      <td>None</td>\n",
       "      <td>None</td>\n",
       "      <td>None</td>\n",
       "      <td>None</td>\n",
       "    </tr>\n",
       "  </tbody>\n",
       "</table>\n",
       "<p>891 rows × 14 columns</p>\n",
       "</div>"
      ],
      "text/plain": [
       "             0      1          2        3          4       5        6     7   \\\n",
       "0       Braund,    Mr.       Owen   Harris       None    None     None  None   \n",
       "1      Cumings,   Mrs.       John  Bradley  (Florence  Briggs  Thayer)  None   \n",
       "2    Heikkinen,  Miss.      Laina     None       None    None     None  None   \n",
       "3     Futrelle,   Mrs.    Jacques    Heath      (Lily     May    Peel)  None   \n",
       "4        Allen,    Mr.    William    Henry       None    None     None  None   \n",
       "..          ...    ...        ...      ...        ...     ...      ...   ...   \n",
       "886   Montvila,   Rev.     Juozas     None       None    None     None  None   \n",
       "887     Graham,  Miss.   Margaret    Edith       None    None     None  None   \n",
       "888   Johnston,  Miss.  Catherine    Helen   \"Carrie\"    None     None  None   \n",
       "889       Behr,    Mr.       Karl   Howell       None    None     None  None   \n",
       "890     Dooley,    Mr.    Patrick     None       None    None     None  None   \n",
       "\n",
       "       8     9     10    11    12    13  \n",
       "0    None  None  None  None  None  None  \n",
       "1    None  None  None  None  None  None  \n",
       "2    None  None  None  None  None  None  \n",
       "3    None  None  None  None  None  None  \n",
       "4    None  None  None  None  None  None  \n",
       "..    ...   ...   ...   ...   ...   ...  \n",
       "886  None  None  None  None  None  None  \n",
       "887  None  None  None  None  None  None  \n",
       "888  None  None  None  None  None  None  \n",
       "889  None  None  None  None  None  None  \n",
       "890  None  None  None  None  None  None  \n",
       "\n",
       "[891 rows x 14 columns]"
      ]
     },
     "execution_count": 13,
     "metadata": {},
     "output_type": "execute_result"
    }
   ],
   "source": [
    "#Name broken in parts:\n",
    "df_train.Name.str.split(\" \",expand=True,)"
   ]
  },
  {
   "cell_type": "code",
   "execution_count": 14,
   "metadata": {},
   "outputs": [
    {
     "data": {
      "text/html": [
       "<div>\n",
       "<style scoped>\n",
       "    .dataframe tbody tr th:only-of-type {\n",
       "        vertical-align: middle;\n",
       "    }\n",
       "\n",
       "    .dataframe tbody tr th {\n",
       "        vertical-align: top;\n",
       "    }\n",
       "\n",
       "    .dataframe thead th {\n",
       "        text-align: right;\n",
       "    }\n",
       "</style>\n",
       "<table border=\"1\" class=\"dataframe\">\n",
       "  <thead>\n",
       "    <tr style=\"text-align: right;\">\n",
       "      <th></th>\n",
       "      <th>Survived</th>\n",
       "      <th>Pclass</th>\n",
       "      <th>Sex</th>\n",
       "      <th>Age</th>\n",
       "      <th>SibSp</th>\n",
       "      <th>Parch</th>\n",
       "      <th>Ticket</th>\n",
       "      <th>Fare</th>\n",
       "      <th>Cabin</th>\n",
       "      <th>Embarked</th>\n",
       "      <th>Last_n2</th>\n",
       "      <th>Title</th>\n",
       "      <th>Last_n1</th>\n",
       "    </tr>\n",
       "  </thead>\n",
       "  <tbody>\n",
       "    <tr>\n",
       "      <th>0</th>\n",
       "      <td>0</td>\n",
       "      <td>3</td>\n",
       "      <td>male</td>\n",
       "      <td>22.0</td>\n",
       "      <td>1</td>\n",
       "      <td>0</td>\n",
       "      <td>A/5 21171</td>\n",
       "      <td>7.2500</td>\n",
       "      <td>NaN</td>\n",
       "      <td>S</td>\n",
       "      <td>Braund,</td>\n",
       "      <td>Mr.</td>\n",
       "      <td>Harris</td>\n",
       "    </tr>\n",
       "    <tr>\n",
       "      <th>1</th>\n",
       "      <td>1</td>\n",
       "      <td>1</td>\n",
       "      <td>female</td>\n",
       "      <td>38.0</td>\n",
       "      <td>1</td>\n",
       "      <td>0</td>\n",
       "      <td>PC 17599</td>\n",
       "      <td>71.2833</td>\n",
       "      <td>C85</td>\n",
       "      <td>C</td>\n",
       "      <td>Cumings,</td>\n",
       "      <td>Mrs.</td>\n",
       "      <td>Bradley</td>\n",
       "    </tr>\n",
       "    <tr>\n",
       "      <th>2</th>\n",
       "      <td>1</td>\n",
       "      <td>3</td>\n",
       "      <td>female</td>\n",
       "      <td>26.0</td>\n",
       "      <td>0</td>\n",
       "      <td>0</td>\n",
       "      <td>STON/O2. 3101282</td>\n",
       "      <td>7.9250</td>\n",
       "      <td>NaN</td>\n",
       "      <td>S</td>\n",
       "      <td>Heikkinen,</td>\n",
       "      <td>Miss.</td>\n",
       "      <td>None</td>\n",
       "    </tr>\n",
       "  </tbody>\n",
       "</table>\n",
       "</div>"
      ],
      "text/plain": [
       "   Survived  Pclass     Sex   Age  SibSp  Parch            Ticket     Fare  \\\n",
       "0         0       3    male  22.0      1      0         A/5 21171   7.2500   \n",
       "1         1       1  female  38.0      1      0          PC 17599  71.2833   \n",
       "2         1       3  female  26.0      0      0  STON/O2. 3101282   7.9250   \n",
       "\n",
       "  Cabin Embarked     Last_n2  Title  Last_n1  \n",
       "0   NaN        S     Braund,    Mr.   Harris  \n",
       "1   C85        C    Cumings,   Mrs.  Bradley  \n",
       "2   NaN        S  Heikkinen,  Miss.     None  "
      ]
     },
     "execution_count": 14,
     "metadata": {},
     "output_type": "execute_result"
    }
   ],
   "source": [
    "#Only 0,1,and 3 column of name dataframe above is useful for analysis hence I will keep only those.\n",
    "df_train[['Last_n2','Title','First_n','Last_n1']] = df_train.Name.str.split(\" \",expand=True,).iloc[:,0:4]\n",
    "df_test[['Last_n2','Title','First_n','Last_n1']] = df_test.Name.str.split(\" \",expand=True,).iloc[:,0:4]\n",
    "df_train.drop([\"Name\",\"First_n\"],axis=1,inplace=True)\n",
    "df_test.drop([\"Name\",\"First_n\"],axis=1,inplace=True)\n",
    "df_train.head(3)"
   ]
  },
  {
   "cell_type": "code",
   "execution_count": 15,
   "metadata": {},
   "outputs": [],
   "source": [
    "#Only those Last Names and Titles are Important for analysis which has occured more than once so keeping others in a single category Prefixed by 'Other': \n",
    "Imp_Last_n2=[]\n",
    "for x in df_train[\"Last_n2\"].unique():\n",
    "    if df_train.Last_n2[df_train.Last_n2==x].count()!=1:\n",
    "        Imp_Last_n2.append(x)\n",
    "\n",
    "Other_Last_n2 = [t for t in df_train[\"Last_n2\"].unique()\n",
    "                if t not in Imp_Last_n2]\n",
    "df_train[\"Last_n2\"] = df_train[\"Last_n2\"].replace(Other_Last_n2, 'Other_Last_n2')\n",
    "\n",
    "Other_Last_n2_test = [t for t in df_test[\"Last_n2\"].unique()\n",
    "                if t not in Imp_Last_n2]\n",
    "df_test[\"Last_n2\"] = df_test[\"Last_n2\"].replace(Other_Last_n2_test, 'Other_Last_n2')\n",
    "\n",
    "\n",
    "Imp_Title=[]\n",
    "for x in df_train[\"Title\"].unique():\n",
    "    if df_train.Title[df_train.Title==x].count()!=1:\n",
    "        Imp_Title.append(x)\n",
    "\n",
    "Other_Title = [t for t in df_train[\"Title\"].unique()\n",
    "                if t not in Imp_Title]\n",
    "df_train[\"Title\"] = df_train[\"Title\"].replace(Other_Title, 'Other_Title')\n",
    "\n",
    "Other_Title_test = [t for t in df_test[\"Title\"].unique()\n",
    "                if t not in Imp_Title]\n",
    "df_test[\"Title\"] = df_test[\"Title\"].replace(Other_Title_test, 'Other_Title')\n",
    "\n",
    "\n",
    "Imp_Last_n1=[]\n",
    "for x in df_train[\"Last_n1\"].unique():\n",
    "    if df_train.Last_n1[df_train.Last_n1==x].count()!=1:\n",
    "        Imp_Last_n1.append(x)\n",
    "\n",
    "Other_Last_n1 = [t for t in df_train[\"Last_n1\"].unique()\n",
    "                if t not in Imp_Last_n1]\n",
    "df_train[\"Last_n1\"] = df_train[\"Last_n1\"].replace(Other_Last_n1, 'Other_Last_n1')\n",
    "\n",
    "Other_Last_n1_test = [t for t in df_test[\"Last_n1\"].unique()\n",
    "                if t not in Imp_Last_n1]\n",
    "df_test[\"Last_n1\"] = df_test[\"Last_n1\"].replace(Other_Last_n1_test, 'Other_Last_n1')"
   ]
  },
  {
   "cell_type": "code",
   "execution_count": 16,
   "metadata": {},
   "outputs": [
    {
     "name": "stdout",
     "output_type": "stream",
     "text": [
      "Top 3 Category Count\n",
      "Other_Last_n2    525\n",
      "Andersson,         9\n",
      "Sage,              7\n",
      "Name: Last_n2, dtype: int64\n",
      "-----------------------\n",
      "Median standard deviation for all categories:\n",
      "\n",
      "Survived     0.000000\n",
      "Pclass       0.000000\n",
      "Age         11.313708\n",
      "SibSp        0.000000\n",
      "Parch        0.000000\n",
      "Fare         0.000000\n",
      "dtype: float64\n",
      "-----------------------\n",
      "Mean standard deviation for all categories:\n",
      "\n",
      "Survived     0.264251\n",
      "Pclass       0.113866\n",
      "Age         11.051936\n",
      "SibSp        0.339944\n",
      "Parch        0.285404\n",
      "Fare         5.452766\n",
      "dtype: float64\n"
     ]
    },
    {
     "data": {
      "text/html": [
       "<div>\n",
       "<style scoped>\n",
       "    .dataframe tbody tr th:only-of-type {\n",
       "        vertical-align: middle;\n",
       "    }\n",
       "\n",
       "    .dataframe tbody tr th {\n",
       "        vertical-align: top;\n",
       "    }\n",
       "\n",
       "    .dataframe thead th {\n",
       "        text-align: right;\n",
       "    }\n",
       "</style>\n",
       "<table border=\"1\" class=\"dataframe\">\n",
       "  <thead>\n",
       "    <tr style=\"text-align: right;\">\n",
       "      <th></th>\n",
       "      <th>Survived</th>\n",
       "      <th>Pclass</th>\n",
       "      <th>Age</th>\n",
       "      <th>SibSp</th>\n",
       "      <th>Parch</th>\n",
       "      <th>Fare</th>\n",
       "    </tr>\n",
       "    <tr>\n",
       "      <th>Last_n2</th>\n",
       "      <th></th>\n",
       "      <th></th>\n",
       "      <th></th>\n",
       "      <th></th>\n",
       "      <th></th>\n",
       "      <th></th>\n",
       "    </tr>\n",
       "  </thead>\n",
       "  <tbody>\n",
       "    <tr>\n",
       "      <th>McCoy,</th>\n",
       "      <td>1.0</td>\n",
       "      <td>3.0</td>\n",
       "      <td>NaN</td>\n",
       "      <td>2.000000</td>\n",
       "      <td>0.000000</td>\n",
       "      <td>23.2500</td>\n",
       "    </tr>\n",
       "    <tr>\n",
       "      <th>Herman,</th>\n",
       "      <td>1.0</td>\n",
       "      <td>2.0</td>\n",
       "      <td>36.000000</td>\n",
       "      <td>1.000000</td>\n",
       "      <td>2.000000</td>\n",
       "      <td>65.0000</td>\n",
       "    </tr>\n",
       "    <tr>\n",
       "      <th>Ryerson,</th>\n",
       "      <td>1.0</td>\n",
       "      <td>1.0</td>\n",
       "      <td>19.500000</td>\n",
       "      <td>2.000000</td>\n",
       "      <td>2.000000</td>\n",
       "      <td>262.3750</td>\n",
       "    </tr>\n",
       "    <tr>\n",
       "      <th>Richards,</th>\n",
       "      <td>1.0</td>\n",
       "      <td>2.0</td>\n",
       "      <td>9.276667</td>\n",
       "      <td>1.333333</td>\n",
       "      <td>1.666667</td>\n",
       "      <td>18.7500</td>\n",
       "    </tr>\n",
       "    <tr>\n",
       "      <th>Caldwell,</th>\n",
       "      <td>1.0</td>\n",
       "      <td>2.0</td>\n",
       "      <td>11.415000</td>\n",
       "      <td>0.500000</td>\n",
       "      <td>1.500000</td>\n",
       "      <td>29.0000</td>\n",
       "    </tr>\n",
       "    <tr>\n",
       "      <th>...</th>\n",
       "      <td>...</td>\n",
       "      <td>...</td>\n",
       "      <td>...</td>\n",
       "      <td>...</td>\n",
       "      <td>...</td>\n",
       "      <td>...</td>\n",
       "    </tr>\n",
       "    <tr>\n",
       "      <th>Chapman,</th>\n",
       "      <td>0.0</td>\n",
       "      <td>2.0</td>\n",
       "      <td>44.500000</td>\n",
       "      <td>0.500000</td>\n",
       "      <td>0.000000</td>\n",
       "      <td>19.7500</td>\n",
       "    </tr>\n",
       "    <tr>\n",
       "      <th>Petroff,</th>\n",
       "      <td>0.0</td>\n",
       "      <td>3.0</td>\n",
       "      <td>19.000000</td>\n",
       "      <td>0.000000</td>\n",
       "      <td>0.000000</td>\n",
       "      <td>7.8958</td>\n",
       "    </tr>\n",
       "    <tr>\n",
       "      <th>Carlsson,</th>\n",
       "      <td>0.0</td>\n",
       "      <td>2.0</td>\n",
       "      <td>30.500000</td>\n",
       "      <td>0.000000</td>\n",
       "      <td>0.000000</td>\n",
       "      <td>6.3979</td>\n",
       "    </tr>\n",
       "    <tr>\n",
       "      <th>Calic,</th>\n",
       "      <td>0.0</td>\n",
       "      <td>3.0</td>\n",
       "      <td>17.000000</td>\n",
       "      <td>0.000000</td>\n",
       "      <td>0.000000</td>\n",
       "      <td>8.6625</td>\n",
       "    </tr>\n",
       "    <tr>\n",
       "      <th>van</th>\n",
       "      <td>0.0</td>\n",
       "      <td>3.0</td>\n",
       "      <td>40.500000</td>\n",
       "      <td>0.000000</td>\n",
       "      <td>1.000000</td>\n",
       "      <td>12.0000</td>\n",
       "    </tr>\n",
       "  </tbody>\n",
       "</table>\n",
       "<p>137 rows × 6 columns</p>\n",
       "</div>"
      ],
      "text/plain": [
       "           Survived  Pclass        Age     SibSp     Parch      Fare\n",
       "Last_n2                                                             \n",
       "McCoy,          1.0     3.0        NaN  2.000000  0.000000   23.2500\n",
       "Herman,         1.0     2.0  36.000000  1.000000  2.000000   65.0000\n",
       "Ryerson,        1.0     1.0  19.500000  2.000000  2.000000  262.3750\n",
       "Richards,       1.0     2.0   9.276667  1.333333  1.666667   18.7500\n",
       "Caldwell,       1.0     2.0  11.415000  0.500000  1.500000   29.0000\n",
       "...             ...     ...        ...       ...       ...       ...\n",
       "Chapman,        0.0     2.0  44.500000  0.500000  0.000000   19.7500\n",
       "Petroff,        0.0     3.0  19.000000  0.000000  0.000000    7.8958\n",
       "Carlsson,       0.0     2.0  30.500000  0.000000  0.000000    6.3979\n",
       "Calic,          0.0     3.0  17.000000  0.000000  0.000000    8.6625\n",
       "van             0.0     3.0  40.500000  0.000000  1.000000   12.0000\n",
       "\n",
       "[137 rows x 6 columns]"
      ]
     },
     "execution_count": 16,
     "metadata": {},
     "output_type": "execute_result"
    }
   ],
   "source": [
    "#Lets see the count and insights of each Last_n2:\n",
    "df_train[\"Last_n2\"] = df_train[\"Last_n2\"].replace(Other_Last_n2, 'Other_Last_n2')\n",
    "print(\"Top 3 Category Count\")\n",
    "print(df_train.Last_n2.value_counts()[0:3])\n",
    "print(\"-----------------------\\nMedian standard deviation for all categories:\\n\")\n",
    "print(df_train.groupby(\"Last_n2\").std().median())\n",
    "print(\"-----------------------\\nMean standard deviation for all categories:\\n\")\n",
    "print(df_train.groupby(\"Last_n2\").std().mean())\n",
    "df_train.groupby(\"Last_n2\").mean().sort_values(by='Survived', ascending=False)"
   ]
  },
  {
   "cell_type": "markdown",
   "metadata": {},
   "source": [
    "From the above analysis it can be observed that:\n",
    "* Majority of passengers having same Last_n2 have same Survival rate, Pclass, SibSp, Parch, Fare as the median standard deviation for these variables for all Last_n2 is greater than mean standard deviation.\n",
    "* It is evident that most of passengers having same last_n2 belong to same family, however it is possible that not all person belonging to same family have died or survived as the mean standard deviation of Survived is 0.26.Since median standard deviation of Survived is 0.00 it means that in majority of family either all members survived or all members died. "
   ]
  },
  {
   "cell_type": "code",
   "execution_count": 17,
   "metadata": {},
   "outputs": [
    {
     "name": "stdout",
     "output_type": "stream",
     "text": [
      "Other_Last_n2    525\n",
      "V_Low            151\n",
      "Low               93\n",
      "V_High            67\n",
      "High              55\n",
      "Name: Last_n2, dtype: int64\n",
      "               Survived\n",
      "Last_n2                \n",
      "High           0.466378\n",
      "Low            0.501284\n",
      "Other_Last_n2  0.481010\n",
      "V_High         0.000000\n",
      "V_Low          0.161122\n"
     ]
    },
    {
     "data": {
      "image/png": "[encoded data removed]",
      "text/plain": [
       "<Figure size 432x288 with 1 Axes>"
      ]
     },
     "metadata": {
      "needs_background": "light"
     },
     "output_type": "display_data"
    }
   ],
   "source": [
    "Last_n2_Survival=df_train[[\"Survived\",\"Last_n2\"]].groupby(\"Last_n2\").mean()\n",
    "Last_n2_Survival=Last_n2_Survival[Last_n2_Survival.index!=\"Other_Last_n2\"]\n",
    "V_Low=list(Last_n2_Survival[Last_n2_Survival[\"Survived\"]<=0.25].index)\n",
    "Low=list(Last_n2_Survival[(Last_n2_Survival[\"Survived\"]>0.25) \n",
    "                                   & (Last_n2_Survival[\"Survived\"]<=0.50)].index)\n",
    "High=list(Last_n2_Survival[(Last_n2_Survival[\"Survived\"]>0.50) \n",
    "                                   & (Last_n2_Survival[\"Survived\"]<=0.75)].index)\n",
    "V_High=list(Last_n2_Survival[Last_n2_Survival[\"Survived\"]>0.75].index)\n",
    "df_train['Last_n2']=df_train[\"Last_n2\"].replace(V_Low,\"V_Low\")\n",
    "df_train['Last_n2']=df_train[\"Last_n2\"].replace(Low,\"Low\")\n",
    "df_train['Last_n2']=df_train[\"Last_n2\"].replace(V_High,\"V_High\")\n",
    "df_train['Last_n2']=df_train[\"Last_n2\"].replace(High,\"High\")\n",
    "\n",
    "df_test['Last_n2']=df_test[\"Last_n2\"].replace(V_Low,\"V_Low\")\n",
    "df_test['Last_n2']=df_test[\"Last_n2\"].replace(Low,\"Low\")\n",
    "df_test['Last_n2']=df_test[\"Last_n2\"].replace(V_High,\"V_High\")\n",
    "df_test['Last_n2']=df_test[\"Last_n2\"].replace(High,\"High\")\n",
    "print(df_train.Last_n2.value_counts())\n",
    "print(df_train[[\"Survived\",\"Last_n2\"]].groupby(\"Last_n2\").std())\n",
    "sns.countplot(data=df_train,x=\"Last_n2\",hue=\"Survived\")\n",
    "plt.show()"
   ]
  },
  {
   "cell_type": "code",
   "execution_count": 18,
   "metadata": {},
   "outputs": [
    {
     "name": "stdout",
     "output_type": "stream",
     "text": [
      "Top 3 Category Count\n",
      "Other_Last_n1    305\n",
      "Henry             17\n",
      "William           13\n",
      "Name: Last_n1, dtype: int64\n",
      "--------------------------\n",
      "Median standard deviation for all categories:\n",
      "\n",
      "Survived     0.343443\n",
      "Pclass       0.516239\n",
      "Age         10.076272\n",
      "SibSp        0.547723\n",
      "Parch        0.000000\n",
      "Fare        11.742290\n",
      "dtype: float64\n",
      "--------------------------\n",
      "Mean standard deviation for all categories:\n",
      "\n",
      "Survived     0.296385\n",
      "Pclass       0.493360\n",
      "Age         11.674363\n",
      "SibSp        0.755910\n",
      "Parch        0.479318\n",
      "Fare        25.508712\n",
      "dtype: float64\n"
     ]
    },
    {
     "data": {
      "text/html": [
       "<div>\n",
       "<style scoped>\n",
       "    .dataframe tbody tr th:only-of-type {\n",
       "        vertical-align: middle;\n",
       "    }\n",
       "\n",
       "    .dataframe tbody tr th {\n",
       "        vertical-align: top;\n",
       "    }\n",
       "\n",
       "    .dataframe thead th {\n",
       "        text-align: right;\n",
       "    }\n",
       "</style>\n",
       "<table border=\"1\" class=\"dataframe\">\n",
       "  <thead>\n",
       "    <tr style=\"text-align: right;\">\n",
       "      <th></th>\n",
       "      <th>Survived</th>\n",
       "      <th>Pclass</th>\n",
       "      <th>Age</th>\n",
       "      <th>SibSp</th>\n",
       "      <th>Parch</th>\n",
       "      <th>Fare</th>\n",
       "    </tr>\n",
       "    <tr>\n",
       "      <th>Last_n1</th>\n",
       "      <th></th>\n",
       "      <th></th>\n",
       "      <th></th>\n",
       "      <th></th>\n",
       "      <th></th>\n",
       "      <th></th>\n",
       "    </tr>\n",
       "  </thead>\n",
       "  <tbody>\n",
       "    <tr>\n",
       "      <th>\"Katie\"</th>\n",
       "      <td>1.0</td>\n",
       "      <td>3.0</td>\n",
       "      <td>16.0</td>\n",
       "      <td>0.0</td>\n",
       "      <td>0.0</td>\n",
       "      <td>7.733300</td>\n",
       "    </tr>\n",
       "    <tr>\n",
       "      <th>Bertram</th>\n",
       "      <td>1.0</td>\n",
       "      <td>1.0</td>\n",
       "      <td>37.5</td>\n",
       "      <td>0.5</td>\n",
       "      <td>0.5</td>\n",
       "      <td>70.812500</td>\n",
       "    </tr>\n",
       "    <tr>\n",
       "      <th>W</th>\n",
       "      <td>1.0</td>\n",
       "      <td>2.0</td>\n",
       "      <td>33.5</td>\n",
       "      <td>0.0</td>\n",
       "      <td>1.0</td>\n",
       "      <td>82.297900</td>\n",
       "    </tr>\n",
       "    <tr>\n",
       "      <th>Thompson</th>\n",
       "      <td>1.0</td>\n",
       "      <td>1.0</td>\n",
       "      <td>43.0</td>\n",
       "      <td>0.0</td>\n",
       "      <td>0.5</td>\n",
       "      <td>94.481250</td>\n",
       "    </tr>\n",
       "    <tr>\n",
       "      <th>Sleeper</th>\n",
       "      <td>1.0</td>\n",
       "      <td>1.0</td>\n",
       "      <td>48.5</td>\n",
       "      <td>1.0</td>\n",
       "      <td>0.0</td>\n",
       "      <td>76.729200</td>\n",
       "    </tr>\n",
       "    <tr>\n",
       "      <th>...</th>\n",
       "      <td>...</td>\n",
       "      <td>...</td>\n",
       "      <td>...</td>\n",
       "      <td>...</td>\n",
       "      <td>...</td>\n",
       "      <td>...</td>\n",
       "    </tr>\n",
       "    <tr>\n",
       "      <th>(Maria</th>\n",
       "      <td>0.0</td>\n",
       "      <td>3.0</td>\n",
       "      <td>41.0</td>\n",
       "      <td>0.5</td>\n",
       "      <td>2.5</td>\n",
       "      <td>27.072900</td>\n",
       "    </tr>\n",
       "    <tr>\n",
       "      <th>Mathias</th>\n",
       "      <td>0.0</td>\n",
       "      <td>3.0</td>\n",
       "      <td>42.0</td>\n",
       "      <td>0.5</td>\n",
       "      <td>0.0</td>\n",
       "      <td>13.808350</td>\n",
       "    </tr>\n",
       "    <tr>\n",
       "      <th>Anderson</th>\n",
       "      <td>0.0</td>\n",
       "      <td>2.0</td>\n",
       "      <td>33.5</td>\n",
       "      <td>0.0</td>\n",
       "      <td>0.0</td>\n",
       "      <td>21.622900</td>\n",
       "    </tr>\n",
       "    <tr>\n",
       "      <th>Martin</th>\n",
       "      <td>0.0</td>\n",
       "      <td>3.0</td>\n",
       "      <td>22.0</td>\n",
       "      <td>0.0</td>\n",
       "      <td>0.0</td>\n",
       "      <td>8.104167</td>\n",
       "    </tr>\n",
       "    <tr>\n",
       "      <th>Hansen</th>\n",
       "      <td>0.0</td>\n",
       "      <td>3.0</td>\n",
       "      <td>43.0</td>\n",
       "      <td>0.0</td>\n",
       "      <td>0.0</td>\n",
       "      <td>6.943750</td>\n",
       "    </tr>\n",
       "  </tbody>\n",
       "</table>\n",
       "<p>86 rows × 6 columns</p>\n",
       "</div>"
      ],
      "text/plain": [
       "          Survived  Pclass   Age  SibSp  Parch       Fare\n",
       "Last_n1                                                  \n",
       "\"Katie\"        1.0     3.0  16.0    0.0    0.0   7.733300\n",
       "Bertram        1.0     1.0  37.5    0.5    0.5  70.812500\n",
       "W              1.0     2.0  33.5    0.0    1.0  82.297900\n",
       "Thompson       1.0     1.0  43.0    0.0    0.5  94.481250\n",
       "Sleeper        1.0     1.0  48.5    1.0    0.0  76.729200\n",
       "...            ...     ...   ...    ...    ...        ...\n",
       "(Maria         0.0     3.0  41.0    0.5    2.5  27.072900\n",
       "Mathias        0.0     3.0  42.0    0.5    0.0  13.808350\n",
       "Anderson       0.0     2.0  33.5    0.0    0.0  21.622900\n",
       "Martin         0.0     3.0  22.0    0.0    0.0   8.104167\n",
       "Hansen         0.0     3.0  43.0    0.0    0.0   6.943750\n",
       "\n",
       "[86 rows x 6 columns]"
      ]
     },
     "execution_count": 18,
     "metadata": {},
     "output_type": "execute_result"
    }
   ],
   "source": [
    "#Lets see the count and insights of each Last_n1:\n",
    "print(\"Top 3 Category Count\")\n",
    "print(df_train.Last_n1.value_counts()[0:3])\n",
    "print(\"--------------------------\\nMedian standard deviation for all categories:\\n\")\n",
    "print(df_train.groupby(\"Last_n1\").std().median())\n",
    "print(\"--------------------------\\nMean standard deviation for all categories:\\n\")\n",
    "print(df_train.groupby(\"Last_n1\").std().mean())\n",
    "df_train.groupby(\"Last_n1\").mean().sort_values(by='Survived', ascending=False)"
   ]
  },
  {
   "cell_type": "markdown",
   "metadata": {},
   "source": [
    "From the above analysis it can be observed that mean and median standard deviation for all varibles in Last_n1 is very high as compared to Last_n2 so Last_n1 is not a much reliable variable for analysis. It may be because of multiple cases where more than 1 family have same Last_n1 and different members of same family having different Last_n1. "
   ]
  },
  {
   "cell_type": "code",
   "execution_count": 19,
   "metadata": {},
   "outputs": [],
   "source": [
    "#Dropping Last_n1:\n",
    "df_train.drop(\"Last_n1\",axis=1,inplace=True)\n",
    "df_test.drop(\"Last_n1\",axis=1,inplace=True)"
   ]
  },
  {
   "cell_type": "code",
   "execution_count": 20,
   "metadata": {},
   "outputs": [
    {
     "name": "stdout",
     "output_type": "stream",
     "text": [
      "Top 3 Category Count\n",
      "Mr.      502\n",
      "Miss.    179\n",
      "Mrs.     121\n",
      "Name: Title, dtype: int64\n",
      "--------------------------\n",
      "Median standard deviation for all categories:\n",
      "\n",
      "Survived     0.429112\n",
      "Pclass       0.243975\n",
      "Age          9.809963\n",
      "SibSp        0.538675\n",
      "Parch        0.204124\n",
      "Fare        19.650107\n",
      "dtype: float64\n",
      "--------------------------\n",
      "Mean standard deviation for all categories:\n",
      "\n",
      "Survived     0.330929\n",
      "Pclass       0.365619\n",
      "Age          8.219613\n",
      "SibSp        0.586129\n",
      "Parch        0.333126\n",
      "Fare        24.336040\n",
      "dtype: float64\n"
     ]
    },
    {
     "data": {
      "text/html": [
       "<div>\n",
       "<style scoped>\n",
       "    .dataframe tbody tr th:only-of-type {\n",
       "        vertical-align: middle;\n",
       "    }\n",
       "\n",
       "    .dataframe tbody tr th {\n",
       "        vertical-align: top;\n",
       "    }\n",
       "\n",
       "    .dataframe thead th {\n",
       "        text-align: right;\n",
       "    }\n",
       "</style>\n",
       "<table border=\"1\" class=\"dataframe\">\n",
       "  <thead>\n",
       "    <tr style=\"text-align: right;\">\n",
       "      <th></th>\n",
       "      <th>Survived</th>\n",
       "      <th>Pclass</th>\n",
       "      <th>Age</th>\n",
       "      <th>SibSp</th>\n",
       "      <th>Parch</th>\n",
       "      <th>Fare</th>\n",
       "    </tr>\n",
       "    <tr>\n",
       "      <th>Title</th>\n",
       "      <th></th>\n",
       "      <th></th>\n",
       "      <th></th>\n",
       "      <th></th>\n",
       "      <th></th>\n",
       "      <th></th>\n",
       "    </tr>\n",
       "  </thead>\n",
       "  <tbody>\n",
       "    <tr>\n",
       "      <th>Gordon,</th>\n",
       "      <td>1.000000</td>\n",
       "      <td>1.000000</td>\n",
       "      <td>48.500000</td>\n",
       "      <td>1.000000</td>\n",
       "      <td>0.000000</td>\n",
       "      <td>48.264600</td>\n",
       "    </tr>\n",
       "    <tr>\n",
       "      <th>Mlle.</th>\n",
       "      <td>1.000000</td>\n",
       "      <td>1.000000</td>\n",
       "      <td>24.000000</td>\n",
       "      <td>0.000000</td>\n",
       "      <td>0.000000</td>\n",
       "      <td>59.402100</td>\n",
       "    </tr>\n",
       "    <tr>\n",
       "      <th>Mrs.</th>\n",
       "      <td>0.801653</td>\n",
       "      <td>1.983471</td>\n",
       "      <td>36.182692</td>\n",
       "      <td>0.685950</td>\n",
       "      <td>0.851240</td>\n",
       "      <td>45.238567</td>\n",
       "    </tr>\n",
       "    <tr>\n",
       "      <th>y</th>\n",
       "      <td>0.750000</td>\n",
       "      <td>1.500000</td>\n",
       "      <td>20.666667</td>\n",
       "      <td>0.750000</td>\n",
       "      <td>0.000000</td>\n",
       "      <td>61.380200</td>\n",
       "    </tr>\n",
       "    <tr>\n",
       "      <th>Miss.</th>\n",
       "      <td>0.703911</td>\n",
       "      <td>2.301676</td>\n",
       "      <td>21.846154</td>\n",
       "      <td>0.709497</td>\n",
       "      <td>0.547486</td>\n",
       "      <td>43.032823</td>\n",
       "    </tr>\n",
       "    <tr>\n",
       "      <th>Master.</th>\n",
       "      <td>0.575000</td>\n",
       "      <td>2.625000</td>\n",
       "      <td>4.574167</td>\n",
       "      <td>2.300000</td>\n",
       "      <td>1.375000</td>\n",
       "      <td>34.703125</td>\n",
       "    </tr>\n",
       "    <tr>\n",
       "      <th>Col.</th>\n",
       "      <td>0.500000</td>\n",
       "      <td>1.000000</td>\n",
       "      <td>58.000000</td>\n",
       "      <td>0.000000</td>\n",
       "      <td>0.000000</td>\n",
       "      <td>31.025000</td>\n",
       "    </tr>\n",
       "    <tr>\n",
       "      <th>Major.</th>\n",
       "      <td>0.500000</td>\n",
       "      <td>1.000000</td>\n",
       "      <td>48.500000</td>\n",
       "      <td>0.000000</td>\n",
       "      <td>0.000000</td>\n",
       "      <td>28.525000</td>\n",
       "    </tr>\n",
       "    <tr>\n",
       "      <th>Dr.</th>\n",
       "      <td>0.428571</td>\n",
       "      <td>1.285714</td>\n",
       "      <td>42.000000</td>\n",
       "      <td>0.571429</td>\n",
       "      <td>0.000000</td>\n",
       "      <td>49.168457</td>\n",
       "    </tr>\n",
       "    <tr>\n",
       "      <th>Other_Title</th>\n",
       "      <td>0.277778</td>\n",
       "      <td>2.222222</td>\n",
       "      <td>35.970588</td>\n",
       "      <td>0.166667</td>\n",
       "      <td>0.166667</td>\n",
       "      <td>24.103933</td>\n",
       "    </tr>\n",
       "    <tr>\n",
       "      <th>Mr.</th>\n",
       "      <td>0.157371</td>\n",
       "      <td>2.404382</td>\n",
       "      <td>32.389610</td>\n",
       "      <td>0.286853</td>\n",
       "      <td>0.151394</td>\n",
       "      <td>23.700728</td>\n",
       "    </tr>\n",
       "    <tr>\n",
       "      <th>Impe,</th>\n",
       "      <td>0.000000</td>\n",
       "      <td>3.000000</td>\n",
       "      <td>25.333333</td>\n",
       "      <td>0.666667</td>\n",
       "      <td>1.333333</td>\n",
       "      <td>24.150000</td>\n",
       "    </tr>\n",
       "    <tr>\n",
       "      <th>Planke,</th>\n",
       "      <td>0.000000</td>\n",
       "      <td>3.000000</td>\n",
       "      <td>21.666667</td>\n",
       "      <td>1.666667</td>\n",
       "      <td>0.000000</td>\n",
       "      <td>18.000000</td>\n",
       "    </tr>\n",
       "    <tr>\n",
       "      <th>Rev.</th>\n",
       "      <td>0.000000</td>\n",
       "      <td>2.000000</td>\n",
       "      <td>43.166667</td>\n",
       "      <td>0.166667</td>\n",
       "      <td>0.166667</td>\n",
       "      <td>18.312500</td>\n",
       "    </tr>\n",
       "  </tbody>\n",
       "</table>\n",
       "</div>"
      ],
      "text/plain": [
       "             Survived    Pclass        Age     SibSp     Parch       Fare\n",
       "Title                                                                    \n",
       "Gordon,      1.000000  1.000000  48.500000  1.000000  0.000000  48.264600\n",
       "Mlle.        1.000000  1.000000  24.000000  0.000000  0.000000  59.402100\n",
       "Mrs.         0.801653  1.983471  36.182692  0.685950  0.851240  45.238567\n",
       "y            0.750000  1.500000  20.666667  0.750000  0.000000  61.380200\n",
       "Miss.        0.703911  2.301676  21.846154  0.709497  0.547486  43.032823\n",
       "Master.      0.575000  2.625000   4.574167  2.300000  1.375000  34.703125\n",
       "Col.         0.500000  1.000000  58.000000  0.000000  0.000000  31.025000\n",
       "Major.       0.500000  1.000000  48.500000  0.000000  0.000000  28.525000\n",
       "Dr.          0.428571  1.285714  42.000000  0.571429  0.000000  49.168457\n",
       "Other_Title  0.277778  2.222222  35.970588  0.166667  0.166667  24.103933\n",
       "Mr.          0.157371  2.404382  32.389610  0.286853  0.151394  23.700728\n",
       "Impe,        0.000000  3.000000  25.333333  0.666667  1.333333  24.150000\n",
       "Planke,      0.000000  3.000000  21.666667  1.666667  0.000000  18.000000\n",
       "Rev.         0.000000  2.000000  43.166667  0.166667  0.166667  18.312500"
      ]
     },
     "execution_count": 20,
     "metadata": {},
     "output_type": "execute_result"
    }
   ],
   "source": [
    "#Lets see the count and insights of each Title:\n",
    "print(\"Top 3 Category Count\")\n",
    "print(df_train.Title.value_counts()[0:3])\n",
    "print(\"--------------------------\\nMedian standard deviation for all categories:\\n\")\n",
    "print(df_train.groupby(\"Title\").std().median())\n",
    "print(\"--------------------------\\nMean standard deviation for all categories:\\n\")\n",
    "print(df_train.groupby(\"Title\").std().mean())\n",
    "df_train.groupby(\"Title\").mean().sort_values(by='Survived', ascending=False)"
   ]
  },
  {
   "cell_type": "markdown",
   "metadata": {},
   "source": [
    "From the above analysis it can be observed that Title has low mean and median standard deviation for Age and also every Title have significant difference in average Age so it can act as a good predictor for imputing missing values of Age.\n"
   ]
  },
  {
   "cell_type": "code",
   "execution_count": 21,
   "metadata": {},
   "outputs": [
    {
     "data": {
      "image/png": "[encoded data removed]",
      "text/plain": [
       "<Figure size 864x504 with 1 Axes>"
      ]
     },
     "metadata": {
      "needs_background": "light"
     },
     "output_type": "display_data"
    }
   ],
   "source": [
    "plt.figure(figsize=[12,7])\n",
    "sns.scatterplot(data=df_train,hue=\"Survived\",y=\"Age\",x=\"Title\",style=\"Sex\",alpha=0.6)\n",
    "plt.show()"
   ]
  },
  {
   "cell_type": "markdown",
   "metadata": {},
   "source": [
    "# **4)Sex**"
   ]
  },
  {
   "cell_type": "code",
   "execution_count": 22,
   "metadata": {},
   "outputs": [
    {
     "data": {
      "text/html": [
       "<div>\n",
       "<style scoped>\n",
       "    .dataframe tbody tr th:only-of-type {\n",
       "        vertical-align: middle;\n",
       "    }\n",
       "\n",
       "    .dataframe tbody tr th {\n",
       "        vertical-align: top;\n",
       "    }\n",
       "\n",
       "    .dataframe thead th {\n",
       "        text-align: right;\n",
       "    }\n",
       "</style>\n",
       "<table border=\"1\" class=\"dataframe\">\n",
       "  <thead>\n",
       "    <tr style=\"text-align: right;\">\n",
       "      <th></th>\n",
       "      <th>Survived</th>\n",
       "      <th>Pclass</th>\n",
       "      <th>Age</th>\n",
       "      <th>SibSp</th>\n",
       "      <th>Parch</th>\n",
       "      <th>Fare</th>\n",
       "    </tr>\n",
       "    <tr>\n",
       "      <th>Sex</th>\n",
       "      <th></th>\n",
       "      <th></th>\n",
       "      <th></th>\n",
       "      <th></th>\n",
       "      <th></th>\n",
       "      <th></th>\n",
       "    </tr>\n",
       "  </thead>\n",
       "  <tbody>\n",
       "    <tr>\n",
       "      <th>female</th>\n",
       "      <td>0.742038</td>\n",
       "      <td>2.159236</td>\n",
       "      <td>27.915709</td>\n",
       "      <td>0.694268</td>\n",
       "      <td>0.649682</td>\n",
       "      <td>43.803610</td>\n",
       "    </tr>\n",
       "    <tr>\n",
       "      <th>male</th>\n",
       "      <td>0.188908</td>\n",
       "      <td>2.389948</td>\n",
       "      <td>30.726645</td>\n",
       "      <td>0.429809</td>\n",
       "      <td>0.235702</td>\n",
       "      <td>24.787917</td>\n",
       "    </tr>\n",
       "  </tbody>\n",
       "</table>\n",
       "</div>"
      ],
      "text/plain": [
       "        Survived    Pclass        Age     SibSp     Parch       Fare\n",
       "Sex                                                                 \n",
       "female  0.742038  2.159236  27.915709  0.694268  0.649682  43.803610\n",
       "male    0.188908  2.389948  30.726645  0.429809  0.235702  24.787917"
      ]
     },
     "execution_count": 22,
     "metadata": {},
     "output_type": "execute_result"
    },
    {
     "data": {
      "image/png": "[encoded data removed]",
      "text/plain": [
       "<Figure size 432x288 with 1 Axes>"
      ]
     },
     "metadata": {
      "needs_background": "light"
     },
     "output_type": "display_data"
    }
   ],
   "source": [
    "sns.barplot(data=df_train,x=\"Sex\",y=\"Fare\",hue=\"Survived\")\n",
    "df_train.groupby(\"Sex\").mean()"
   ]
  },
  {
   "cell_type": "markdown",
   "metadata": {},
   "source": [
    "It can be observed that females have much higher survival rate than males and on an average they had paid much higher Fare as compared to males.  "
   ]
  },
  {
   "cell_type": "markdown",
   "metadata": {},
   "source": [
    "# **5)Age**\n",
    "It is the age of individual passenger. This column has many missing values in both training and testing data.\n"
   ]
  },
  {
   "cell_type": "code",
   "execution_count": 23,
   "metadata": {},
   "outputs": [
    {
     "name": "stdout",
     "output_type": "stream",
     "text": [
      "null values in Age =  177\n"
     ]
    },
    {
     "data": {
      "image/png": "[encoded data removed]",
      "text/plain": [
       "<Figure size 432x288 with 1 Axes>"
      ]
     },
     "metadata": {
      "needs_background": "light"
     },
     "output_type": "display_data"
    },
    {
     "name": "stderr",
     "output_type": "stream",
     "text": [
      "C:\\Users\\hp\\Anaconda3\\lib\\site-packages\\ipykernel_launcher.py:6: SettingWithCopyWarning: \n",
      "A value is trying to be set on a copy of a slice from a DataFrame\n",
      "\n",
      "See the caveats in the documentation: https://pandas.pydata.org/pandas-docs/stable/user_guide/indexing.html#returning-a-view-versus-a-copy\n",
      "  \n"
     ]
    },
    {
     "name": "stdout",
     "output_type": "stream",
     "text": [
      "null values after imputing Age with mean of age for that Title =  0\n"
     ]
    },
    {
     "data": {
      "image/png": "[encoded data removed]",
      "text/plain": [
       "<Figure size 432x288 with 1 Axes>"
      ]
     },
     "metadata": {
      "needs_background": "light"
     },
     "output_type": "display_data"
    }
   ],
   "source": [
    "print(\"null values in Age = \", df_train.Age.isnull().sum())\n",
    "\n",
    "df_train.Age.hist()\n",
    "plt.show()\n",
    "for x in df_train.Title.unique():\n",
    "    df_train[\"Age\"][df_train[\"Title\"]==x]=df_train[\"Age\"][df_train[\"Title\"]==x].replace(np.nan,df_train[\"Age\"][df_train[\"Title\"]==x].mean())\n",
    "df_train.Age.hist()\n",
    "print(\"null values after imputing Age with mean of age for that Title = \", df_train.Age.isnull().sum())\n",
    "plt.show()\n"
   ]
  },
  {
   "cell_type": "code",
   "execution_count": 24,
   "metadata": {},
   "outputs": [
    {
     "name": "stdout",
     "output_type": "stream",
     "text": [
      "null values in Age in Test data =  86\n"
     ]
    },
    {
     "data": {
      "image/png": "[encoded data removed]",
      "text/plain": [
       "<Figure size 432x288 with 1 Axes>"
      ]
     },
     "metadata": {
      "needs_background": "light"
     },
     "output_type": "display_data"
    },
    {
     "name": "stderr",
     "output_type": "stream",
     "text": [
      "C:\\Users\\hp\\Anaconda3\\lib\\site-packages\\ipykernel_launcher.py:9: SettingWithCopyWarning: \n",
      "A value is trying to be set on a copy of a slice from a DataFrame\n",
      "\n",
      "See the caveats in the documentation: https://pandas.pydata.org/pandas-docs/stable/user_guide/indexing.html#returning-a-view-versus-a-copy\n",
      "  if __name__ == '__main__':\n"
     ]
    },
    {
     "name": "stdout",
     "output_type": "stream",
     "text": [
      "null values after imputing Age with mean of age for that Title =  0\n"
     ]
    },
    {
     "data": {
      "image/png": "[encoded data removed]",
      "text/plain": [
       "<Figure size 432x288 with 1 Axes>"
      ]
     },
     "metadata": {
      "needs_background": "light"
     },
     "output_type": "display_data"
    }
   ],
   "source": [
    "#making changes in Testing data:\n",
    "print(\"null values in Age in Test data = \", df_test.Age.isnull().sum())\n",
    "\n",
    "df_test.Age.hist(alpha=0.4)\n",
    "\n",
    "plt.show()\n",
    "\n",
    "for x in df_test.Title.unique():\n",
    "    df_test[\"Age\"][df_test[\"Title\"]==x]=df_test[\"Age\"][df_test[\"Title\"]==x].replace(np.nan,df_train[\"Age\"][df_train[\"Title\"]==x].mean())\n",
    "df_test.Age.hist()\n",
    "print(\"null values after imputing Age with mean of age for that Title = \", df_test.Age.isnull().sum())\n",
    "\n",
    "df_test.Age.hist(alpha=0.4)\n",
    "plt.show()\n"
   ]
  },
  {
   "cell_type": "markdown",
   "metadata": {},
   "source": [
    "It can be observed that there are significant changes in Age distribution in both Training and testing data after imputing the missing values of Age."
   ]
  },
  {
   "cell_type": "code",
   "execution_count": 25,
   "metadata": {},
   "outputs": [
    {
     "data": {
      "text/plain": [
       "<matplotlib.axes._subplots.AxesSubplot at 0x237dc334f98>"
      ]
     },
     "execution_count": 25,
     "metadata": {},
     "output_type": "execute_result"
    },
    {
     "data": {
      "image/png": "[encoded data removed]",
      "text/plain": [
       "<Figure size 432x288 with 1 Axes>"
      ]
     },
     "metadata": {
      "needs_background": "light"
     },
     "output_type": "display_data"
    }
   ],
   "source": [
    "sns.boxplot(data=df_train, x=\"Pclass\",y=\"Age\",hue=\"Survived\")\n"
   ]
  },
  {
   "cell_type": "markdown",
   "metadata": {},
   "source": [
    "It can be observed that lower age passengers had more survival rate for every Pclass. Also Passengers belonging to Pclass 1 had the highest age followed by Pclass 2 and Pclass 3 in respective order."
   ]
  },
  {
   "cell_type": "markdown",
   "metadata": {},
   "source": [
    "# **6)SibSp**\n",
    "It denotes the total number of Siblings and Spouse travelling together."
   ]
  },
  {
   "cell_type": "code",
   "execution_count": 26,
   "metadata": {},
   "outputs": [
    {
     "data": {
      "text/html": [
       "<div>\n",
       "<style scoped>\n",
       "    .dataframe tbody tr th:only-of-type {\n",
       "        vertical-align: middle;\n",
       "    }\n",
       "\n",
       "    .dataframe tbody tr th {\n",
       "        vertical-align: top;\n",
       "    }\n",
       "\n",
       "    .dataframe thead th {\n",
       "        text-align: right;\n",
       "    }\n",
       "</style>\n",
       "<table border=\"1\" class=\"dataframe\">\n",
       "  <thead>\n",
       "    <tr style=\"text-align: right;\">\n",
       "      <th></th>\n",
       "      <th>Survived</th>\n",
       "      <th>Pclass</th>\n",
       "      <th>Age</th>\n",
       "      <th>Parch</th>\n",
       "      <th>Fare</th>\n",
       "    </tr>\n",
       "    <tr>\n",
       "      <th>SibSp</th>\n",
       "      <th></th>\n",
       "      <th></th>\n",
       "      <th></th>\n",
       "      <th></th>\n",
       "      <th></th>\n",
       "    </tr>\n",
       "  </thead>\n",
       "  <tbody>\n",
       "    <tr>\n",
       "      <th>1</th>\n",
       "      <td>0.535885</td>\n",
       "      <td>2.057416</td>\n",
       "      <td>29.988464</td>\n",
       "      <td>0.655502</td>\n",
       "      <td>44.147370</td>\n",
       "    </tr>\n",
       "    <tr>\n",
       "      <th>2</th>\n",
       "      <td>0.464286</td>\n",
       "      <td>2.357143</td>\n",
       "      <td>23.290192</td>\n",
       "      <td>0.642857</td>\n",
       "      <td>51.753718</td>\n",
       "    </tr>\n",
       "    <tr>\n",
       "      <th>0</th>\n",
       "      <td>0.345395</td>\n",
       "      <td>2.351974</td>\n",
       "      <td>31.268334</td>\n",
       "      <td>0.185855</td>\n",
       "      <td>24.644351</td>\n",
       "    </tr>\n",
       "    <tr>\n",
       "      <th>3</th>\n",
       "      <td>0.250000</td>\n",
       "      <td>2.562500</td>\n",
       "      <td>14.819539</td>\n",
       "      <td>1.312500</td>\n",
       "      <td>68.908862</td>\n",
       "    </tr>\n",
       "    <tr>\n",
       "      <th>4</th>\n",
       "      <td>0.166667</td>\n",
       "      <td>3.000000</td>\n",
       "      <td>7.055556</td>\n",
       "      <td>1.500000</td>\n",
       "      <td>31.855556</td>\n",
       "    </tr>\n",
       "    <tr>\n",
       "      <th>5</th>\n",
       "      <td>0.000000</td>\n",
       "      <td>3.000000</td>\n",
       "      <td>10.200000</td>\n",
       "      <td>2.000000</td>\n",
       "      <td>46.900000</td>\n",
       "    </tr>\n",
       "    <tr>\n",
       "      <th>8</th>\n",
       "      <td>0.000000</td>\n",
       "      <td>3.000000</td>\n",
       "      <td>23.897351</td>\n",
       "      <td>2.000000</td>\n",
       "      <td>69.550000</td>\n",
       "    </tr>\n",
       "  </tbody>\n",
       "</table>\n",
       "</div>"
      ],
      "text/plain": [
       "       Survived    Pclass        Age     Parch       Fare\n",
       "SibSp                                                    \n",
       "1      0.535885  2.057416  29.988464  0.655502  44.147370\n",
       "2      0.464286  2.357143  23.290192  0.642857  51.753718\n",
       "0      0.345395  2.351974  31.268334  0.185855  24.644351\n",
       "3      0.250000  2.562500  14.819539  1.312500  68.908862\n",
       "4      0.166667  3.000000   7.055556  1.500000  31.855556\n",
       "5      0.000000  3.000000  10.200000  2.000000  46.900000\n",
       "8      0.000000  3.000000  23.897351  2.000000  69.550000"
      ]
     },
     "execution_count": 26,
     "metadata": {},
     "output_type": "execute_result"
    }
   ],
   "source": [
    "df_train.groupby(\"SibSp\").mean().sort_values(by='Survived', ascending=False)"
   ]
  },
  {
   "cell_type": "markdown",
   "metadata": {},
   "source": [
    "It can be observed that passengers with higher number of siblings and spouse have lower survival rate and higher fare and vice versa. Though this relationship is not linear."
   ]
  },
  {
   "cell_type": "markdown",
   "metadata": {},
   "source": [
    "# **7)Parch**\n",
    "It is the number of parents and childrens traveling together. "
   ]
  },
  {
   "cell_type": "code",
   "execution_count": 27,
   "metadata": {},
   "outputs": [
    {
     "data": {
      "text/html": [
       "<div>\n",
       "<style scoped>\n",
       "    .dataframe tbody tr th:only-of-type {\n",
       "        vertical-align: middle;\n",
       "    }\n",
       "\n",
       "    .dataframe tbody tr th {\n",
       "        vertical-align: top;\n",
       "    }\n",
       "\n",
       "    .dataframe thead th {\n",
       "        text-align: right;\n",
       "    }\n",
       "</style>\n",
       "<table border=\"1\" class=\"dataframe\">\n",
       "  <thead>\n",
       "    <tr style=\"text-align: right;\">\n",
       "      <th></th>\n",
       "      <th>Survived</th>\n",
       "      <th>Pclass</th>\n",
       "      <th>Age</th>\n",
       "      <th>SibSp</th>\n",
       "      <th>Fare</th>\n",
       "    </tr>\n",
       "    <tr>\n",
       "      <th>Parch</th>\n",
       "      <th></th>\n",
       "      <th></th>\n",
       "      <th></th>\n",
       "      <th></th>\n",
       "      <th></th>\n",
       "    </tr>\n",
       "  </thead>\n",
       "  <tbody>\n",
       "    <tr>\n",
       "      <th>3</th>\n",
       "      <td>0.600000</td>\n",
       "      <td>2.600000</td>\n",
       "      <td>33.200000</td>\n",
       "      <td>1.000000</td>\n",
       "      <td>25.951660</td>\n",
       "    </tr>\n",
       "    <tr>\n",
       "      <th>1</th>\n",
       "      <td>0.550847</td>\n",
       "      <td>2.203390</td>\n",
       "      <td>23.929744</td>\n",
       "      <td>1.084746</td>\n",
       "      <td>44.978780</td>\n",
       "    </tr>\n",
       "    <tr>\n",
       "      <th>2</th>\n",
       "      <td>0.500000</td>\n",
       "      <td>2.275000</td>\n",
       "      <td>18.580985</td>\n",
       "      <td>2.062500</td>\n",
       "      <td>64.337604</td>\n",
       "    </tr>\n",
       "    <tr>\n",
       "      <th>0</th>\n",
       "      <td>0.343658</td>\n",
       "      <td>2.321534</td>\n",
       "      <td>31.888005</td>\n",
       "      <td>0.237463</td>\n",
       "      <td>24.960434</td>\n",
       "    </tr>\n",
       "    <tr>\n",
       "      <th>5</th>\n",
       "      <td>0.200000</td>\n",
       "      <td>3.000000</td>\n",
       "      <td>39.200000</td>\n",
       "      <td>0.600000</td>\n",
       "      <td>32.550000</td>\n",
       "    </tr>\n",
       "    <tr>\n",
       "      <th>4</th>\n",
       "      <td>0.000000</td>\n",
       "      <td>2.500000</td>\n",
       "      <td>44.500000</td>\n",
       "      <td>0.750000</td>\n",
       "      <td>84.968750</td>\n",
       "    </tr>\n",
       "    <tr>\n",
       "      <th>6</th>\n",
       "      <td>0.000000</td>\n",
       "      <td>3.000000</td>\n",
       "      <td>43.000000</td>\n",
       "      <td>1.000000</td>\n",
       "      <td>46.900000</td>\n",
       "    </tr>\n",
       "  </tbody>\n",
       "</table>\n",
       "</div>"
      ],
      "text/plain": [
       "       Survived    Pclass        Age     SibSp       Fare\n",
       "Parch                                                    \n",
       "3      0.600000  2.600000  33.200000  1.000000  25.951660\n",
       "1      0.550847  2.203390  23.929744  1.084746  44.978780\n",
       "2      0.500000  2.275000  18.580985  2.062500  64.337604\n",
       "0      0.343658  2.321534  31.888005  0.237463  24.960434\n",
       "5      0.200000  3.000000  39.200000  0.600000  32.550000\n",
       "4      0.000000  2.500000  44.500000  0.750000  84.968750\n",
       "6      0.000000  3.000000  43.000000  1.000000  46.900000"
      ]
     },
     "execution_count": 27,
     "metadata": {},
     "output_type": "execute_result"
    }
   ],
   "source": [
    "df_train.groupby(\"Parch\").mean().sort_values(by='Survived', ascending=False)"
   ]
  },
  {
   "cell_type": "markdown",
   "metadata": {},
   "source": [
    "We can observe that lower number of parents and children traveling together have paid higher fare and vice versa."
   ]
  },
  {
   "cell_type": "markdown",
   "metadata": {},
   "source": [
    "**Family Size (f_size)**\n",
    "\n",
    "Adding SibSp and Parch would give total family size. So creating a new variable f_size which denotes total family size."
   ]
  },
  {
   "cell_type": "code",
   "execution_count": 28,
   "metadata": {},
   "outputs": [
    {
     "data": {
      "text/html": [
       "<div>\n",
       "<style scoped>\n",
       "    .dataframe tbody tr th:only-of-type {\n",
       "        vertical-align: middle;\n",
       "    }\n",
       "\n",
       "    .dataframe tbody tr th {\n",
       "        vertical-align: top;\n",
       "    }\n",
       "\n",
       "    .dataframe thead th {\n",
       "        text-align: right;\n",
       "    }\n",
       "</style>\n",
       "<table border=\"1\" class=\"dataframe\">\n",
       "  <thead>\n",
       "    <tr style=\"text-align: right;\">\n",
       "      <th></th>\n",
       "      <th>Survived</th>\n",
       "      <th>Pclass</th>\n",
       "      <th>Age</th>\n",
       "      <th>SibSp</th>\n",
       "      <th>Parch</th>\n",
       "      <th>Fare</th>\n",
       "    </tr>\n",
       "    <tr>\n",
       "      <th>f_size</th>\n",
       "      <th></th>\n",
       "      <th></th>\n",
       "      <th></th>\n",
       "      <th></th>\n",
       "      <th></th>\n",
       "      <th></th>\n",
       "    </tr>\n",
       "  </thead>\n",
       "  <tbody>\n",
       "    <tr>\n",
       "      <th>3</th>\n",
       "      <td>0.724138</td>\n",
       "      <td>2.068966</td>\n",
       "      <td>18.884682</td>\n",
       "      <td>1.344828</td>\n",
       "      <td>1.655172</td>\n",
       "      <td>54.864510</td>\n",
       "    </tr>\n",
       "    <tr>\n",
       "      <th>2</th>\n",
       "      <td>0.578431</td>\n",
       "      <td>2.225490</td>\n",
       "      <td>25.815308</td>\n",
       "      <td>0.872549</td>\n",
       "      <td>1.127451</td>\n",
       "      <td>39.692482</td>\n",
       "    </tr>\n",
       "    <tr>\n",
       "      <th>1</th>\n",
       "      <td>0.552795</td>\n",
       "      <td>1.919255</td>\n",
       "      <td>31.525103</td>\n",
       "      <td>0.763975</td>\n",
       "      <td>0.236025</td>\n",
       "      <td>48.575314</td>\n",
       "    </tr>\n",
       "    <tr>\n",
       "      <th>6</th>\n",
       "      <td>0.333333</td>\n",
       "      <td>3.000000</td>\n",
       "      <td>15.166667</td>\n",
       "      <td>3.250000</td>\n",
       "      <td>2.750000</td>\n",
       "      <td>29.366667</td>\n",
       "    </tr>\n",
       "    <tr>\n",
       "      <th>0</th>\n",
       "      <td>0.303538</td>\n",
       "      <td>2.400372</td>\n",
       "      <td>31.861272</td>\n",
       "      <td>0.000000</td>\n",
       "      <td>0.000000</td>\n",
       "      <td>20.451891</td>\n",
       "    </tr>\n",
       "    <tr>\n",
       "      <th>4</th>\n",
       "      <td>0.200000</td>\n",
       "      <td>2.666667</td>\n",
       "      <td>19.940842</td>\n",
       "      <td>2.133333</td>\n",
       "      <td>1.866667</td>\n",
       "      <td>58.094453</td>\n",
       "    </tr>\n",
       "    <tr>\n",
       "      <th>5</th>\n",
       "      <td>0.136364</td>\n",
       "      <td>2.590909</td>\n",
       "      <td>18.409091</td>\n",
       "      <td>2.818182</td>\n",
       "      <td>2.181818</td>\n",
       "      <td>73.722727</td>\n",
       "    </tr>\n",
       "    <tr>\n",
       "      <th>7</th>\n",
       "      <td>0.000000</td>\n",
       "      <td>3.000000</td>\n",
       "      <td>15.666667</td>\n",
       "      <td>4.333333</td>\n",
       "      <td>2.666667</td>\n",
       "      <td>46.900000</td>\n",
       "    </tr>\n",
       "    <tr>\n",
       "      <th>10</th>\n",
       "      <td>0.000000</td>\n",
       "      <td>3.000000</td>\n",
       "      <td>23.897351</td>\n",
       "      <td>8.000000</td>\n",
       "      <td>2.000000</td>\n",
       "      <td>69.550000</td>\n",
       "    </tr>\n",
       "  </tbody>\n",
       "</table>\n",
       "</div>"
      ],
      "text/plain": [
       "        Survived    Pclass        Age     SibSp     Parch       Fare\n",
       "f_size                                                              \n",
       "3       0.724138  2.068966  18.884682  1.344828  1.655172  54.864510\n",
       "2       0.578431  2.225490  25.815308  0.872549  1.127451  39.692482\n",
       "1       0.552795  1.919255  31.525103  0.763975  0.236025  48.575314\n",
       "6       0.333333  3.000000  15.166667  3.250000  2.750000  29.366667\n",
       "0       0.303538  2.400372  31.861272  0.000000  0.000000  20.451891\n",
       "4       0.200000  2.666667  19.940842  2.133333  1.866667  58.094453\n",
       "5       0.136364  2.590909  18.409091  2.818182  2.181818  73.722727\n",
       "7       0.000000  3.000000  15.666667  4.333333  2.666667  46.900000\n",
       "10      0.000000  3.000000  23.897351  8.000000  2.000000  69.550000"
      ]
     },
     "execution_count": 28,
     "metadata": {},
     "output_type": "execute_result"
    }
   ],
   "source": [
    "df_train[\"f_size\"]=df_train.Parch+df_train.SibSp\n",
    "df_test[\"f_size\"]=df_test.Parch+df_test.SibSp\n",
    "df_train.groupby(\"f_size\").mean().sort_values(by='Survived', ascending=False)"
   ]
  },
  {
   "cell_type": "code",
   "execution_count": 29,
   "metadata": {},
   "outputs": [
    {
     "data": {
      "image/png": "[encoded data removed]",
      "text/plain": [
       "<Figure size 432x288 with 1 Axes>"
      ]
     },
     "metadata": {
      "needs_background": "light"
     },
     "output_type": "display_data"
    },
    {
     "data": {
      "image/png": "[encoded data removed]",
      "text/plain": [
       "<Figure size 432x288 with 1 Axes>"
      ]
     },
     "metadata": {
      "needs_background": "light"
     },
     "output_type": "display_data"
    },
    {
     "data": {
      "image/png": "[encoded data removed]",
      "text/plain": [
       "<Figure size 432x288 with 1 Axes>"
      ]
     },
     "metadata": {
      "needs_background": "light"
     },
     "output_type": "display_data"
    }
   ],
   "source": [
    "sns.scatterplot(data=df_train,y=\"Parch\",hue=\"Survived\",x=\"f_size\",style=\"Survived\",alpha=0.15)\n",
    "plt.show()\n",
    "sns.scatterplot(data=df_train,y=\"SibSp\",hue=\"Survived\",x=\"f_size\",style=\"Survived\",alpha=0.15)\n",
    "plt.show()\n",
    "sns.countplot(data=df_train,hue=\"Survived\",x=\"f_size\")\n",
    "plt.show()"
   ]
  },
  {
   "cell_type": "markdown",
   "metadata": {},
   "source": [
    "It can be observed from the above analysis that lower family size have a higher survival rate and lower fare."
   ]
  },
  {
   "cell_type": "markdown",
   "metadata": {},
   "source": [
    "# **8)Ticket**\n",
    "As there are very few similar tickets It would not be much useful so I am dropping it."
   ]
  },
  {
   "cell_type": "code",
   "execution_count": 30,
   "metadata": {},
   "outputs": [
    {
     "data": {
      "text/html": [
       "<div>\n",
       "<style scoped>\n",
       "    .dataframe tbody tr th:only-of-type {\n",
       "        vertical-align: middle;\n",
       "    }\n",
       "\n",
       "    .dataframe tbody tr th {\n",
       "        vertical-align: top;\n",
       "    }\n",
       "\n",
       "    .dataframe thead th {\n",
       "        text-align: right;\n",
       "    }\n",
       "</style>\n",
       "<table border=\"1\" class=\"dataframe\">\n",
       "  <thead>\n",
       "    <tr style=\"text-align: right;\">\n",
       "      <th></th>\n",
       "      <th>Survived</th>\n",
       "      <th>Pclass</th>\n",
       "      <th>Sex</th>\n",
       "      <th>Age</th>\n",
       "      <th>SibSp</th>\n",
       "      <th>Parch</th>\n",
       "      <th>Fare</th>\n",
       "      <th>Cabin</th>\n",
       "      <th>Embarked</th>\n",
       "      <th>Last_n2</th>\n",
       "      <th>Title</th>\n",
       "      <th>f_size</th>\n",
       "    </tr>\n",
       "  </thead>\n",
       "  <tbody>\n",
       "    <tr>\n",
       "      <th>0</th>\n",
       "      <td>0</td>\n",
       "      <td>3</td>\n",
       "      <td>male</td>\n",
       "      <td>22.0</td>\n",
       "      <td>1</td>\n",
       "      <td>0</td>\n",
       "      <td>7.2500</td>\n",
       "      <td>NaN</td>\n",
       "      <td>S</td>\n",
       "      <td>V_Low</td>\n",
       "      <td>Mr.</td>\n",
       "      <td>1</td>\n",
       "    </tr>\n",
       "    <tr>\n",
       "      <th>1</th>\n",
       "      <td>1</td>\n",
       "      <td>1</td>\n",
       "      <td>female</td>\n",
       "      <td>38.0</td>\n",
       "      <td>1</td>\n",
       "      <td>0</td>\n",
       "      <td>71.2833</td>\n",
       "      <td>C85</td>\n",
       "      <td>C</td>\n",
       "      <td>Other_Last_n2</td>\n",
       "      <td>Mrs.</td>\n",
       "      <td>1</td>\n",
       "    </tr>\n",
       "    <tr>\n",
       "      <th>2</th>\n",
       "      <td>1</td>\n",
       "      <td>3</td>\n",
       "      <td>female</td>\n",
       "      <td>26.0</td>\n",
       "      <td>0</td>\n",
       "      <td>0</td>\n",
       "      <td>7.9250</td>\n",
       "      <td>NaN</td>\n",
       "      <td>S</td>\n",
       "      <td>Other_Last_n2</td>\n",
       "      <td>Miss.</td>\n",
       "      <td>0</td>\n",
       "    </tr>\n",
       "  </tbody>\n",
       "</table>\n",
       "</div>"
      ],
      "text/plain": [
       "   Survived  Pclass     Sex   Age  SibSp  Parch     Fare Cabin Embarked  \\\n",
       "0         0       3    male  22.0      1      0   7.2500   NaN        S   \n",
       "1         1       1  female  38.0      1      0  71.2833   C85        C   \n",
       "2         1       3  female  26.0      0      0   7.9250   NaN        S   \n",
       "\n",
       "         Last_n2  Title  f_size  \n",
       "0          V_Low    Mr.       1  \n",
       "1  Other_Last_n2   Mrs.       1  \n",
       "2  Other_Last_n2  Miss.       0  "
      ]
     },
     "execution_count": 30,
     "metadata": {},
     "output_type": "execute_result"
    }
   ],
   "source": [
    "df_train.drop(\"Ticket\",axis=1,inplace=True)\n",
    "df_test.drop(\"Ticket\",axis=1,inplace=True)\n",
    "df_train.head(3)"
   ]
  },
  {
   "cell_type": "markdown",
   "metadata": {},
   "source": [
    "# **9)Fare**\n",
    "It is the amount paid by passenger for ticket.\n"
   ]
  },
  {
   "cell_type": "code",
   "execution_count": 31,
   "metadata": {},
   "outputs": [
    {
     "data": {
      "text/plain": [
       "<matplotlib.axes._subplots.AxesSubplot at 0x237d3d67ef0>"
      ]
     },
     "execution_count": 31,
     "metadata": {},
     "output_type": "execute_result"
    },
    {
     "data": {
      "image/png": "[encoded data removed]",
      "text/plain": [
       "<Figure size 432x288 with 1 Axes>"
      ]
     },
     "metadata": {
      "needs_background": "light"
     },
     "output_type": "display_data"
    }
   ],
   "source": [
    "df_train.Fare.hist()"
   ]
  },
  {
   "cell_type": "markdown",
   "metadata": {},
   "source": [
    "Most of passengers paid fare ranging from 0 to 50."
   ]
  },
  {
   "cell_type": "code",
   "execution_count": 32,
   "metadata": {},
   "outputs": [
    {
     "data": {
      "text/plain": [
       "<Figure size 504x1080 with 0 Axes>"
      ]
     },
     "metadata": {},
     "output_type": "display_data"
    },
    {
     "data": {
      "image/png": "[encoded data removed]",
      "text/plain": [
       "<Figure size 787x360 with 2 Axes>"
      ]
     },
     "metadata": {
      "needs_background": "light"
     },
     "output_type": "display_data"
    }
   ],
   "source": [
    "plt.figure(figsize=[7,15])\n",
    "sns.relplot(data=df_train, x=\"Fare\",y=\"Age\",hue=\"Pclass\",\n",
    "            col=\"Survived\",kind=\"scatter\",alpha=0.7)\n",
    "plt.show()"
   ]
  },
  {
   "cell_type": "markdown",
   "metadata": {},
   "source": [
    "It can be observed that Amount Fare paid has strong relationship with Pclass."
   ]
  },
  {
   "cell_type": "code",
   "execution_count": 33,
   "metadata": {
    "_kg_hide-output": false
   },
   "outputs": [
    {
     "name": "stdout",
     "output_type": "stream",
     "text": [
      "null values in Fare in Test data =  1\n",
      "null values in Fare in Test data after imputing null values =  0\n"
     ]
    },
    {
     "name": "stderr",
     "output_type": "stream",
     "text": [
      "C:\\Users\\hp\\Anaconda3\\lib\\site-packages\\ipykernel_launcher.py:4: SettingWithCopyWarning: \n",
      "A value is trying to be set on a copy of a slice from a DataFrame\n",
      "\n",
      "See the caveats in the documentation: https://pandas.pydata.org/pandas-docs/stable/user_guide/indexing.html#returning-a-view-versus-a-copy\n",
      "  after removing the cwd from sys.path.\n",
      "C:\\Users\\hp\\Anaconda3\\lib\\site-packages\\ipykernel_launcher.py:4: SettingWithCopyWarning: \n",
      "A value is trying to be set on a copy of a slice from a DataFrame\n",
      "\n",
      "See the caveats in the documentation: https://pandas.pydata.org/pandas-docs/stable/user_guide/indexing.html#returning-a-view-versus-a-copy\n",
      "  after removing the cwd from sys.path.\n",
      "C:\\Users\\hp\\Anaconda3\\lib\\site-packages\\ipykernel_launcher.py:4: SettingWithCopyWarning: \n",
      "A value is trying to be set on a copy of a slice from a DataFrame\n",
      "\n",
      "See the caveats in the documentation: https://pandas.pydata.org/pandas-docs/stable/user_guide/indexing.html#returning-a-view-versus-a-copy\n",
      "  after removing the cwd from sys.path.\n"
     ]
    }
   ],
   "source": [
    "#there is one null fare value in test data so treating it with average fare value of that Pclass:\n",
    "print(\"null values in Fare in Test data = \", df_test.Fare.isnull().sum())\n",
    "for x in df_test.Pclass.unique():\n",
    "    df_test[\"Fare\"][df_test[\"Pclass\"]==x]=df_test[\"Fare\"][df_test[\"Pclass\"]==x].replace(np.nan,df_train[\"Fare\"][df_train[\"Pclass\"]==x].mean())\n",
    "print(\"null values in Fare in Test data after imputing null values = \", df_test.Fare.isnull().sum())"
   ]
  },
  {
   "cell_type": "markdown",
   "metadata": {},
   "source": [
    "# **10)Cabin**\n",
    "The Cabin first letter indicates deck it may influence survival as different cabin are located at different place on the ship."
   ]
  },
  {
   "cell_type": "code",
   "execution_count": 34,
   "metadata": {},
   "outputs": [
    {
     "name": "stdout",
     "output_type": "stream",
     "text": [
      "[nan 'C85' 'C123' 'E46' 'G6' 'C103' 'D56' 'A6' 'C23 C25 C27' 'B78' 'D33'\n",
      " 'B30' 'C52' 'B28' 'C83' 'F33' 'F G73' 'E31' 'A5' 'D10 D12' 'D26' 'C110'\n",
      " 'B58 B60' 'E101' 'F E69' 'D47' 'B86' 'F2' 'C2' 'E33' 'B19' 'A7' 'C49'\n",
      " 'F4' 'A32' 'B4' 'B80' 'A31' 'D36' 'D15' 'C93' 'C78' 'D35' 'C87' 'B77'\n",
      " 'E67' 'B94' 'C125' 'C99' 'C118' 'D7' 'A19' 'B49' 'D' 'C22 C26' 'C106'\n",
      " 'C65' 'E36' 'C54' 'B57 B59 B63 B66' 'C7' 'E34' 'C32' 'B18' 'C124' 'C91'\n",
      " 'E40' 'T' 'C128' 'D37' 'B35' 'E50' 'C82' 'B96 B98' 'E10' 'E44' 'A34'\n",
      " 'C104' 'C111' 'C92' 'E38' 'D21' 'E12' 'E63' 'A14' 'B37' 'C30' 'D20' 'B79'\n",
      " 'E25' 'D46' 'B73' 'C95' 'B38' 'B39' 'B22' 'C86' 'C70' 'A16' 'C101' 'C68'\n",
      " 'A10' 'E68' 'B41' 'A20' 'D19' 'D50' 'D9' 'A23' 'B50' 'A26' 'D48' 'E58'\n",
      " 'C126' 'B71' 'B51 B53 B55' 'D49' 'B5' 'B20' 'F G63' 'C62 C64' 'E24' 'C90'\n",
      " 'C45' 'E8' 'B101' 'D45' 'C46' 'D30' 'E121' 'D11' 'E77' 'F38' 'B3' 'D6'\n",
      " 'B82 B84' 'D17' 'A36' 'B102' 'B69' 'E49' 'C47' 'D28' 'E17' 'A24' 'C50'\n",
      " 'B42' 'C148']\n",
      "Total unique Values:  147\n",
      "Null values:  687\n"
     ]
    }
   ],
   "source": [
    "#Actual Cabin Values.\n",
    "print(df_train.Cabin.unique())\n",
    "print(\"Total unique Values: \",df_train.Cabin.nunique())\n",
    "print(\"Null values: \",df_train.Cabin.isnull().sum())"
   ]
  },
  {
   "cell_type": "code",
   "execution_count": 35,
   "metadata": {},
   "outputs": [
    {
     "name": "stdout",
     "output_type": "stream",
     "text": [
      "Total unique Values:  9\n",
      "Total Count of each Cabin type:  O    687\n",
      "C     59\n",
      "B     47\n",
      "D     33\n",
      "E     32\n",
      "A     15\n",
      "F     13\n",
      "G      4\n",
      "T      1\n",
      "Name: Cabin, dtype: int64\n",
      "Null values:  0\n"
     ]
    }
   ],
   "source": [
    "#Grouping missing data of Cabin by naming it as O:\n",
    "df_train.Cabin.replace(np.nan,\"O\",inplace=True)\n",
    "df_test.Cabin.replace(np.nan,\"O\",inplace=True)\n",
    "df_train.Cabin=df_train.Cabin.str[0]\n",
    "df_test.Cabin=df_test.Cabin.str[0]\n",
    "print(\"Total unique Values: \",df_train.Cabin.nunique())\n",
    "print(\"Total Count of each Cabin type: \",df_train.Cabin.value_counts())\n",
    "print(\"Null values: \",df_train.Cabin.isnull().sum())"
   ]
  },
  {
   "cell_type": "code",
   "execution_count": 83,
   "metadata": {},
   "outputs": [
    {
     "ename": "KeyError",
     "evalue": "'Cabin'",
     "output_type": "error",
     "traceback": [
      "\u001b[1;31m---------------------------------------------------------------------------\u001b[0m",
      "\u001b[1;31mKeyError\u001b[0m                                  Traceback (most recent call last)",
      "\u001b[1;32m<ipython-input-83-88c7c0d195e1>\u001b[0m in \u001b[0;36m<module>\u001b[1;34m\u001b[0m\n\u001b[1;32m----> 1\u001b[1;33m \u001b[0mprint\u001b[0m\u001b[1;33m(\u001b[0m\u001b[1;34m\"Mean standard deviaion of each category by cabin:\\n\"\u001b[0m\u001b[1;33m,\u001b[0m\u001b[0mdf_train\u001b[0m\u001b[1;33m.\u001b[0m\u001b[0mgroupby\u001b[0m\u001b[1;33m(\u001b[0m\u001b[1;34m\"Cabin\"\u001b[0m\u001b[1;33m)\u001b[0m\u001b[1;33m.\u001b[0m\u001b[0mstd\u001b[0m\u001b[1;33m(\u001b[0m\u001b[1;33m)\u001b[0m\u001b[1;33m.\u001b[0m\u001b[0mmean\u001b[0m\u001b[1;33m(\u001b[0m\u001b[1;33m)\u001b[0m\u001b[1;33m)\u001b[0m\u001b[1;33m\u001b[0m\u001b[1;33m\u001b[0m\u001b[0m\n\u001b[0m\u001b[0;32m      2\u001b[0m \u001b[0mdf_train\u001b[0m\u001b[1;33m.\u001b[0m\u001b[0mgroupby\u001b[0m\u001b[1;33m(\u001b[0m\u001b[1;34m\"Cabin\"\u001b[0m\u001b[1;33m)\u001b[0m\u001b[1;33m.\u001b[0m\u001b[0mstd\u001b[0m\u001b[1;33m(\u001b[0m\u001b[1;33m)\u001b[0m\u001b[1;33m.\u001b[0m\u001b[0msort_values\u001b[0m\u001b[1;33m(\u001b[0m\u001b[0mby\u001b[0m\u001b[1;33m=\u001b[0m\u001b[1;34m'Survived'\u001b[0m\u001b[1;33m,\u001b[0m \u001b[0mascending\u001b[0m\u001b[1;33m=\u001b[0m\u001b[1;32mFalse\u001b[0m\u001b[1;33m)\u001b[0m\u001b[1;33m\u001b[0m\u001b[1;33m\u001b[0m\u001b[0m\n",
      "\u001b[1;32m~\\Anaconda3\\lib\\site-packages\\pandas\\core\\frame.py\u001b[0m in \u001b[0;36mgroupby\u001b[1;34m(self, by, axis, level, as_index, sort, group_keys, squeeze, observed, dropna)\u001b[0m\n\u001b[0;32m   6516\u001b[0m             \u001b[0msqueeze\u001b[0m\u001b[1;33m=\u001b[0m\u001b[0msqueeze\u001b[0m\u001b[1;33m,\u001b[0m\u001b[1;33m\u001b[0m\u001b[1;33m\u001b[0m\u001b[0m\n\u001b[0;32m   6517\u001b[0m             \u001b[0mobserved\u001b[0m\u001b[1;33m=\u001b[0m\u001b[0mobserved\u001b[0m\u001b[1;33m,\u001b[0m\u001b[1;33m\u001b[0m\u001b[1;33m\u001b[0m\u001b[0m\n\u001b[1;32m-> 6518\u001b[1;33m             \u001b[0mdropna\u001b[0m\u001b[1;33m=\u001b[0m\u001b[0mdropna\u001b[0m\u001b[1;33m,\u001b[0m\u001b[1;33m\u001b[0m\u001b[1;33m\u001b[0m\u001b[0m\n\u001b[0m\u001b[0;32m   6519\u001b[0m         )\n\u001b[0;32m   6520\u001b[0m \u001b[1;33m\u001b[0m\u001b[0m\n",
      "\u001b[1;32m~\\Anaconda3\\lib\\site-packages\\pandas\\core\\groupby\\groupby.py\u001b[0m in \u001b[0;36m__init__\u001b[1;34m(self, obj, keys, axis, level, grouper, exclusions, selection, as_index, sort, group_keys, squeeze, observed, mutated, dropna)\u001b[0m\n\u001b[0;32m    531\u001b[0m                 \u001b[0mobserved\u001b[0m\u001b[1;33m=\u001b[0m\u001b[0mobserved\u001b[0m\u001b[1;33m,\u001b[0m\u001b[1;33m\u001b[0m\u001b[1;33m\u001b[0m\u001b[0m\n\u001b[0;32m    532\u001b[0m                 \u001b[0mmutated\u001b[0m\u001b[1;33m=\u001b[0m\u001b[0mself\u001b[0m\u001b[1;33m.\u001b[0m\u001b[0mmutated\u001b[0m\u001b[1;33m,\u001b[0m\u001b[1;33m\u001b[0m\u001b[1;33m\u001b[0m\u001b[0m\n\u001b[1;32m--> 533\u001b[1;33m                 \u001b[0mdropna\u001b[0m\u001b[1;33m=\u001b[0m\u001b[0mself\u001b[0m\u001b[1;33m.\u001b[0m\u001b[0mdropna\u001b[0m\u001b[1;33m,\u001b[0m\u001b[1;33m\u001b[0m\u001b[1;33m\u001b[0m\u001b[0m\n\u001b[0m\u001b[0;32m    534\u001b[0m             )\n\u001b[0;32m    535\u001b[0m \u001b[1;33m\u001b[0m\u001b[0m\n",
      "\u001b[1;32m~\\Anaconda3\\lib\\site-packages\\pandas\\core\\groupby\\grouper.py\u001b[0m in \u001b[0;36mget_grouper\u001b[1;34m(obj, key, axis, level, sort, observed, mutated, validate, dropna)\u001b[0m\n\u001b[0;32m    774\u001b[0m                 \u001b[0min_axis\u001b[0m\u001b[1;33m,\u001b[0m \u001b[0mname\u001b[0m\u001b[1;33m,\u001b[0m \u001b[0mlevel\u001b[0m\u001b[1;33m,\u001b[0m \u001b[0mgpr\u001b[0m \u001b[1;33m=\u001b[0m \u001b[1;32mFalse\u001b[0m\u001b[1;33m,\u001b[0m \u001b[1;32mNone\u001b[0m\u001b[1;33m,\u001b[0m \u001b[0mgpr\u001b[0m\u001b[1;33m,\u001b[0m \u001b[1;32mNone\u001b[0m\u001b[1;33m\u001b[0m\u001b[1;33m\u001b[0m\u001b[0m\n\u001b[0;32m    775\u001b[0m             \u001b[1;32melse\u001b[0m\u001b[1;33m:\u001b[0m\u001b[1;33m\u001b[0m\u001b[1;33m\u001b[0m\u001b[0m\n\u001b[1;32m--> 776\u001b[1;33m                 \u001b[1;32mraise\u001b[0m \u001b[0mKeyError\u001b[0m\u001b[1;33m(\u001b[0m\u001b[0mgpr\u001b[0m\u001b[1;33m)\u001b[0m\u001b[1;33m\u001b[0m\u001b[1;33m\u001b[0m\u001b[0m\n\u001b[0m\u001b[0;32m    777\u001b[0m         \u001b[1;32melif\u001b[0m \u001b[0misinstance\u001b[0m\u001b[1;33m(\u001b[0m\u001b[0mgpr\u001b[0m\u001b[1;33m,\u001b[0m \u001b[0mGrouper\u001b[0m\u001b[1;33m)\u001b[0m \u001b[1;32mand\u001b[0m \u001b[0mgpr\u001b[0m\u001b[1;33m.\u001b[0m\u001b[0mkey\u001b[0m \u001b[1;32mis\u001b[0m \u001b[1;32mnot\u001b[0m \u001b[1;32mNone\u001b[0m\u001b[1;33m:\u001b[0m\u001b[1;33m\u001b[0m\u001b[1;33m\u001b[0m\u001b[0m\n\u001b[0;32m    778\u001b[0m             \u001b[1;31m# Add key to exclusions\u001b[0m\u001b[1;33m\u001b[0m\u001b[1;33m\u001b[0m\u001b[1;33m\u001b[0m\u001b[0m\n",
      "\u001b[1;31mKeyError\u001b[0m: 'Cabin'"
     ]
    }
   ],
   "source": [
    "print(\"Mean standard deviaion of each category by cabin:\\n\",df_train.groupby(\"Cabin\").std().mean())\n",
    "df_train.groupby(\"Cabin\").mean().sort_values(by='Survived', ascending=False)"
   ]
  },
  {
   "cell_type": "markdown",
   "metadata": {},
   "source": [
    "* Cabin has low mean standard deviation for Pclass this means that many cabin had only one class of passengers.\n",
    "* Each cabin has much different survival rate."
   ]
  },
  {
   "cell_type": "markdown",
   "metadata": {},
   "source": [
    "# **11)Embarked**\n",
    "It denotes the place of boarding the ship."
   ]
  },
  {
   "cell_type": "code",
   "execution_count": 37,
   "metadata": {},
   "outputs": [
    {
     "name": "stdout",
     "output_type": "stream",
     "text": [
      "null values in training data before imputing Embarked =  2\n",
      "null values in training data after imputing with mode of Embarked =  0\n",
      "null values in testing data before imputing Embarked =  0\n",
      "null values in testing data after imputing with mode of Embarked =  0\n"
     ]
    }
   ],
   "source": [
    "#Imputing missing value in Embarked with mode\n",
    "E_m=df_train.Embarked.mode()\n",
    "print(\"null values in training data before imputing Embarked = \", df_train.Embarked.isnull().sum())\n",
    "df_train[\"Embarked\"].replace(np.nan,E_m[0],inplace=True)\n",
    "print(\"null values in training data after imputing with mode of Embarked = \", df_train.Embarked.isnull().sum())\n",
    "print(\"null values in testing data before imputing Embarked = \", df_test.Embarked.isnull().sum())\n",
    "df_test[\"Embarked\"].replace(np.nan,E_m[0],inplace=True)\n",
    "print(\"null values in testing data after imputing with mode of Embarked = \", df_test.Embarked.isnull().sum())"
   ]
  },
  {
   "cell_type": "code",
   "execution_count": 38,
   "metadata": {},
   "outputs": [
    {
     "data": {
      "text/plain": [
       "<matplotlib.axes._subplots.AxesSubplot at 0x237dc5b9da0>"
      ]
     },
     "execution_count": 38,
     "metadata": {},
     "output_type": "execute_result"
    },
    {
     "data": {
      "image/png": "[encoded data removed]",
      "text/plain": [
       "<Figure size 432x288 with 1 Axes>"
      ]
     },
     "metadata": {
      "needs_background": "light"
     },
     "output_type": "display_data"
    }
   ],
   "source": [
    "sns.countplot( data=df_train, hue=\"Survived\",x=\"Embarked\")"
   ]
  },
  {
   "cell_type": "code",
   "execution_count": 39,
   "metadata": {},
   "outputs": [
    {
     "data": {
      "text/html": [
       "<div>\n",
       "<style scoped>\n",
       "    .dataframe tbody tr th:only-of-type {\n",
       "        vertical-align: middle;\n",
       "    }\n",
       "\n",
       "    .dataframe tbody tr th {\n",
       "        vertical-align: top;\n",
       "    }\n",
       "\n",
       "    .dataframe thead th {\n",
       "        text-align: right;\n",
       "    }\n",
       "</style>\n",
       "<table border=\"1\" class=\"dataframe\">\n",
       "  <thead>\n",
       "    <tr style=\"text-align: right;\">\n",
       "      <th></th>\n",
       "      <th>Survived</th>\n",
       "      <th>Pclass</th>\n",
       "      <th>Age</th>\n",
       "      <th>SibSp</th>\n",
       "      <th>Parch</th>\n",
       "      <th>Fare</th>\n",
       "      <th>f_size</th>\n",
       "    </tr>\n",
       "    <tr>\n",
       "      <th>Embarked</th>\n",
       "      <th></th>\n",
       "      <th></th>\n",
       "      <th></th>\n",
       "      <th></th>\n",
       "      <th></th>\n",
       "      <th></th>\n",
       "      <th></th>\n",
       "    </tr>\n",
       "  </thead>\n",
       "  <tbody>\n",
       "    <tr>\n",
       "      <th>C</th>\n",
       "      <td>0.553571</td>\n",
       "      <td>1.886905</td>\n",
       "      <td>30.842197</td>\n",
       "      <td>0.386905</td>\n",
       "      <td>0.363095</td>\n",
       "      <td>56.162551</td>\n",
       "      <td>0.750000</td>\n",
       "    </tr>\n",
       "    <tr>\n",
       "      <th>Q</th>\n",
       "      <td>0.389610</td>\n",
       "      <td>2.909091</td>\n",
       "      <td>27.725773</td>\n",
       "      <td>0.428571</td>\n",
       "      <td>0.168831</td>\n",
       "      <td>13.276030</td>\n",
       "      <td>0.597403</td>\n",
       "    </tr>\n",
       "    <tr>\n",
       "      <th>S</th>\n",
       "      <td>0.339009</td>\n",
       "      <td>2.346749</td>\n",
       "      <td>29.716536</td>\n",
       "      <td>0.569659</td>\n",
       "      <td>0.411765</td>\n",
       "      <td>27.243651</td>\n",
       "      <td>0.981424</td>\n",
       "    </tr>\n",
       "  </tbody>\n",
       "</table>\n",
       "</div>"
      ],
      "text/plain": [
       "          Survived    Pclass        Age     SibSp     Parch       Fare  \\\n",
       "Embarked                                                                 \n",
       "C         0.553571  1.886905  30.842197  0.386905  0.363095  56.162551   \n",
       "Q         0.389610  2.909091  27.725773  0.428571  0.168831  13.276030   \n",
       "S         0.339009  2.346749  29.716536  0.569659  0.411765  27.243651   \n",
       "\n",
       "            f_size  \n",
       "Embarked            \n",
       "C         0.750000  \n",
       "Q         0.597403  \n",
       "S         0.981424  "
      ]
     },
     "execution_count": 39,
     "metadata": {},
     "output_type": "execute_result"
    }
   ],
   "source": [
    "df_train.groupby(\"Embarked\").mean()"
   ]
  },
  {
   "cell_type": "markdown",
   "metadata": {},
   "source": [
    "It can be observed that each Emabrked had different survival rates,average Fare and Pclass."
   ]
  },
  {
   "cell_type": "markdown",
   "metadata": {},
   "source": [
    "# **Checking missing values and final variable names in data**"
   ]
  },
  {
   "cell_type": "code",
   "execution_count": 40,
   "metadata": {},
   "outputs": [
    {
     "name": "stdout",
     "output_type": "stream",
     "text": [
      "Survived    0\n",
      "Pclass      0\n",
      "Sex         0\n",
      "Age         0\n",
      "SibSp       0\n",
      "Parch       0\n",
      "Fare        0\n",
      "Cabin       0\n",
      "Embarked    0\n",
      "Last_n2     0\n",
      "Title       0\n",
      "f_size      0\n",
      "dtype: int64\n",
      "Pclass      0\n",
      "Sex         0\n",
      "Age         0\n",
      "SibSp       0\n",
      "Parch       0\n",
      "Fare        0\n",
      "Cabin       0\n",
      "Embarked    0\n",
      "Last_n2     0\n",
      "Title       0\n",
      "f_size      0\n",
      "dtype: int64\n"
     ]
    }
   ],
   "source": [
    "print(df_train.isnull().sum())\n",
    "print(df_test.isnull().sum())"
   ]
  },
  {
   "cell_type": "markdown",
   "metadata": {},
   "source": [
    "There are no missing values left."
   ]
  },
  {
   "cell_type": "code",
   "execution_count": 41,
   "metadata": {},
   "outputs": [
    {
     "data": {
      "text/plain": [
       "0              V_Low\n",
       "1      Other_Last_n2\n",
       "2      Other_Last_n2\n",
       "3                Low\n",
       "4                Low\n",
       "           ...      \n",
       "886    Other_Last_n2\n",
       "887             High\n",
       "888            V_Low\n",
       "889    Other_Last_n2\n",
       "890    Other_Last_n2\n",
       "Name: Last_n2, Length: 891, dtype: object"
      ]
     },
     "execution_count": 41,
     "metadata": {},
     "output_type": "execute_result"
    }
   ],
   "source": [
    "\n",
    "df_train.Last_n2"
   ]
  },
  {
   "cell_type": "code",
   "execution_count": 42,
   "metadata": {},
   "outputs": [],
   "source": [
    "le = LabelEncoder()\n",
    "df_train[\"Sex\"] = le.fit_transform(df_train[\"Sex\"]) \n",
    "df_test[\"Sex\"] = le.transform(df_test[\"Sex\"]) \n",
    "#df_train[\"Last_n2\"] = le.fit_transform(df_train[\"Last_n2\"])\n",
    "#df_test[\"Last_n2\"] = le.transform(df_test[\"Last_n2\"])\n",
    "df_train = pd.get_dummies(columns = [\"Title\",\"Embarked\",\"Cabin\",\"Last_n2\"], data = df_train)\n",
    "df_test = pd.get_dummies(columns = [\"Title\",\"Embarked\",\"Cabin\",\"Last_n2\"], data = df_test)\n"
   ]
  },
  {
   "cell_type": "code",
   "execution_count": 43,
   "metadata": {},
   "outputs": [
    {
     "data": {
      "text/plain": [
       "['Pclass',\n",
       " 'Sex',\n",
       " 'Age',\n",
       " 'SibSp',\n",
       " 'Parch',\n",
       " 'Fare',\n",
       " 'f_size',\n",
       " 'Title_Col.',\n",
       " 'Title_Dr.',\n",
       " 'Title_Gordon,',\n",
       " 'Title_Impe,',\n",
       " 'Title_Major.',\n",
       " 'Title_Master.',\n",
       " 'Title_Miss.',\n",
       " 'Title_Mlle.',\n",
       " 'Title_Mr.',\n",
       " 'Title_Mrs.',\n",
       " 'Title_Other_Title',\n",
       " 'Title_Planke,',\n",
       " 'Title_Rev.',\n",
       " 'Title_y',\n",
       " 'Embarked_C',\n",
       " 'Embarked_Q',\n",
       " 'Embarked_S',\n",
       " 'Cabin_A',\n",
       " 'Cabin_B',\n",
       " 'Cabin_C',\n",
       " 'Cabin_D',\n",
       " 'Cabin_E',\n",
       " 'Cabin_F',\n",
       " 'Cabin_G',\n",
       " 'Cabin_O',\n",
       " 'Cabin_T',\n",
       " 'Last_n2_High',\n",
       " 'Last_n2_Low',\n",
       " 'Last_n2_V_High',\n",
       " 'Last_n2_V_Low']"
      ]
     },
     "execution_count": 43,
     "metadata": {},
     "output_type": "execute_result"
    }
   ],
   "source": [
    "df_train.drop(\"Last_n2_Other_Last_n2\",axis=1,inplace=True)\n",
    "df_test.drop(\"Last_n2_Other_Last_n2\",axis=1,inplace=True)\n",
    "Features=list(df_train.columns)[1:]\n",
    "Features"
   ]
  },
  {
   "cell_type": "markdown",
   "metadata": {},
   "source": []
  },
  {
   "cell_type": "code",
   "execution_count": 44,
   "metadata": {},
   "outputs": [],
   "source": [
    "X = df_train.drop(['Survived'], axis = 1)\n",
    "y = df_train.Survived"
   ]
  },
  {
   "cell_type": "code",
   "execution_count": 45,
   "metadata": {},
   "outputs": [],
   "source": [
    "LR=GridSearchCV(estimator=LogisticRegression(),cv=10,n_jobs=-1,scoring='accuracy',param_grid=[{'C':[0.5,1,1.5,2,2.5,3,4,5,7,10,15],'penalty':['l2'],'max_iter':[1000]}])"
   ]
  },
  {
   "cell_type": "code",
   "execution_count": 46,
   "metadata": {
    "scrolled": true
   },
   "outputs": [
    {
     "name": "stderr",
     "output_type": "stream",
     "text": [
      "C:\\Users\\hp\\Anaconda3\\lib\\site-packages\\sklearn\\linear_model\\logistic.py:432: FutureWarning: Default solver will be changed to 'lbfgs' in 0.22. Specify a solver to silence this warning.\n",
      "  FutureWarning)\n"
     ]
    },
    {
     "data": {
      "text/plain": [
       "GridSearchCV(cv=10, error_score='raise-deprecating',\n",
       "             estimator=LogisticRegression(C=1.0, class_weight=None, dual=False,\n",
       "                                          fit_intercept=True,\n",
       "                                          intercept_scaling=1, l1_ratio=None,\n",
       "                                          max_iter=100, multi_class='warn',\n",
       "                                          n_jobs=None, penalty='l2',\n",
       "                                          random_state=None, solver='warn',\n",
       "                                          tol=0.0001, verbose=0,\n",
       "                                          warm_start=False),\n",
       "             iid='warn', n_jobs=-1,\n",
       "             param_grid=[{'C': [0.5, 1, 1.5, 2, 2.5, 3, 4, 5, 7, 10, 15],\n",
       "                          'max_iter': [1000], 'penalty': ['l2']}],\n",
       "             pre_dispatch='2*n_jobs', refit=True, return_train_score=False,\n",
       "             scoring='accuracy', verbose=0)"
      ]
     },
     "execution_count": 46,
     "metadata": {},
     "output_type": "execute_result"
    }
   ],
   "source": [
    "LR.fit(X,y)#.drop(\"Last_n2\",axis=1)"
   ]
  },
  {
   "cell_type": "code",
   "execution_count": 47,
   "metadata": {},
   "outputs": [
    {
     "data": {
      "text/plain": [
       "(0.8787878787878788, {'C': 3, 'max_iter': 1000, 'penalty': 'l2'})"
      ]
     },
     "execution_count": 47,
     "metadata": {},
     "output_type": "execute_result"
    }
   ],
   "source": [
    "LR.best_score_,LR.best_params_"
   ]
  },
  {
   "cell_type": "code",
   "execution_count": null,
   "metadata": {},
   "outputs": [],
   "source": []
  },
  {
   "cell_type": "code",
   "execution_count": 91,
   "metadata": {},
   "outputs": [],
   "source": [
    "SVM_Linear=GridSearchCV(estimator=LinearSVC( max_iter= 4000),cv=10,n_jobs=-1,scoring='accuracy',param_grid=[{'C':[0.5,1,1.5,2,2.5,3,4,5,7,10,15],'penalty':['l2']}])\n",
    "SVM_Linear_PL = make_pipeline(StandardScaler(),SVM_Linear)"
   ]
  },
  {
   "cell_type": "code",
   "execution_count": 92,
   "metadata": {},
   "outputs": [
    {
     "data": {
      "text/plain": [
       "Pipeline(memory=None,\n",
       "         steps=[('standardscaler',\n",
       "                 StandardScaler(copy=True, with_mean=True, with_std=True)),\n",
       "                ('gridsearchcv',\n",
       "                 GridSearchCV(cv=10, error_score='raise-deprecating',\n",
       "                              estimator=LinearSVC(C=1.0, class_weight=None,\n",
       "                                                  dual=True, fit_intercept=True,\n",
       "                                                  intercept_scaling=1,\n",
       "                                                  loss='squared_hinge',\n",
       "                                                  max_iter=4000,\n",
       "                                                  multi_class='ovr',\n",
       "                                                  penalty='l2',\n",
       "                                                  random_state=None, tol=0.0001,\n",
       "                                                  verbose=0),\n",
       "                              iid='warn', n_jobs=-1,\n",
       "                              param_grid=[{'C': [0.5, 1, 1.5, 2, 2.5, 3, 4, 5,\n",
       "                                                 7, 10, 15],\n",
       "                                           'penalty': ['l2']}],\n",
       "                              pre_dispatch='2*n_jobs', refit=True,\n",
       "                              return_train_score=False, scoring='accuracy',\n",
       "                              verbose=0))],\n",
       "         verbose=False)"
      ]
     },
     "execution_count": 92,
     "metadata": {},
     "output_type": "execute_result"
    }
   ],
   "source": [
    "SVM_Linear_PL.fit(X,y)"
   ]
  },
  {
   "cell_type": "code",
   "execution_count": 93,
   "metadata": {},
   "outputs": [
    {
     "data": {
      "text/plain": [
       "(0.8742985409652076, {'C': 0.5, 'penalty': 'l2'})"
      ]
     },
     "execution_count": 93,
     "metadata": {},
     "output_type": "execute_result"
    }
   ],
   "source": [
    "SVM_Linear.best_score_,SVM_Linear.best_params_"
   ]
  },
  {
   "cell_type": "code",
   "execution_count": 94,
   "metadata": {},
   "outputs": [
    {
     "name": "stdout",
     "output_type": "stream",
     "text": [
      "              precision    recall  f1-score   support\n",
      "\n",
      "           0       0.88      0.93      0.90       549\n",
      "           1       0.87      0.80      0.84       342\n",
      "\n",
      "    accuracy                           0.88       891\n",
      "   macro avg       0.88      0.86      0.87       891\n",
      "weighted avg       0.88      0.88      0.88       891\n",
      "\n"
     ]
    }
   ],
   "source": [
    "print(classification_report(y,SVM_Linear_PL.predict(X)))"
   ]
  },
  {
   "cell_type": "code",
   "execution_count": 56,
   "metadata": {},
   "outputs": [
    {
     "data": {
      "text/html": [
       "<div>\n",
       "<style scoped>\n",
       "    .dataframe tbody tr th:only-of-type {\n",
       "        vertical-align: middle;\n",
       "    }\n",
       "\n",
       "    .dataframe tbody tr th {\n",
       "        vertical-align: top;\n",
       "    }\n",
       "\n",
       "    .dataframe thead th {\n",
       "        text-align: right;\n",
       "    }\n",
       "</style>\n",
       "<table border=\"1\" class=\"dataframe\">\n",
       "  <thead>\n",
       "    <tr style=\"text-align: right;\">\n",
       "      <th></th>\n",
       "      <th>mean_fit_time</th>\n",
       "      <th>std_fit_time</th>\n",
       "      <th>mean_score_time</th>\n",
       "      <th>std_score_time</th>\n",
       "      <th>param_C</th>\n",
       "      <th>param_penalty</th>\n",
       "      <th>params</th>\n",
       "      <th>split0_test_score</th>\n",
       "      <th>split1_test_score</th>\n",
       "      <th>split2_test_score</th>\n",
       "      <th>split3_test_score</th>\n",
       "      <th>split4_test_score</th>\n",
       "      <th>split5_test_score</th>\n",
       "      <th>split6_test_score</th>\n",
       "      <th>split7_test_score</th>\n",
       "      <th>split8_test_score</th>\n",
       "      <th>split9_test_score</th>\n",
       "      <th>mean_test_score</th>\n",
       "      <th>std_test_score</th>\n",
       "      <th>rank_test_score</th>\n",
       "    </tr>\n",
       "  </thead>\n",
       "  <tbody>\n",
       "    <tr>\n",
       "      <th>0</th>\n",
       "      <td>0.474547</td>\n",
       "      <td>0.093219</td>\n",
       "      <td>0.000100</td>\n",
       "      <td>0.000299</td>\n",
       "      <td>0.5</td>\n",
       "      <td>l2</td>\n",
       "      <td>{'C': 0.5, 'penalty': 'l2'}</td>\n",
       "      <td>0.888889</td>\n",
       "      <td>0.888889</td>\n",
       "      <td>0.831461</td>\n",
       "      <td>0.876404</td>\n",
       "      <td>0.898876</td>\n",
       "      <td>0.842697</td>\n",
       "      <td>0.865169</td>\n",
       "      <td>0.853933</td>\n",
       "      <td>0.898876</td>\n",
       "      <td>0.886364</td>\n",
       "      <td>0.873176</td>\n",
       "      <td>0.022585</td>\n",
       "      <td>7</td>\n",
       "    </tr>\n",
       "    <tr>\n",
       "      <th>1</th>\n",
       "      <td>0.609413</td>\n",
       "      <td>0.135820</td>\n",
       "      <td>0.000000</td>\n",
       "      <td>0.000000</td>\n",
       "      <td>1</td>\n",
       "      <td>l2</td>\n",
       "      <td>{'C': 1, 'penalty': 'l2'}</td>\n",
       "      <td>0.888889</td>\n",
       "      <td>0.900000</td>\n",
       "      <td>0.831461</td>\n",
       "      <td>0.876404</td>\n",
       "      <td>0.898876</td>\n",
       "      <td>0.842697</td>\n",
       "      <td>0.865169</td>\n",
       "      <td>0.853933</td>\n",
       "      <td>0.898876</td>\n",
       "      <td>0.886364</td>\n",
       "      <td>0.874299</td>\n",
       "      <td>0.023591</td>\n",
       "      <td>3</td>\n",
       "    </tr>\n",
       "    <tr>\n",
       "      <th>2</th>\n",
       "      <td>0.483492</td>\n",
       "      <td>0.118525</td>\n",
       "      <td>0.001686</td>\n",
       "      <td>0.004659</td>\n",
       "      <td>1.5</td>\n",
       "      <td>l2</td>\n",
       "      <td>{'C': 1.5, 'penalty': 'l2'}</td>\n",
       "      <td>0.888889</td>\n",
       "      <td>0.888889</td>\n",
       "      <td>0.831461</td>\n",
       "      <td>0.876404</td>\n",
       "      <td>0.898876</td>\n",
       "      <td>0.842697</td>\n",
       "      <td>0.865169</td>\n",
       "      <td>0.853933</td>\n",
       "      <td>0.898876</td>\n",
       "      <td>0.886364</td>\n",
       "      <td>0.873176</td>\n",
       "      <td>0.022585</td>\n",
       "      <td>7</td>\n",
       "    </tr>\n",
       "    <tr>\n",
       "      <th>3</th>\n",
       "      <td>0.515425</td>\n",
       "      <td>0.133140</td>\n",
       "      <td>0.001662</td>\n",
       "      <td>0.004663</td>\n",
       "      <td>2</td>\n",
       "      <td>l2</td>\n",
       "      <td>{'C': 2, 'penalty': 'l2'}</td>\n",
       "      <td>0.888889</td>\n",
       "      <td>0.888889</td>\n",
       "      <td>0.831461</td>\n",
       "      <td>0.876404</td>\n",
       "      <td>0.898876</td>\n",
       "      <td>0.842697</td>\n",
       "      <td>0.865169</td>\n",
       "      <td>0.853933</td>\n",
       "      <td>0.898876</td>\n",
       "      <td>0.886364</td>\n",
       "      <td>0.873176</td>\n",
       "      <td>0.022585</td>\n",
       "      <td>7</td>\n",
       "    </tr>\n",
       "    <tr>\n",
       "      <th>4</th>\n",
       "      <td>0.521859</td>\n",
       "      <td>0.084455</td>\n",
       "      <td>0.000000</td>\n",
       "      <td>0.000000</td>\n",
       "      <td>2.5</td>\n",
       "      <td>l2</td>\n",
       "      <td>{'C': 2.5, 'penalty': 'l2'}</td>\n",
       "      <td>0.888889</td>\n",
       "      <td>0.888889</td>\n",
       "      <td>0.831461</td>\n",
       "      <td>0.876404</td>\n",
       "      <td>0.898876</td>\n",
       "      <td>0.842697</td>\n",
       "      <td>0.865169</td>\n",
       "      <td>0.853933</td>\n",
       "      <td>0.898876</td>\n",
       "      <td>0.886364</td>\n",
       "      <td>0.873176</td>\n",
       "      <td>0.022585</td>\n",
       "      <td>7</td>\n",
       "    </tr>\n",
       "    <tr>\n",
       "      <th>5</th>\n",
       "      <td>0.527187</td>\n",
       "      <td>0.075809</td>\n",
       "      <td>0.001562</td>\n",
       "      <td>0.004686</td>\n",
       "      <td>3</td>\n",
       "      <td>l2</td>\n",
       "      <td>{'C': 3, 'penalty': 'l2'}</td>\n",
       "      <td>0.888889</td>\n",
       "      <td>0.888889</td>\n",
       "      <td>0.831461</td>\n",
       "      <td>0.887640</td>\n",
       "      <td>0.898876</td>\n",
       "      <td>0.842697</td>\n",
       "      <td>0.865169</td>\n",
       "      <td>0.853933</td>\n",
       "      <td>0.898876</td>\n",
       "      <td>0.886364</td>\n",
       "      <td>0.874299</td>\n",
       "      <td>0.022993</td>\n",
       "      <td>3</td>\n",
       "    </tr>\n",
       "    <tr>\n",
       "      <th>6</th>\n",
       "      <td>0.536072</td>\n",
       "      <td>0.091105</td>\n",
       "      <td>0.000100</td>\n",
       "      <td>0.000299</td>\n",
       "      <td>4</td>\n",
       "      <td>l2</td>\n",
       "      <td>{'C': 4, 'penalty': 'l2'}</td>\n",
       "      <td>0.888889</td>\n",
       "      <td>0.888889</td>\n",
       "      <td>0.831461</td>\n",
       "      <td>0.887640</td>\n",
       "      <td>0.898876</td>\n",
       "      <td>0.842697</td>\n",
       "      <td>0.865169</td>\n",
       "      <td>0.865169</td>\n",
       "      <td>0.898876</td>\n",
       "      <td>0.886364</td>\n",
       "      <td>0.875421</td>\n",
       "      <td>0.022233</td>\n",
       "      <td>1</td>\n",
       "    </tr>\n",
       "    <tr>\n",
       "      <th>7</th>\n",
       "      <td>0.543101</td>\n",
       "      <td>0.140612</td>\n",
       "      <td>0.001716</td>\n",
       "      <td>0.004490</td>\n",
       "      <td>5</td>\n",
       "      <td>l2</td>\n",
       "      <td>{'C': 5, 'penalty': 'l2'}</td>\n",
       "      <td>0.888889</td>\n",
       "      <td>0.888889</td>\n",
       "      <td>0.831461</td>\n",
       "      <td>0.898876</td>\n",
       "      <td>0.898876</td>\n",
       "      <td>0.842697</td>\n",
       "      <td>0.853933</td>\n",
       "      <td>0.853933</td>\n",
       "      <td>0.898876</td>\n",
       "      <td>0.886364</td>\n",
       "      <td>0.874299</td>\n",
       "      <td>0.024583</td>\n",
       "      <td>3</td>\n",
       "    </tr>\n",
       "    <tr>\n",
       "      <th>8</th>\n",
       "      <td>0.534301</td>\n",
       "      <td>0.108742</td>\n",
       "      <td>0.000221</td>\n",
       "      <td>0.000663</td>\n",
       "      <td>7</td>\n",
       "      <td>l2</td>\n",
       "      <td>{'C': 7, 'penalty': 'l2'}</td>\n",
       "      <td>0.888889</td>\n",
       "      <td>0.888889</td>\n",
       "      <td>0.831461</td>\n",
       "      <td>0.876404</td>\n",
       "      <td>0.898876</td>\n",
       "      <td>0.842697</td>\n",
       "      <td>0.865169</td>\n",
       "      <td>0.842697</td>\n",
       "      <td>0.921348</td>\n",
       "      <td>0.886364</td>\n",
       "      <td>0.874299</td>\n",
       "      <td>0.027026</td>\n",
       "      <td>3</td>\n",
       "    </tr>\n",
       "    <tr>\n",
       "      <th>9</th>\n",
       "      <td>0.520377</td>\n",
       "      <td>0.084757</td>\n",
       "      <td>0.000222</td>\n",
       "      <td>0.000666</td>\n",
       "      <td>10</td>\n",
       "      <td>l2</td>\n",
       "      <td>{'C': 10, 'penalty': 'l2'}</td>\n",
       "      <td>0.888889</td>\n",
       "      <td>0.900000</td>\n",
       "      <td>0.831461</td>\n",
       "      <td>0.887640</td>\n",
       "      <td>0.898876</td>\n",
       "      <td>0.842697</td>\n",
       "      <td>0.853933</td>\n",
       "      <td>0.853933</td>\n",
       "      <td>0.910112</td>\n",
       "      <td>0.886364</td>\n",
       "      <td>0.875421</td>\n",
       "      <td>0.025952</td>\n",
       "      <td>1</td>\n",
       "    </tr>\n",
       "  </tbody>\n",
       "</table>\n",
       "</div>"
      ],
      "text/plain": [
       "   mean_fit_time  std_fit_time  mean_score_time  std_score_time param_C  \\\n",
       "0       0.474547      0.093219         0.000100        0.000299     0.5   \n",
       "1       0.609413      0.135820         0.000000        0.000000       1   \n",
       "2       0.483492      0.118525         0.001686        0.004659     1.5   \n",
       "3       0.515425      0.133140         0.001662        0.004663       2   \n",
       "4       0.521859      0.084455         0.000000        0.000000     2.5   \n",
       "5       0.527187      0.075809         0.001562        0.004686       3   \n",
       "6       0.536072      0.091105         0.000100        0.000299       4   \n",
       "7       0.543101      0.140612         0.001716        0.004490       5   \n",
       "8       0.534301      0.108742         0.000221        0.000663       7   \n",
       "9       0.520377      0.084757         0.000222        0.000666      10   \n",
       "\n",
       "  param_penalty                       params  split0_test_score  \\\n",
       "0            l2  {'C': 0.5, 'penalty': 'l2'}           0.888889   \n",
       "1            l2    {'C': 1, 'penalty': 'l2'}           0.888889   \n",
       "2            l2  {'C': 1.5, 'penalty': 'l2'}           0.888889   \n",
       "3            l2    {'C': 2, 'penalty': 'l2'}           0.888889   \n",
       "4            l2  {'C': 2.5, 'penalty': 'l2'}           0.888889   \n",
       "5            l2    {'C': 3, 'penalty': 'l2'}           0.888889   \n",
       "6            l2    {'C': 4, 'penalty': 'l2'}           0.888889   \n",
       "7            l2    {'C': 5, 'penalty': 'l2'}           0.888889   \n",
       "8            l2    {'C': 7, 'penalty': 'l2'}           0.888889   \n",
       "9            l2   {'C': 10, 'penalty': 'l2'}           0.888889   \n",
       "\n",
       "   split1_test_score  split2_test_score  split3_test_score  split4_test_score  \\\n",
       "0           0.888889           0.831461           0.876404           0.898876   \n",
       "1           0.900000           0.831461           0.876404           0.898876   \n",
       "2           0.888889           0.831461           0.876404           0.898876   \n",
       "3           0.888889           0.831461           0.876404           0.898876   \n",
       "4           0.888889           0.831461           0.876404           0.898876   \n",
       "5           0.888889           0.831461           0.887640           0.898876   \n",
       "6           0.888889           0.831461           0.887640           0.898876   \n",
       "7           0.888889           0.831461           0.898876           0.898876   \n",
       "8           0.888889           0.831461           0.876404           0.898876   \n",
       "9           0.900000           0.831461           0.887640           0.898876   \n",
       "\n",
       "   split5_test_score  split6_test_score  split7_test_score  split8_test_score  \\\n",
       "0           0.842697           0.865169           0.853933           0.898876   \n",
       "1           0.842697           0.865169           0.853933           0.898876   \n",
       "2           0.842697           0.865169           0.853933           0.898876   \n",
       "3           0.842697           0.865169           0.853933           0.898876   \n",
       "4           0.842697           0.865169           0.853933           0.898876   \n",
       "5           0.842697           0.865169           0.853933           0.898876   \n",
       "6           0.842697           0.865169           0.865169           0.898876   \n",
       "7           0.842697           0.853933           0.853933           0.898876   \n",
       "8           0.842697           0.865169           0.842697           0.921348   \n",
       "9           0.842697           0.853933           0.853933           0.910112   \n",
       "\n",
       "   split9_test_score  mean_test_score  std_test_score  rank_test_score  \n",
       "0           0.886364         0.873176        0.022585                7  \n",
       "1           0.886364         0.874299        0.023591                3  \n",
       "2           0.886364         0.873176        0.022585                7  \n",
       "3           0.886364         0.873176        0.022585                7  \n",
       "4           0.886364         0.873176        0.022585                7  \n",
       "5           0.886364         0.874299        0.022993                3  \n",
       "6           0.886364         0.875421        0.022233                1  \n",
       "7           0.886364         0.874299        0.024583                3  \n",
       "8           0.886364         0.874299        0.027026                3  \n",
       "9           0.886364         0.875421        0.025952                1  "
      ]
     },
     "execution_count": 56,
     "metadata": {},
     "output_type": "execute_result"
    }
   ],
   "source": [
    "pd.DataFrame(SVM_Linear.cv_results_)[pd.DataFrame(SVM_Linear.cv_results_)['rank_test_score']<10]"
   ]
  },
  {
   "cell_type": "code",
   "execution_count": 57,
   "metadata": {},
   "outputs": [],
   "source": [
    "RF=GridSearchCV(estimator=RandomForestClassifier(n_jobs=-1),cv=5,n_jobs=-1,scoring='accuracy',param_grid=[{'criterion':['gini','entropy'],'max_depth':range(2,100),'n_estimators':[20,30,60,100]}])"
   ]
  },
  {
   "cell_type": "code",
   "execution_count": null,
   "metadata": {},
   "outputs": [],
   "source": []
  },
  {
   "cell_type": "code",
   "execution_count": 58,
   "metadata": {},
   "outputs": [
    {
     "data": {
      "text/plain": [
       "GridSearchCV(cv=5, error_score='raise-deprecating',\n",
       "             estimator=RandomForestClassifier(bootstrap=True, class_weight=None,\n",
       "                                              criterion='gini', max_depth=None,\n",
       "                                              max_features='auto',\n",
       "                                              max_leaf_nodes=None,\n",
       "                                              min_impurity_decrease=0.0,\n",
       "                                              min_impurity_split=None,\n",
       "                                              min_samples_leaf=1,\n",
       "                                              min_samples_split=2,\n",
       "                                              min_weight_fraction_leaf=0.0,\n",
       "                                              n_estimators='warn', n_jobs=-1,\n",
       "                                              oob_score=False,\n",
       "                                              random_state=None, verbose=0,\n",
       "                                              warm_start=False),\n",
       "             iid='warn', n_jobs=-1,\n",
       "             param_grid=[{'criterion': ['gini', 'entropy'],\n",
       "                          'max_depth': range(2, 100),\n",
       "                          'n_estimators': [20, 30, 60, 100]}],\n",
       "             pre_dispatch='2*n_jobs', refit=True, return_train_score=False,\n",
       "             scoring='accuracy', verbose=0)"
      ]
     },
     "execution_count": 58,
     "metadata": {},
     "output_type": "execute_result"
    }
   ],
   "source": [
    "RF.fit(X,y)"
   ]
  },
  {
   "cell_type": "code",
   "execution_count": 59,
   "metadata": {},
   "outputs": [
    {
     "data": {
      "text/plain": [
       "(0.877665544332211,\n",
       " {'criterion': 'entropy', 'max_depth': 6, 'n_estimators': 20})"
      ]
     },
     "execution_count": 59,
     "metadata": {},
     "output_type": "execute_result"
    }
   ],
   "source": [
    "RF.best_score_,RF.best_params_"
   ]
  },
  {
   "cell_type": "code",
   "execution_count": 60,
   "metadata": {},
   "outputs": [
    {
     "data": {
      "text/html": [
       "<div>\n",
       "<style scoped>\n",
       "    .dataframe tbody tr th:only-of-type {\n",
       "        vertical-align: middle;\n",
       "    }\n",
       "\n",
       "    .dataframe tbody tr th {\n",
       "        vertical-align: top;\n",
       "    }\n",
       "\n",
       "    .dataframe thead th {\n",
       "        text-align: right;\n",
       "    }\n",
       "</style>\n",
       "<table border=\"1\" class=\"dataframe\">\n",
       "  <thead>\n",
       "    <tr style=\"text-align: right;\">\n",
       "      <th></th>\n",
       "      <th>mean_fit_time</th>\n",
       "      <th>std_fit_time</th>\n",
       "      <th>mean_score_time</th>\n",
       "      <th>std_score_time</th>\n",
       "      <th>param_criterion</th>\n",
       "      <th>param_max_depth</th>\n",
       "      <th>param_n_estimators</th>\n",
       "      <th>params</th>\n",
       "      <th>split0_test_score</th>\n",
       "      <th>split1_test_score</th>\n",
       "      <th>split2_test_score</th>\n",
       "      <th>split3_test_score</th>\n",
       "      <th>split4_test_score</th>\n",
       "      <th>mean_test_score</th>\n",
       "      <th>std_test_score</th>\n",
       "      <th>rank_test_score</th>\n",
       "    </tr>\n",
       "  </thead>\n",
       "  <tbody>\n",
       "    <tr>\n",
       "      <th>22</th>\n",
       "      <td>0.323657</td>\n",
       "      <td>0.018310</td>\n",
       "      <td>0.119566</td>\n",
       "      <td>0.010937</td>\n",
       "      <td>gini</td>\n",
       "      <td>7</td>\n",
       "      <td>60</td>\n",
       "      <td>{'criterion': 'gini', 'max_depth': 7, 'n_estim...</td>\n",
       "      <td>0.888268</td>\n",
       "      <td>0.854749</td>\n",
       "      <td>0.876404</td>\n",
       "      <td>0.859551</td>\n",
       "      <td>0.892655</td>\n",
       "      <td>0.874299</td>\n",
       "      <td>0.015075</td>\n",
       "      <td>6</td>\n",
       "    </tr>\n",
       "    <tr>\n",
       "      <th>23</th>\n",
       "      <td>0.531610</td>\n",
       "      <td>0.037926</td>\n",
       "      <td>0.117418</td>\n",
       "      <td>0.007045</td>\n",
       "      <td>gini</td>\n",
       "      <td>7</td>\n",
       "      <td>100</td>\n",
       "      <td>{'criterion': 'gini', 'max_depth': 7, 'n_estim...</td>\n",
       "      <td>0.893855</td>\n",
       "      <td>0.860335</td>\n",
       "      <td>0.876404</td>\n",
       "      <td>0.848315</td>\n",
       "      <td>0.898305</td>\n",
       "      <td>0.875421</td>\n",
       "      <td>0.019105</td>\n",
       "      <td>3</td>\n",
       "    </tr>\n",
       "    <tr>\n",
       "      <th>24</th>\n",
       "      <td>0.176433</td>\n",
       "      <td>0.013677</td>\n",
       "      <td>0.124478</td>\n",
       "      <td>0.011465</td>\n",
       "      <td>gini</td>\n",
       "      <td>8</td>\n",
       "      <td>20</td>\n",
       "      <td>{'criterion': 'gini', 'max_depth': 8, 'n_estim...</td>\n",
       "      <td>0.888268</td>\n",
       "      <td>0.854749</td>\n",
       "      <td>0.876404</td>\n",
       "      <td>0.859551</td>\n",
       "      <td>0.892655</td>\n",
       "      <td>0.874299</td>\n",
       "      <td>0.015075</td>\n",
       "      <td>6</td>\n",
       "    </tr>\n",
       "    <tr>\n",
       "      <th>40</th>\n",
       "      <td>0.172649</td>\n",
       "      <td>0.031352</td>\n",
       "      <td>0.130639</td>\n",
       "      <td>0.006545</td>\n",
       "      <td>gini</td>\n",
       "      <td>12</td>\n",
       "      <td>20</td>\n",
       "      <td>{'criterion': 'gini', 'max_depth': 12, 'n_esti...</td>\n",
       "      <td>0.888268</td>\n",
       "      <td>0.849162</td>\n",
       "      <td>0.887640</td>\n",
       "      <td>0.859551</td>\n",
       "      <td>0.892655</td>\n",
       "      <td>0.875421</td>\n",
       "      <td>0.017631</td>\n",
       "      <td>3</td>\n",
       "    </tr>\n",
       "    <tr>\n",
       "      <th>408</th>\n",
       "      <td>0.160659</td>\n",
       "      <td>0.011282</td>\n",
       "      <td>0.118482</td>\n",
       "      <td>0.010700</td>\n",
       "      <td>entropy</td>\n",
       "      <td>6</td>\n",
       "      <td>20</td>\n",
       "      <td>{'criterion': 'entropy', 'max_depth': 6, 'n_es...</td>\n",
       "      <td>0.888268</td>\n",
       "      <td>0.860335</td>\n",
       "      <td>0.876404</td>\n",
       "      <td>0.865169</td>\n",
       "      <td>0.898305</td>\n",
       "      <td>0.877666</td>\n",
       "      <td>0.014109</td>\n",
       "      <td>1</td>\n",
       "    </tr>\n",
       "    <tr>\n",
       "      <th>409</th>\n",
       "      <td>0.178355</td>\n",
       "      <td>0.048285</td>\n",
       "      <td>0.118897</td>\n",
       "      <td>0.006421</td>\n",
       "      <td>entropy</td>\n",
       "      <td>6</td>\n",
       "      <td>30</td>\n",
       "      <td>{'criterion': 'entropy', 'max_depth': 6, 'n_es...</td>\n",
       "      <td>0.899441</td>\n",
       "      <td>0.860335</td>\n",
       "      <td>0.876404</td>\n",
       "      <td>0.848315</td>\n",
       "      <td>0.887006</td>\n",
       "      <td>0.874299</td>\n",
       "      <td>0.018276</td>\n",
       "      <td>6</td>\n",
       "    </tr>\n",
       "    <tr>\n",
       "      <th>415</th>\n",
       "      <td>0.568676</td>\n",
       "      <td>0.032833</td>\n",
       "      <td>0.110183</td>\n",
       "      <td>0.001366</td>\n",
       "      <td>entropy</td>\n",
       "      <td>7</td>\n",
       "      <td>100</td>\n",
       "      <td>{'criterion': 'entropy', 'max_depth': 7, 'n_es...</td>\n",
       "      <td>0.888268</td>\n",
       "      <td>0.860335</td>\n",
       "      <td>0.870787</td>\n",
       "      <td>0.853933</td>\n",
       "      <td>0.898305</td>\n",
       "      <td>0.874299</td>\n",
       "      <td>0.016679</td>\n",
       "      <td>6</td>\n",
       "    </tr>\n",
       "    <tr>\n",
       "      <th>417</th>\n",
       "      <td>0.174251</td>\n",
       "      <td>0.025316</td>\n",
       "      <td>0.121279</td>\n",
       "      <td>0.018222</td>\n",
       "      <td>entropy</td>\n",
       "      <td>8</td>\n",
       "      <td>30</td>\n",
       "      <td>{'criterion': 'entropy', 'max_depth': 8, 'n_es...</td>\n",
       "      <td>0.899441</td>\n",
       "      <td>0.849162</td>\n",
       "      <td>0.876404</td>\n",
       "      <td>0.859551</td>\n",
       "      <td>0.887006</td>\n",
       "      <td>0.874299</td>\n",
       "      <td>0.018176</td>\n",
       "      <td>6</td>\n",
       "    </tr>\n",
       "    <tr>\n",
       "      <th>418</th>\n",
       "      <td>0.347289</td>\n",
       "      <td>0.019233</td>\n",
       "      <td>0.120019</td>\n",
       "      <td>0.008697</td>\n",
       "      <td>entropy</td>\n",
       "      <td>8</td>\n",
       "      <td>60</td>\n",
       "      <td>{'criterion': 'entropy', 'max_depth': 8, 'n_es...</td>\n",
       "      <td>0.888268</td>\n",
       "      <td>0.865922</td>\n",
       "      <td>0.876404</td>\n",
       "      <td>0.853933</td>\n",
       "      <td>0.892655</td>\n",
       "      <td>0.875421</td>\n",
       "      <td>0.014238</td>\n",
       "      <td>3</td>\n",
       "    </tr>\n",
       "    <tr>\n",
       "      <th>419</th>\n",
       "      <td>0.550212</td>\n",
       "      <td>0.034627</td>\n",
       "      <td>0.114596</td>\n",
       "      <td>0.000766</td>\n",
       "      <td>entropy</td>\n",
       "      <td>8</td>\n",
       "      <td>100</td>\n",
       "      <td>{'criterion': 'entropy', 'max_depth': 8, 'n_es...</td>\n",
       "      <td>0.888268</td>\n",
       "      <td>0.865922</td>\n",
       "      <td>0.876404</td>\n",
       "      <td>0.859551</td>\n",
       "      <td>0.898305</td>\n",
       "      <td>0.877666</td>\n",
       "      <td>0.014170</td>\n",
       "      <td>1</td>\n",
       "    </tr>\n",
       "    <tr>\n",
       "      <th>422</th>\n",
       "      <td>0.328109</td>\n",
       "      <td>0.039744</td>\n",
       "      <td>0.124851</td>\n",
       "      <td>0.011051</td>\n",
       "      <td>entropy</td>\n",
       "      <td>9</td>\n",
       "      <td>60</td>\n",
       "      <td>{'criterion': 'entropy', 'max_depth': 9, 'n_es...</td>\n",
       "      <td>0.882682</td>\n",
       "      <td>0.860335</td>\n",
       "      <td>0.876404</td>\n",
       "      <td>0.859551</td>\n",
       "      <td>0.892655</td>\n",
       "      <td>0.874299</td>\n",
       "      <td>0.012828</td>\n",
       "      <td>6</td>\n",
       "    </tr>\n",
       "  </tbody>\n",
       "</table>\n",
       "</div>"
      ],
      "text/plain": [
       "     mean_fit_time  std_fit_time  mean_score_time  std_score_time  \\\n",
       "22        0.323657      0.018310         0.119566        0.010937   \n",
       "23        0.531610      0.037926         0.117418        0.007045   \n",
       "24        0.176433      0.013677         0.124478        0.011465   \n",
       "40        0.172649      0.031352         0.130639        0.006545   \n",
       "408       0.160659      0.011282         0.118482        0.010700   \n",
       "409       0.178355      0.048285         0.118897        0.006421   \n",
       "415       0.568676      0.032833         0.110183        0.001366   \n",
       "417       0.174251      0.025316         0.121279        0.018222   \n",
       "418       0.347289      0.019233         0.120019        0.008697   \n",
       "419       0.550212      0.034627         0.114596        0.000766   \n",
       "422       0.328109      0.039744         0.124851        0.011051   \n",
       "\n",
       "    param_criterion param_max_depth param_n_estimators  \\\n",
       "22             gini               7                 60   \n",
       "23             gini               7                100   \n",
       "24             gini               8                 20   \n",
       "40             gini              12                 20   \n",
       "408         entropy               6                 20   \n",
       "409         entropy               6                 30   \n",
       "415         entropy               7                100   \n",
       "417         entropy               8                 30   \n",
       "418         entropy               8                 60   \n",
       "419         entropy               8                100   \n",
       "422         entropy               9                 60   \n",
       "\n",
       "                                                params  split0_test_score  \\\n",
       "22   {'criterion': 'gini', 'max_depth': 7, 'n_estim...           0.888268   \n",
       "23   {'criterion': 'gini', 'max_depth': 7, 'n_estim...           0.893855   \n",
       "24   {'criterion': 'gini', 'max_depth': 8, 'n_estim...           0.888268   \n",
       "40   {'criterion': 'gini', 'max_depth': 12, 'n_esti...           0.888268   \n",
       "408  {'criterion': 'entropy', 'max_depth': 6, 'n_es...           0.888268   \n",
       "409  {'criterion': 'entropy', 'max_depth': 6, 'n_es...           0.899441   \n",
       "415  {'criterion': 'entropy', 'max_depth': 7, 'n_es...           0.888268   \n",
       "417  {'criterion': 'entropy', 'max_depth': 8, 'n_es...           0.899441   \n",
       "418  {'criterion': 'entropy', 'max_depth': 8, 'n_es...           0.888268   \n",
       "419  {'criterion': 'entropy', 'max_depth': 8, 'n_es...           0.888268   \n",
       "422  {'criterion': 'entropy', 'max_depth': 9, 'n_es...           0.882682   \n",
       "\n",
       "     split1_test_score  split2_test_score  split3_test_score  \\\n",
       "22            0.854749           0.876404           0.859551   \n",
       "23            0.860335           0.876404           0.848315   \n",
       "24            0.854749           0.876404           0.859551   \n",
       "40            0.849162           0.887640           0.859551   \n",
       "408           0.860335           0.876404           0.865169   \n",
       "409           0.860335           0.876404           0.848315   \n",
       "415           0.860335           0.870787           0.853933   \n",
       "417           0.849162           0.876404           0.859551   \n",
       "418           0.865922           0.876404           0.853933   \n",
       "419           0.865922           0.876404           0.859551   \n",
       "422           0.860335           0.876404           0.859551   \n",
       "\n",
       "     split4_test_score  mean_test_score  std_test_score  rank_test_score  \n",
       "22            0.892655         0.874299        0.015075                6  \n",
       "23            0.898305         0.875421        0.019105                3  \n",
       "24            0.892655         0.874299        0.015075                6  \n",
       "40            0.892655         0.875421        0.017631                3  \n",
       "408           0.898305         0.877666        0.014109                1  \n",
       "409           0.887006         0.874299        0.018276                6  \n",
       "415           0.898305         0.874299        0.016679                6  \n",
       "417           0.887006         0.874299        0.018176                6  \n",
       "418           0.892655         0.875421        0.014238                3  \n",
       "419           0.898305         0.877666        0.014170                1  \n",
       "422           0.892655         0.874299        0.012828                6  "
      ]
     },
     "execution_count": 60,
     "metadata": {},
     "output_type": "execute_result"
    }
   ],
   "source": [
    "pd.DataFrame(RF.cv_results_)[pd.DataFrame(RF.cv_results_)['rank_test_score']<10]"
   ]
  },
  {
   "cell_type": "code",
   "execution_count": 61,
   "metadata": {},
   "outputs": [
    {
     "data": {
      "text/plain": [
       "{'criterion': 'entropy', 'max_depth': 6, 'n_estimators': 20}"
      ]
     },
     "execution_count": 61,
     "metadata": {},
     "output_type": "execute_result"
    }
   ],
   "source": [
    "RF.best_params_"
   ]
  },
  {
   "cell_type": "code",
   "execution_count": 62,
   "metadata": {},
   "outputs": [
    {
     "name": "stdout",
     "output_type": "stream",
     "text": [
      "|--- Title_Mrs. <= 0.50\n",
      "|   |--- Title_Miss. <= 0.50\n",
      "|   |   |--- Cabin_O <= 0.50\n",
      "|   |   |   |--- Last_n2_Low <= 0.50\n",
      "|   |   |   |   |--- Title_Mr. <= 0.50\n",
      "|   |   |   |   |   |--- Age <= 39.00\n",
      "|   |   |   |   |   |   |--- class: 1.0\n",
      "|   |   |   |   |   |--- Age >  39.00\n",
      "|   |   |   |   |   |   |--- class: 1.0\n",
      "|   |   |   |   |--- Title_Mr. >  0.50\n",
      "|   |   |   |   |   |--- Embarked_S <= 0.50\n",
      "|   |   |   |   |   |   |--- class: 0.0\n",
      "|   |   |   |   |   |--- Embarked_S >  0.50\n",
      "|   |   |   |   |   |   |--- class: 0.0\n",
      "|   |   |   |--- Last_n2_Low >  0.50\n",
      "|   |   |   |   |--- Sex <= 0.50\n",
      "|   |   |   |   |   |--- class: 1.0\n",
      "|   |   |   |   |--- Sex >  0.50\n",
      "|   |   |   |   |   |--- Age <= 36.50\n",
      "|   |   |   |   |   |   |--- class: 0.0\n",
      "|   |   |   |   |   |--- Age >  36.50\n",
      "|   |   |   |   |   |   |--- class: 0.0\n",
      "|   |   |--- Cabin_O >  0.50\n",
      "|   |   |   |--- Title_Master. <= 0.50\n",
      "|   |   |   |   |--- Last_n2_V_High <= 0.50\n",
      "|   |   |   |   |   |--- Fare <= 51.80\n",
      "|   |   |   |   |   |   |--- class: 0.0\n",
      "|   |   |   |   |   |--- Fare >  51.80\n",
      "|   |   |   |   |   |   |--- class: 0.0\n",
      "|   |   |   |   |--- Last_n2_V_High >  0.50\n",
      "|   |   |   |   |   |--- class: 1.0\n",
      "|   |   |   |--- Title_Master. >  0.50\n",
      "|   |   |   |   |--- Last_n2_V_High <= 0.50\n",
      "|   |   |   |   |   |--- Fare <= 20.83\n",
      "|   |   |   |   |   |   |--- class: 1.0\n",
      "|   |   |   |   |   |--- Fare >  20.83\n",
      "|   |   |   |   |   |   |--- class: 0.0\n",
      "|   |   |   |   |--- Last_n2_V_High >  0.50\n",
      "|   |   |   |   |   |--- class: 1.0\n",
      "|   |--- Title_Miss. >  0.50\n",
      "|   |   |--- Cabin_O <= 0.50\n",
      "|   |   |   |--- Fare <= 152.51\n",
      "|   |   |   |   |--- Cabin_D <= 0.50\n",
      "|   |   |   |   |   |--- Last_n2_V_High <= 0.50\n",
      "|   |   |   |   |   |   |--- class: 1.0\n",
      "|   |   |   |   |   |--- Last_n2_V_High >  0.50\n",
      "|   |   |   |   |   |   |--- class: 1.0\n",
      "|   |   |   |   |--- Cabin_D >  0.50\n",
      "|   |   |   |   |   |--- class: 1.0\n",
      "|   |   |   |--- Fare >  152.51\n",
      "|   |   |   |   |--- class: 1.0\n",
      "|   |   |--- Cabin_O >  0.50\n",
      "|   |   |   |--- Pclass <= 2.50\n",
      "|   |   |   |   |--- Fare <= 18.00\n",
      "|   |   |   |   |   |--- Age <= 22.50\n",
      "|   |   |   |   |   |   |--- class: 1.0\n",
      "|   |   |   |   |   |--- Age >  22.50\n",
      "|   |   |   |   |   |   |--- class: 1.0\n",
      "|   |   |   |   |--- Fare >  18.00\n",
      "|   |   |   |   |   |--- class: 1.0\n",
      "|   |   |   |--- Pclass >  2.50\n",
      "|   |   |   |   |--- Embarked_S <= 0.50\n",
      "|   |   |   |   |   |--- Last_n2_V_High <= 0.50\n",
      "|   |   |   |   |   |   |--- class: 1.0\n",
      "|   |   |   |   |   |--- Last_n2_V_High >  0.50\n",
      "|   |   |   |   |   |   |--- class: 1.0\n",
      "|   |   |   |   |--- Embarked_S >  0.50\n",
      "|   |   |   |   |   |--- Fare <= 7.52\n",
      "|   |   |   |   |   |   |--- class: 1.0\n",
      "|   |   |   |   |   |--- Fare >  7.52\n",
      "|   |   |   |   |   |   |--- class: 0.0\n",
      "|--- Title_Mrs. >  0.50\n",
      "|   |--- Embarked_S <= 0.50\n",
      "|   |   |--- Last_n2_Low <= 0.50\n",
      "|   |   |   |--- Age <= 44.50\n",
      "|   |   |   |   |--- class: 1.0\n",
      "|   |   |   |--- Age >  44.50\n",
      "|   |   |   |   |--- Pclass <= 2.00\n",
      "|   |   |   |   |   |--- class: 1.0\n",
      "|   |   |   |   |--- Pclass >  2.00\n",
      "|   |   |   |   |   |--- class: 0.0\n",
      "|   |   |--- Last_n2_Low >  0.50\n",
      "|   |   |   |--- class: 1.0\n",
      "|   |--- Embarked_S >  0.50\n",
      "|   |   |--- f_size <= 3.50\n",
      "|   |   |   |--- Last_n2_V_Low <= 0.50\n",
      "|   |   |   |   |--- Cabin_B <= 0.50\n",
      "|   |   |   |   |   |--- Cabin_C <= 0.50\n",
      "|   |   |   |   |   |   |--- class: 1.0\n",
      "|   |   |   |   |   |--- Cabin_C >  0.50\n",
      "|   |   |   |   |   |   |--- class: 1.0\n",
      "|   |   |   |   |--- Cabin_B >  0.50\n",
      "|   |   |   |   |   |--- class: 1.0\n",
      "|   |   |   |--- Last_n2_V_Low >  0.50\n",
      "|   |   |   |   |--- class: 0.0\n",
      "|   |   |--- f_size >  3.50\n",
      "|   |   |   |--- Last_n2_V_Low <= 0.50\n",
      "|   |   |   |   |--- class: 1.0\n",
      "|   |   |   |--- Last_n2_V_Low >  0.50\n",
      "|   |   |   |   |--- class: 0.0\n",
      "\n"
     ]
    }
   ],
   "source": [
    "print(tree.export_text(RF.best_estimator_.estimators_[10],feature_names=Features))"
   ]
  },
  {
   "cell_type": "code",
   "execution_count": 63,
   "metadata": {},
   "outputs": [],
   "source": [
    "DT=GridSearchCV(estimator=DecisionTreeClassifier(),cv=10,n_jobs=-1,scoring='accuracy',param_grid=[{'criterion':['gini','entropy'],'max_depth':range(2,100)}])"
   ]
  },
  {
   "cell_type": "code",
   "execution_count": 64,
   "metadata": {},
   "outputs": [
    {
     "data": {
      "text/plain": [
       "GridSearchCV(cv=10, error_score='raise-deprecating',\n",
       "             estimator=DecisionTreeClassifier(class_weight=None,\n",
       "                                              criterion='gini', max_depth=None,\n",
       "                                              max_features=None,\n",
       "                                              max_leaf_nodes=None,\n",
       "                                              min_impurity_decrease=0.0,\n",
       "                                              min_impurity_split=None,\n",
       "                                              min_samples_leaf=1,\n",
       "                                              min_samples_split=2,\n",
       "                                              min_weight_fraction_leaf=0.0,\n",
       "                                              presort=False, random_state=None,\n",
       "                                              splitter='best'),\n",
       "             iid='warn', n_jobs=-1,\n",
       "             param_grid=[{'criterion': ['gini', 'entropy'],\n",
       "                          'max_depth': range(2, 100)}],\n",
       "             pre_dispatch='2*n_jobs', refit=True, return_train_score=False,\n",
       "             scoring='accuracy', verbose=0)"
      ]
     },
     "execution_count": 64,
     "metadata": {},
     "output_type": "execute_result"
    }
   ],
   "source": [
    "DT.fit(X,y)"
   ]
  },
  {
   "cell_type": "code",
   "execution_count": 65,
   "metadata": {},
   "outputs": [
    {
     "data": {
      "text/plain": [
       "(0.8653198653198653, {'criterion': 'gini', 'max_depth': 2})"
      ]
     },
     "execution_count": 65,
     "metadata": {},
     "output_type": "execute_result"
    }
   ],
   "source": [
    "DT.best_score_,DT.best_params_"
   ]
  },
  {
   "cell_type": "code",
   "execution_count": 66,
   "metadata": {
    "scrolled": true
   },
   "outputs": [
    {
     "name": "stdout",
     "output_type": "stream",
     "text": [
      "|--- Sex <= 0.50\n",
      "|   |--- Last_n2_V_Low <= 0.50\n",
      "|   |   |--- class: 1\n",
      "|   |--- Last_n2_V_Low >  0.50\n",
      "|   |   |--- class: 0\n",
      "|--- Sex >  0.50\n",
      "|   |--- Last_n2_V_High <= 0.50\n",
      "|   |   |--- class: 0\n",
      "|   |--- Last_n2_V_High >  0.50\n",
      "|   |   |--- class: 1\n",
      "\n"
     ]
    }
   ],
   "source": [
    "print(tree.export_text(DT.best_estimator_,feature_names=Features))"
   ]
  },
  {
   "cell_type": "code",
   "execution_count": 67,
   "metadata": {},
   "outputs": [
    {
     "ename": "NameError",
     "evalue": "name 'jvjvjvj' is not defined",
     "output_type": "error",
     "traceback": [
      "\u001b[1;31m---------------------------------------------------------------------------\u001b[0m",
      "\u001b[1;31mNameError\u001b[0m                                 Traceback (most recent call last)",
      "\u001b[1;32m<ipython-input-67-81df9d36dc4c>\u001b[0m in \u001b[0;36m<module>\u001b[1;34m\u001b[0m\n\u001b[1;32m----> 1\u001b[1;33m \u001b[0mjvjvjvj\u001b[0m\u001b[1;33m\u001b[0m\u001b[1;33m\u001b[0m\u001b[0m\n\u001b[0m",
      "\u001b[1;31mNameError\u001b[0m: name 'jvjvjvj' is not defined"
     ]
    }
   ],
   "source": [
    "jvjvjvj"
   ]
  },
  {
   "cell_type": "code",
   "execution_count": 95,
   "metadata": {},
   "outputs": [],
   "source": [
    "classifiers = [\n",
    "    ('Logistic Regression', LogisticRegression(C= 3, max_iter= 1000, penalty='l2')),\n",
    "    ('Random forest', RandomForestClassifier(n_jobs=-1,criterion='entropy',max_depth= 6, n_estimators= 20)),\n",
    "    #('Decision Tree',DecisionTreeClassifier(criterion='gini',max_depth= 2)), \n",
    "    ('Linear_SVM', make_pipeline(StandardScaler(),LinearSVC(C=0.5,penalty='l2', max_iter= 4000)))]\n",
    "V_Clf = GridSearchCV(estimator=VotingClassifier(classifiers),cv=10,n_jobs=-1,scoring='accuracy',param_grid=[{'voting':['hard']}])"
   ]
  },
  {
   "cell_type": "code",
   "execution_count": 96,
   "metadata": {},
   "outputs": [
    {
     "name": "stderr",
     "output_type": "stream",
     "text": [
      "C:\\Users\\hp\\Anaconda3\\lib\\site-packages\\sklearn\\linear_model\\logistic.py:432: FutureWarning: Default solver will be changed to 'lbfgs' in 0.22. Specify a solver to silence this warning.\n",
      "  FutureWarning)\n"
     ]
    },
    {
     "data": {
      "text/plain": [
       "GridSearchCV(cv=10, error_score='raise-deprecating',\n",
       "             estimator=VotingClassifier(estimators=[('Logistic Regression',\n",
       "                                                     LogisticRegression(C=3,\n",
       "                                                                        class_weight=None,\n",
       "                                                                        dual=False,\n",
       "                                                                        fit_intercept=True,\n",
       "                                                                        intercept_scaling=1,\n",
       "                                                                        l1_ratio=None,\n",
       "                                                                        max_iter=1000,\n",
       "                                                                        multi_class='warn',\n",
       "                                                                        n_jobs=None,\n",
       "                                                                        penalty='l2',\n",
       "                                                                        random_state=None,\n",
       "                                                                        solver='warn',\n",
       "                                                                        tol=0.0001,\n",
       "                                                                        verbose=0,\n",
       "                                                                        warm_start=False)),\n",
       "                                                    ('R...\n",
       "                                                                                intercept_scaling=1,\n",
       "                                                                                loss='squared_hinge',\n",
       "                                                                                max_iter=4000,\n",
       "                                                                                multi_class='ovr',\n",
       "                                                                                penalty='l2',\n",
       "                                                                                random_state=None,\n",
       "                                                                                tol=0.0001,\n",
       "                                                                                verbose=0))],\n",
       "                                                              verbose=False))],\n",
       "                                        flatten_transform=True, n_jobs=None,\n",
       "                                        voting='hard', weights=None),\n",
       "             iid='warn', n_jobs=-1, param_grid=[{'voting': ['hard']}],\n",
       "             pre_dispatch='2*n_jobs', refit=True, return_train_score=False,\n",
       "             scoring='accuracy', verbose=0)"
      ]
     },
     "execution_count": 96,
     "metadata": {},
     "output_type": "execute_result"
    }
   ],
   "source": [
    "V_Clf.fit(X,y)"
   ]
  },
  {
   "cell_type": "code",
   "execution_count": 97,
   "metadata": {},
   "outputs": [
    {
     "data": {
      "text/plain": [
       "(0.8754208754208754, {'voting': 'hard'})"
      ]
     },
     "execution_count": 97,
     "metadata": {},
     "output_type": "execute_result"
    }
   ],
   "source": [
    "V_Clf.best_score_,V_Clf.best_params_"
   ]
  },
  {
   "cell_type": "code",
   "execution_count": 98,
   "metadata": {},
   "outputs": [
    {
     "data": {
      "text/html": [
       "<div>\n",
       "<style scoped>\n",
       "    .dataframe tbody tr th:only-of-type {\n",
       "        vertical-align: middle;\n",
       "    }\n",
       "\n",
       "    .dataframe tbody tr th {\n",
       "        vertical-align: top;\n",
       "    }\n",
       "\n",
       "    .dataframe thead th {\n",
       "        text-align: right;\n",
       "    }\n",
       "</style>\n",
       "<table border=\"1\" class=\"dataframe\">\n",
       "  <thead>\n",
       "    <tr style=\"text-align: right;\">\n",
       "      <th></th>\n",
       "      <th>mean_fit_time</th>\n",
       "      <th>std_fit_time</th>\n",
       "      <th>mean_score_time</th>\n",
       "      <th>std_score_time</th>\n",
       "      <th>param_voting</th>\n",
       "      <th>params</th>\n",
       "      <th>split0_test_score</th>\n",
       "      <th>split1_test_score</th>\n",
       "      <th>split2_test_score</th>\n",
       "      <th>split3_test_score</th>\n",
       "      <th>split4_test_score</th>\n",
       "      <th>split5_test_score</th>\n",
       "      <th>split6_test_score</th>\n",
       "      <th>split7_test_score</th>\n",
       "      <th>split8_test_score</th>\n",
       "      <th>split9_test_score</th>\n",
       "      <th>mean_test_score</th>\n",
       "      <th>std_test_score</th>\n",
       "      <th>rank_test_score</th>\n",
       "    </tr>\n",
       "  </thead>\n",
       "  <tbody>\n",
       "    <tr>\n",
       "      <th>0</th>\n",
       "      <td>0.81362</td>\n",
       "      <td>0.17023</td>\n",
       "      <td>0.187277</td>\n",
       "      <td>0.101318</td>\n",
       "      <td>hard</td>\n",
       "      <td>{'voting': 'hard'}</td>\n",
       "      <td>0.888889</td>\n",
       "      <td>0.9</td>\n",
       "      <td>0.831461</td>\n",
       "      <td>0.88764</td>\n",
       "      <td>0.898876</td>\n",
       "      <td>0.842697</td>\n",
       "      <td>0.865169</td>\n",
       "      <td>0.853933</td>\n",
       "      <td>0.898876</td>\n",
       "      <td>0.886364</td>\n",
       "      <td>0.875421</td>\n",
       "      <td>0.023929</td>\n",
       "      <td>1</td>\n",
       "    </tr>\n",
       "  </tbody>\n",
       "</table>\n",
       "</div>"
      ],
      "text/plain": [
       "   mean_fit_time  std_fit_time  mean_score_time  std_score_time param_voting  \\\n",
       "0        0.81362       0.17023         0.187277        0.101318         hard   \n",
       "\n",
       "               params  split0_test_score  split1_test_score  \\\n",
       "0  {'voting': 'hard'}           0.888889                0.9   \n",
       "\n",
       "   split2_test_score  split3_test_score  split4_test_score  split5_test_score  \\\n",
       "0           0.831461            0.88764           0.898876           0.842697   \n",
       "\n",
       "   split6_test_score  split7_test_score  split8_test_score  split9_test_score  \\\n",
       "0           0.865169           0.853933           0.898876           0.886364   \n",
       "\n",
       "   mean_test_score  std_test_score  rank_test_score  \n",
       "0         0.875421        0.023929                1  "
      ]
     },
     "execution_count": 98,
     "metadata": {},
     "output_type": "execute_result"
    }
   ],
   "source": [
    "pd.DataFrame(V_Clf.cv_results_)\n",
    "#entropyt"
   ]
  },
  {
   "cell_type": "code",
   "execution_count": 100,
   "metadata": {},
   "outputs": [
    {
     "name": "stdout",
     "output_type": "stream",
     "text": [
      "              precision    recall  f1-score   support\n",
      "\n",
      "           0       0.88      0.93      0.90       549\n",
      "           1       0.87      0.80      0.84       342\n",
      "\n",
      "    accuracy                           0.88       891\n",
      "   macro avg       0.88      0.87      0.87       891\n",
      "weighted avg       0.88      0.88      0.88       891\n",
      "\n"
     ]
    }
   ],
   "source": [
    "print(classification_report(y,V_Clf.predict(X)))"
   ]
  },
  {
   "cell_type": "code",
   "execution_count": 101,
   "metadata": {},
   "outputs": [
    {
     "name": "stdout",
     "output_type": "stream",
     "text": [
      "              precision    recall  f1-score   support\n",
      "\n",
      "           0       0.88      0.93      0.90       549\n",
      "           1       0.87      0.80      0.84       342\n",
      "\n",
      "    accuracy                           0.88       891\n",
      "   macro avg       0.88      0.86      0.87       891\n",
      "weighted avg       0.88      0.88      0.88       891\n",
      "\n"
     ]
    }
   ],
   "source": [
    "print(classification_report(y,SVM_Linear_PL.predict(X)))"
   ]
  },
  {
   "cell_type": "code",
   "execution_count": 104,
   "metadata": {},
   "outputs": [
    {
     "name": "stdout",
     "output_type": "stream",
     "text": [
      "              precision    recall  f1-score   support\n",
      "\n",
      "           0       0.88      0.95      0.91       549\n",
      "           1       0.90      0.79      0.84       342\n",
      "\n",
      "    accuracy                           0.89       891\n",
      "   macro avg       0.89      0.87      0.88       891\n",
      "weighted avg       0.89      0.89      0.89       891\n",
      "\n"
     ]
    }
   ],
   "source": [
    "print(classification_report(y,RF.predict(X)))"
   ]
  },
  {
   "cell_type": "code",
   "execution_count": 105,
   "metadata": {},
   "outputs": [
    {
     "name": "stdout",
     "output_type": "stream",
     "text": [
      "              precision    recall  f1-score   support\n",
      "\n",
      "           0       0.89      0.92      0.91       549\n",
      "           1       0.87      0.82      0.84       342\n",
      "\n",
      "    accuracy                           0.88       891\n",
      "   macro avg       0.88      0.87      0.88       891\n",
      "weighted avg       0.88      0.88      0.88       891\n",
      "\n"
     ]
    }
   ],
   "source": [
    "print(classification_report(y,LR.predict(X)))"
   ]
  },
  {
   "cell_type": "code",
   "execution_count": 99,
   "metadata": {},
   "outputs": [
    {
     "name": "stdout",
     "output_type": "stream",
     "text": [
      "              precision    recall  f1-score   support\n",
      "\n",
      "           0       0.88      0.93      0.90       549\n",
      "           1       0.87      0.80      0.84       342\n",
      "\n",
      "    accuracy                           0.88       891\n",
      "   macro avg       0.88      0.87      0.87       891\n",
      "weighted avg       0.88      0.88      0.88       891\n",
      "\n"
     ]
    }
   ],
   "source": [
    "print(classification_report(y,V_Clf.predict(X)))"
   ]
  },
  {
   "cell_type": "code",
   "execution_count": 81,
   "metadata": {},
   "outputs": [
    {
     "data": {
      "text/plain": [
       "0.8821548821548821"
      ]
     },
     "execution_count": 81,
     "metadata": {},
     "output_type": "execute_result"
    }
   ],
   "source": [
    "V_Clf.score(X,y)"
   ]
  },
  {
   "cell_type": "code",
   "execution_count": null,
   "metadata": {},
   "outputs": [],
   "source": [
    "\n",
    "#Last_n2_Survival[Last_n2_Survival[\"Survived\"]>0.75]=\"High Sur. Rate of L_n2\"\n",
    "print(np.corrcoef((df_train.Parch), y))\n",
    "np.corrcoef((df_train.SibSp), y)"
   ]
  },
  {
   "cell_type": "code",
   "execution_count": null,
   "metadata": {},
   "outputs": [],
   "source": [
    "np.corrcoef((df_train.SibSp-df_train.Parch), y)"
   ]
  },
  {
   "cell_type": "code",
   "execution_count": null,
   "metadata": {},
   "outputs": [],
   "source": [
    "sns.scatterplot(data=df_train,hue=\"Survived\",style='Sex',x=np.sqrt((df_train.SibSp-df_train.Parch)**2),y='f_size',alpha=0.2)"
   ]
  },
  {
   "cell_type": "code",
   "execution_count": null,
   "metadata": {},
   "outputs": [],
   "source": [
    "sns.scatterplot(data=df_test,hue=\"Sex\",x=(df_test.SibSp-df_test.Parch),y=\"f_size\",alpha=0.3)"
   ]
  },
  {
   "cell_type": "code",
   "execution_count": null,
   "metadata": {},
   "outputs": [],
   "source": [
    "sns.scatterplot(data=df_train,hue=\"Sex\",x=(df_train.SibSp-df_train.Parch),y=\"f_size\",alpha=0.3)"
   ]
  },
  {
   "cell_type": "code",
   "execution_count": null,
   "metadata": {},
   "outputs": [],
   "source": [
    "print(classification_report(y,V_Clf.predict(X)))\n"
   ]
  },
  {
   "cell_type": "code",
   "execution_count": null,
   "metadata": {},
   "outputs": [],
   "source": [
    "SVC_Linear_PL."
   ]
  },
  {
   "cell_type": "code",
   "execution_count": null,
   "metadata": {
    "scrolled": true
   },
   "outputs": [],
   "source": [
    "gkgkg"
   ]
  },
  {
   "cell_type": "code",
   "execution_count": null,
   "metadata": {},
   "outputs": [],
   "source": []
  },
  {
   "cell_type": "code",
   "execution_count": null,
   "metadata": {},
   "outputs": [],
   "source": []
  },
  {
   "cell_type": "code",
   "execution_count": null,
   "metadata": {},
   "outputs": [],
   "source": []
  },
  {
   "cell_type": "code",
   "execution_count": 109,
   "metadata": {},
   "outputs": [
    {
     "data": {
      "text/plain": [
       "{'Cabin_T', 'Title_Gordon,', 'Title_Impe,', 'Title_Major.', 'Title_Mlle.'}"
      ]
     },
     "execution_count": 109,
     "metadata": {},
     "output_type": "execute_result"
    }
   ],
   "source": [
    "columns_not_in_test = set( X.columns ) - set( df_test.columns )\n",
    "columns_not_in_test"
   ]
  },
  {
   "cell_type": "code",
   "execution_count": 110,
   "metadata": {},
   "outputs": [
    {
     "data": {
      "text/plain": [
       "Index(['Pclass', 'Sex', 'Age', 'SibSp', 'Parch', 'Fare', 'f_size',\n",
       "       'Title_Col.', 'Title_Dr.', 'Title_Master.', 'Title_Miss.', 'Title_Mr.',\n",
       "       'Title_Mrs.', 'Title_Other_Title', 'Title_Planke,', 'Title_Rev.',\n",
       "       'Title_y', 'Embarked_C', 'Embarked_Q', 'Embarked_S', 'Cabin_A',\n",
       "       'Cabin_B', 'Cabin_C', 'Cabin_D', 'Cabin_E', 'Cabin_F', 'Cabin_G',\n",
       "       'Cabin_O', 'Last_n2_High', 'Last_n2_Low', 'Last_n2_V_High',\n",
       "       'Last_n2_V_Low', 'Title_Mlle.', 'Title_Major.', 'Title_Impe,',\n",
       "       'Title_Gordon,', 'Cabin_T'],\n",
       "      dtype='object')"
      ]
     },
     "execution_count": 110,
     "metadata": {},
     "output_type": "execute_result"
    }
   ],
   "source": [
    "for i in columns_not_in_test:\n",
    "    df_test[i] = 0\n",
    "df_test.columns"
   ]
  },
  {
   "cell_type": "code",
   "execution_count": 111,
   "metadata": {},
   "outputs": [
    {
     "data": {
      "text/plain": [
       "(37, 37)"
      ]
     },
     "execution_count": 111,
     "metadata": {},
     "output_type": "execute_result"
    }
   ],
   "source": [
    "len(df_test.columns),len(X.columns)"
   ]
  },
  {
   "cell_type": "code",
   "execution_count": 112,
   "metadata": {},
   "outputs": [],
   "source": [
    "df_test = df_test[X.columns]"
   ]
  },
  {
   "cell_type": "code",
   "execution_count": 106,
   "metadata": {},
   "outputs": [],
   "source": [
    "v_clf=VotingClassifier(classifiers,n_jobs=-1,voting='hard')"
   ]
  },
  {
   "cell_type": "code",
   "execution_count": 107,
   "metadata": {},
   "outputs": [
    {
     "data": {
      "text/plain": [
       "VotingClassifier(estimators=[('Logistic Regression',\n",
       "                              LogisticRegression(C=3, class_weight=None,\n",
       "                                                 dual=False, fit_intercept=True,\n",
       "                                                 intercept_scaling=1,\n",
       "                                                 l1_ratio=None, max_iter=1000,\n",
       "                                                 multi_class='warn',\n",
       "                                                 n_jobs=None, penalty='l2',\n",
       "                                                 random_state=None,\n",
       "                                                 solver='warn', tol=0.0001,\n",
       "                                                 verbose=0, warm_start=False)),\n",
       "                             ('Random forest',\n",
       "                              RandomForestClassifier(bootstrap=True,\n",
       "                                                     class_weig...\n",
       "                                       steps=[('standardscaler',\n",
       "                                               StandardScaler(copy=True,\n",
       "                                                              with_mean=True,\n",
       "                                                              with_std=True)),\n",
       "                                              ('linearsvc',\n",
       "                                               LinearSVC(C=0.5,\n",
       "                                                         class_weight=None,\n",
       "                                                         dual=True,\n",
       "                                                         fit_intercept=True,\n",
       "                                                         intercept_scaling=1,\n",
       "                                                         loss='squared_hinge',\n",
       "                                                         max_iter=4000,\n",
       "                                                         multi_class='ovr',\n",
       "                                                         penalty='l2',\n",
       "                                                         random_state=None,\n",
       "                                                         tol=0.0001,\n",
       "                                                         verbose=0))],\n",
       "                                       verbose=False))],\n",
       "                 flatten_transform=True, n_jobs=-1, voting='hard',\n",
       "                 weights=None)"
      ]
     },
     "execution_count": 107,
     "metadata": {},
     "output_type": "execute_result"
    }
   ],
   "source": [
    "v_clf.fit(X,y)"
   ]
  },
  {
   "cell_type": "code",
   "execution_count": 108,
   "metadata": {},
   "outputs": [
    {
     "data": {
      "text/plain": [
       "0.8832772166105499"
      ]
     },
     "execution_count": 108,
     "metadata": {},
     "output_type": "execute_result"
    }
   ],
   "source": [
    "v_clf.score(X,y)"
   ]
  },
  {
   "cell_type": "code",
   "execution_count": 121,
   "metadata": {},
   "outputs": [
    {
     "name": "stdout",
     "output_type": "stream",
     "text": [
      "              precision    recall  f1-score   support\n",
      "\n",
      "           0       0.89      0.93      0.91       549\n",
      "           1       0.87      0.81      0.84       342\n",
      "\n",
      "    accuracy                           0.88       891\n",
      "   macro avg       0.88      0.87      0.87       891\n",
      "weighted avg       0.88      0.88      0.88       891\n",
      "\n"
     ]
    }
   ],
   "source": [
    "print(classification_report(y,v_clf.predict(X)))"
   ]
  },
  {
   "cell_type": "code",
   "execution_count": 114,
   "metadata": {},
   "outputs": [
    {
     "data": {
      "text/plain": [
       "array([0, 1, 0, 0, 1, 0, 1, 1, 1, 0, 0, 0, 1, 0, 1, 1, 0, 0, 1, 1, 0, 0,\n",
       "       1, 0, 1, 0, 1, 0, 0, 0, 0, 0, 1, 0, 0, 0, 1, 0, 0, 0, 0, 1, 0, 1,\n",
       "       1, 0, 0, 0, 1, 1, 0, 0, 1, 1, 0, 0, 0, 0, 0, 1, 0, 0, 0, 1, 1, 1,\n",
       "       1, 0, 0, 1, 1, 0, 1, 1, 1, 0, 0, 1, 0, 1, 0, 0, 0, 0, 0, 0, 1, 1,\n",
       "       1, 1, 1, 0, 1, 0, 0, 0, 1, 0, 1, 0, 1, 0, 0, 0, 1, 0, 0, 0, 0, 0,\n",
       "       0, 1, 1, 1, 1, 0, 0, 1, 0, 0, 1, 0, 1, 0, 0, 1, 0, 1, 0, 0, 0, 0,\n",
       "       0, 0, 0, 0, 0, 0, 1, 0, 0, 1, 1, 0, 0, 0, 1, 0, 0, 0, 1, 0, 0, 1,\n",
       "       1, 0, 1, 1, 0, 1, 1, 1, 1, 0, 0, 1, 0, 0, 1, 1, 0, 0, 0, 0, 0, 1,\n",
       "       1, 0, 1, 1, 0, 0, 1, 0, 1, 0, 1, 0, 0, 0, 0, 0, 0, 0, 1, 0, 1, 1,\n",
       "       0, 1, 1, 0, 1, 1, 0, 0, 1, 0, 1, 0, 0, 0, 0, 1, 0, 0, 1, 1, 1, 0,\n",
       "       1, 0, 1, 0, 1, 1, 0, 1, 0, 0, 0, 1, 0, 0, 0, 0, 0, 0, 1, 1, 1, 1,\n",
       "       0, 0, 0, 0, 1, 0, 1, 1, 1, 0, 0, 0, 0, 0, 0, 0, 1, 0, 0, 0, 1, 1,\n",
       "       0, 0, 0, 0, 1, 0, 0, 0, 1, 1, 0, 1, 0, 0, 0, 0, 0, 1, 1, 1, 0, 0,\n",
       "       0, 0, 0, 0, 0, 1, 0, 0, 0, 0, 1, 0, 0, 0, 0, 0, 0, 0, 1, 1, 0, 1,\n",
       "       1, 0, 0, 0, 0, 1, 0, 1, 0, 0, 0, 0, 0, 0, 0, 0, 1, 0, 1, 0, 0, 0,\n",
       "       1, 0, 0, 1, 0, 0, 0, 0, 0, 1, 0, 0, 0, 1, 0, 1, 0, 1, 0, 1, 1, 0,\n",
       "       0, 1, 1, 0, 1, 0, 0, 1, 0, 1, 1, 0, 1, 0, 0, 1, 1, 0, 0, 1, 0, 0,\n",
       "       1, 1, 1, 0, 0, 1, 0, 0, 1, 1, 0, 1, 0, 0, 0, 0, 0, 1, 1, 0, 0, 0,\n",
       "       0, 1, 0, 0, 1, 0, 1, 0, 1, 1, 0, 0, 1, 1, 1, 1, 1, 0, 1, 0, 0, 1],\n",
       "      dtype=int64)"
      ]
     },
     "execution_count": 114,
     "metadata": {},
     "output_type": "execute_result"
    }
   ],
   "source": [
    "Test_pred4=v_clf.predict(df_test)\n",
    "Test_pred4"
   ]
  },
  {
   "cell_type": "code",
   "execution_count": 115,
   "metadata": {},
   "outputs": [],
   "source": [
    "Passengerid=pd.read_csv(\"test.csv\")[\"PassengerId\"]\n",
    "my_submission4a = pd.DataFrame({'PassengerId': Passengerid, 'Survived': Test_pred4})\n",
    "my_submission4a.to_csv('submission4a.csv', index=False)"
   ]
  },
  {
   "cell_type": "code",
   "execution_count": null,
   "metadata": {},
   "outputs": [],
   "source": [
    "sns.boxplot(data=df_train,hue=\"Survived\",y=df_train.SibSp-df_train.Parch,x=\"Sex\")"
   ]
  },
  {
   "cell_type": "code",
   "execution_count": null,
   "metadata": {},
   "outputs": [],
   "source": [
    "sns.boxplot(data=df_train,x=\"Survived\",y=(df_train.SibSp-df_train.Parch),hue=\"f_size\")"
   ]
  },
  {
   "cell_type": "code",
   "execution_count": null,
   "metadata": {},
   "outputs": [],
   "source": [
    "sns.countplot(data=df_train,x=\"Survived\",hue=df_train.SibSp-df_train.Parch)"
   ]
  },
  {
   "cell_type": "code",
   "execution_count": null,
   "metadata": {},
   "outputs": [],
   "source": [
    "sns.countplot(data=df_train,hue=\"Survived\",x=(df_train.SibSp-df_train.Parch)+df_train.f_size)"
   ]
  },
  {
   "cell_type": "code",
   "execution_count": null,
   "metadata": {},
   "outputs": [],
   "source": [
    "sns.countplot(data=df_train,x=\"Survived\",hue=df_train.SibSp-df_train.Parch)"
   ]
  },
  {
   "cell_type": "code",
   "execution_count": null,
   "metadata": {},
   "outputs": [],
   "source": [
    "df_train.groupby(\"f_size\").std().sort_values(by='Survived', ascending=False)"
   ]
  },
  {
   "cell_type": "code",
   "execution_count": null,
   "metadata": {},
   "outputs": [],
   "source": [
    "df_train.groupby(\"Parch\").std().sort_values(by='Survived', ascending=False)"
   ]
  },
  {
   "cell_type": "code",
   "execution_count": null,
   "metadata": {},
   "outputs": [],
   "source": [
    "df_train.groupby(df_train.SibSp-df_train.Parch).std().sort_values(by='Survived', ascending=False)"
   ]
  },
  {
   "cell_type": "code",
   "execution_count": 116,
   "metadata": {},
   "outputs": [
    {
     "data": {
      "text/plain": [
       "array([0, 1, 0, 0, 1, 0, 1, 1, 1, 0, 0, 0, 1, 0, 1, 1, 0, 0, 1, 1, 0, 0,\n",
       "       1, 0, 1, 0, 1, 0, 0, 0, 0, 0, 1, 0, 0, 0, 1, 0, 0, 0, 0, 0, 0, 1,\n",
       "       1, 0, 0, 0, 1, 1, 0, 0, 1, 1, 0, 0, 0, 0, 0, 1, 0, 0, 0, 1, 1, 1,\n",
       "       1, 0, 0, 1, 1, 0, 1, 0, 1, 0, 0, 1, 0, 1, 0, 0, 0, 0, 0, 0, 1, 1,\n",
       "       1, 1, 1, 0, 1, 0, 0, 0, 1, 0, 1, 0, 1, 0, 0, 0, 1, 0, 0, 0, 0, 0,\n",
       "       0, 1, 1, 1, 1, 0, 0, 1, 0, 0, 1, 0, 1, 0, 0, 1, 0, 1, 0, 0, 0, 0,\n",
       "       0, 0, 0, 0, 0, 0, 1, 0, 0, 1, 1, 0, 0, 0, 0, 0, 0, 0, 1, 0, 0, 1,\n",
       "       0, 0, 1, 1, 0, 1, 1, 1, 1, 0, 0, 1, 0, 0, 1, 1, 0, 0, 0, 0, 0, 1,\n",
       "       1, 0, 1, 1, 0, 1, 1, 0, 1, 0, 1, 0, 0, 0, 0, 0, 0, 0, 1, 0, 1, 1,\n",
       "       0, 1, 1, 0, 0, 1, 0, 0, 1, 0, 1, 0, 0, 0, 0, 1, 0, 0, 1, 1, 1, 0,\n",
       "       1, 0, 1, 0, 1, 1, 0, 1, 0, 0, 0, 1, 0, 0, 0, 0, 0, 0, 1, 1, 1, 1,\n",
       "       0, 0, 0, 0, 1, 0, 1, 1, 1, 0, 0, 0, 0, 0, 0, 0, 1, 0, 0, 0, 1, 1,\n",
       "       0, 0, 0, 0, 1, 0, 0, 0, 1, 1, 0, 1, 0, 0, 0, 0, 0, 1, 1, 1, 0, 0,\n",
       "       0, 0, 0, 0, 0, 1, 0, 0, 0, 0, 1, 0, 0, 0, 0, 0, 0, 0, 1, 1, 0, 1,\n",
       "       1, 0, 0, 0, 0, 1, 1, 1, 0, 0, 0, 0, 0, 0, 0, 0, 1, 0, 1, 0, 0, 0,\n",
       "       1, 0, 0, 1, 0, 0, 0, 0, 0, 1, 0, 0, 0, 1, 0, 1, 0, 1, 0, 1, 1, 0,\n",
       "       0, 1, 1, 0, 1, 0, 0, 1, 0, 1, 1, 0, 1, 0, 0, 1, 1, 0, 0, 1, 0, 0,\n",
       "       1, 1, 1, 0, 0, 1, 0, 0, 1, 1, 0, 1, 0, 0, 0, 0, 0, 1, 1, 0, 0, 0,\n",
       "       0, 1, 0, 0, 1, 0, 1, 0, 1, 0, 0, 0, 1, 1, 1, 1, 1, 0, 1, 0, 0, 1],\n",
       "      dtype=int64)"
      ]
     },
     "execution_count": 116,
     "metadata": {},
     "output_type": "execute_result"
    }
   ],
   "source": [
    "Test_pred3b=RF.predict(df_test)\n",
    "Test_pred3b"
   ]
  },
  {
   "cell_type": "code",
   "execution_count": null,
   "metadata": {},
   "outputs": [],
   "source": [
    "Passengerid=pd.read_csv(\"test.csv\")[\"PassengerId\"]\n",
    "my_submission3b = pd.DataFrame({'PassengerId': Passengerid, 'Survived': Test_pred3b})\n",
    "my_submission3b.to_csv('submission3b.csv', index=False)"
   ]
  },
  {
   "cell_type": "code",
   "execution_count": 117,
   "metadata": {},
   "outputs": [
    {
     "name": "stdout",
     "output_type": "stream",
     "text": [
      "              precision    recall  f1-score   support\n",
      "\n",
      "           0       0.88      0.95      0.91       549\n",
      "           1       0.90      0.79      0.84       342\n",
      "\n",
      "    accuracy                           0.89       891\n",
      "   macro avg       0.89      0.87      0.88       891\n",
      "weighted avg       0.89      0.89      0.89       891\n",
      "\n"
     ]
    }
   ],
   "source": [
    "print(classification_report(y,RF.predict(X)))"
   ]
  },
  {
   "cell_type": "code",
   "execution_count": 118,
   "metadata": {},
   "outputs": [],
   "source": [
    "rf=RandomForestClassifier(criterion= 'entropy', max_depth= 6, n_estimators= 20,n_jobs=-1)"
   ]
  },
  {
   "cell_type": "code",
   "execution_count": 119,
   "metadata": {},
   "outputs": [
    {
     "data": {
      "text/plain": [
       "RandomForestClassifier(bootstrap=True, class_weight=None, criterion='entropy',\n",
       "                       max_depth=6, max_features='auto', max_leaf_nodes=None,\n",
       "                       min_impurity_decrease=0.0, min_impurity_split=None,\n",
       "                       min_samples_leaf=1, min_samples_split=2,\n",
       "                       min_weight_fraction_leaf=0.0, n_estimators=20, n_jobs=-1,\n",
       "                       oob_score=False, random_state=None, verbose=0,\n",
       "                       warm_start=False)"
      ]
     },
     "execution_count": 119,
     "metadata": {},
     "output_type": "execute_result"
    }
   ],
   "source": [
    "rf.fit(X,y)"
   ]
  },
  {
   "cell_type": "code",
   "execution_count": 120,
   "metadata": {},
   "outputs": [
    {
     "name": "stdout",
     "output_type": "stream",
     "text": [
      "              precision    recall  f1-score   support\n",
      "\n",
      "           0       0.88      0.94      0.91       549\n",
      "           1       0.89      0.80      0.84       342\n",
      "\n",
      "    accuracy                           0.88       891\n",
      "   macro avg       0.88      0.87      0.88       891\n",
      "weighted avg       0.88      0.88      0.88       891\n",
      "\n"
     ]
    }
   ],
   "source": [
    "print(classification_report(y,rf.predict(X)))"
   ]
  },
  {
   "cell_type": "code",
   "execution_count": 123,
   "metadata": {},
   "outputs": [
    {
     "data": {
      "text/plain": [
       "array([0, 1, 0, 0, 1, 0, 1, 1, 1, 0, 0, 0, 1, 0, 1, 1, 0, 0, 1, 1, 0, 0,\n",
       "       1, 0, 1, 0, 1, 0, 0, 0, 0, 0, 1, 0, 0, 0, 1, 0, 0, 0, 0, 0, 0, 1,\n",
       "       1, 0, 0, 0, 1, 1, 0, 0, 1, 1, 0, 0, 0, 0, 0, 1, 0, 0, 0, 1, 1, 1,\n",
       "       1, 0, 0, 1, 1, 0, 1, 1, 1, 0, 0, 1, 0, 1, 0, 0, 0, 0, 0, 0, 1, 1,\n",
       "       0, 1, 1, 0, 1, 0, 0, 0, 1, 0, 1, 0, 1, 0, 0, 0, 1, 0, 0, 0, 0, 0,\n",
       "       0, 1, 1, 1, 1, 0, 0, 1, 0, 0, 1, 0, 1, 0, 0, 1, 0, 1, 0, 0, 0, 1,\n",
       "       0, 0, 0, 0, 0, 0, 1, 0, 0, 1, 1, 0, 0, 0, 0, 0, 0, 0, 1, 0, 0, 1,\n",
       "       0, 0, 1, 1, 0, 1, 1, 1, 1, 0, 0, 1, 0, 0, 1, 1, 0, 0, 0, 0, 0, 1,\n",
       "       1, 0, 1, 1, 0, 0, 1, 0, 1, 0, 1, 0, 0, 0, 0, 0, 0, 0, 1, 0, 1, 1,\n",
       "       0, 1, 1, 0, 1, 1, 0, 0, 1, 0, 1, 0, 0, 0, 0, 1, 0, 0, 1, 1, 1, 0,\n",
       "       1, 0, 1, 0, 1, 1, 0, 1, 0, 0, 0, 1, 0, 0, 0, 0, 0, 0, 1, 1, 1, 1,\n",
       "       0, 0, 0, 0, 1, 0, 1, 1, 1, 0, 0, 0, 0, 0, 0, 0, 1, 0, 0, 0, 1, 1,\n",
       "       0, 0, 0, 0, 1, 0, 0, 0, 1, 1, 0, 1, 0, 0, 0, 0, 0, 1, 1, 1, 0, 0,\n",
       "       0, 0, 0, 0, 0, 1, 0, 1, 0, 0, 1, 0, 0, 0, 0, 0, 0, 0, 1, 1, 0, 1,\n",
       "       1, 0, 0, 0, 0, 1, 1, 1, 0, 0, 0, 0, 0, 0, 0, 0, 1, 0, 1, 0, 0, 0,\n",
       "       1, 0, 0, 1, 0, 0, 0, 0, 0, 1, 0, 0, 0, 1, 0, 1, 0, 1, 0, 1, 1, 0,\n",
       "       0, 1, 1, 0, 1, 0, 0, 1, 0, 1, 1, 0, 1, 0, 0, 1, 1, 0, 0, 1, 0, 0,\n",
       "       1, 1, 1, 0, 0, 1, 0, 0, 1, 1, 0, 1, 0, 0, 0, 0, 0, 1, 1, 0, 0, 0,\n",
       "       0, 1, 0, 0, 1, 0, 1, 0, 1, 0, 0, 0, 1, 1, 1, 1, 1, 0, 1, 0, 0, 1],\n",
       "      dtype=int64)"
      ]
     },
     "execution_count": 123,
     "metadata": {},
     "output_type": "execute_result"
    }
   ],
   "source": [
    "Test_pred4c=rf.predict(df_test)\n",
    "Test_pred4c"
   ]
  },
  {
   "cell_type": "code",
   "execution_count": 126,
   "metadata": {},
   "outputs": [
    {
     "data": {
      "text/plain": [
       "array([ 0,  0,  0,  0,  0,  0,  0,  0,  0,  0,  0,  0,  0,  0,  0,  0,  0,\n",
       "        0,  0,  0,  0,  0,  0,  0,  0,  0,  0,  0,  0,  0,  0,  0,  0,  0,\n",
       "        0,  0,  0,  0,  0,  0,  0, -1,  0,  0,  0,  0,  0,  0,  0,  0,  0,\n",
       "        0,  0,  0,  0,  0,  0,  0,  0,  0,  0,  0,  0,  0,  0,  0,  0,  0,\n",
       "        0,  0,  0,  0,  0,  0,  0,  0,  0,  0,  0,  0,  0,  0,  0,  0,  0,\n",
       "        0,  0,  0, -1,  0,  0,  0,  0,  0,  0,  0,  0,  0,  0,  0,  0,  0,\n",
       "        0,  0,  0,  0,  0,  0,  0,  0,  0,  0,  0,  0,  0,  0,  0,  0,  0,\n",
       "        0,  0,  0,  0,  0,  0,  0,  0,  0,  0,  0,  0,  1,  0,  0,  0,  0,\n",
       "        0,  0,  0,  0,  0,  0,  0,  0,  0,  0, -1,  0,  0,  0,  0,  0,  0,\n",
       "        0, -1,  0,  0,  0,  0,  0,  0,  0,  0,  0,  0,  0,  0,  0,  0,  0,\n",
       "        0,  0,  0,  0,  0,  0,  0,  0,  0,  0,  0,  0,  0,  0,  0,  0,  0,\n",
       "        0,  0,  0,  0,  0,  0,  0,  0,  0,  0,  0,  0,  0,  0,  0,  0,  0,\n",
       "        0,  0,  0,  0,  0,  0,  0,  0,  0,  0,  0,  0,  0,  0,  0,  0,  0,\n",
       "        0,  0,  0,  0,  0,  0,  0,  0,  0,  0,  0,  0,  0,  0,  0,  0,  0,\n",
       "        0,  0,  0,  0,  0,  0,  0,  0,  0,  0,  0,  0,  0,  0,  0,  0,  0,\n",
       "        0,  0,  0,  0,  0,  0,  0,  0,  0,  0,  0,  0,  0,  0,  0,  0,  0,\n",
       "        0,  0,  0,  0,  0,  0,  0,  0,  0,  0,  0,  0,  0,  0,  0,  0,  0,\n",
       "        0,  0,  0,  0,  1,  0,  0,  0,  0,  0,  0,  0,  0,  0,  0,  0,  0,\n",
       "        0,  0,  0,  0,  0,  0,  0,  0,  1,  0,  0,  0,  0,  0,  0,  0,  0,\n",
       "        0,  0,  0,  0,  0,  0,  0,  0,  0,  0,  0,  0,  0,  0,  0,  0,  0,\n",
       "        0,  0,  0,  0,  0,  0,  0,  0,  0,  0,  0,  0,  0,  0,  0,  0,  0,\n",
       "        0,  0,  0,  0,  0,  0,  0,  0,  0,  0,  0,  0,  0,  0,  0,  0,  0,\n",
       "        0,  0,  0,  0,  0,  0,  0,  0,  0,  0,  0,  0,  0,  0,  0,  0,  0,\n",
       "        0,  0,  0,  0,  0,  0,  0,  0,  0,  0,  0,  0,  0,  0, -1,  0,  0,\n",
       "        0,  0,  0,  0,  0,  0,  0,  0,  0,  0], dtype=int64)"
      ]
     },
     "execution_count": 126,
     "metadata": {},
     "output_type": "execute_result"
    }
   ],
   "source": [
    "Test_pred4c-Test_pred4"
   ]
  },
  {
   "cell_type": "code",
   "execution_count": 127,
   "metadata": {},
   "outputs": [],
   "source": [
    "Passengerid=pd.read_csv(\"test.csv\")[\"PassengerId\"]\n",
    "my_submission4c = pd.DataFrame({'PassengerId': Passengerid, 'Survived': Test_pred4c})\n",
    "my_submission4c.to_csv('submission4c.csv', index=False)"
   ]
  },
  {
   "cell_type": "code",
   "execution_count": null,
   "metadata": {},
   "outputs": [],
   "source": []
  }
 ],
 "metadata": {
  "kernelspec": {
   "display_name": "Python 3",
   "language": "python",
   "name": "python3"
  },
  "language_info": {
   "codemirror_mode": {
    "name": "ipython",
    "version": 3
   },
   "file_extension": ".py",
   "mimetype": "text/x-python",
   "name": "python",
   "nbconvert_exporter": "python",
   "pygments_lexer": "ipython3",
   "version": "3.7.3"
  }
 },
 "nbformat": 4,
 "nbformat_minor": 4
}
